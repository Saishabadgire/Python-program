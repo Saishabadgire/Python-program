{
  "nbformat": 4,
  "nbformat_minor": 0,
  "metadata": {
    "colab": {
      "provenance": []
    },
    "kernelspec": {
      "name": "python3",
      "display_name": "Python 3"
    },
    "language_info": {
      "name": "python"
    }
  },
  "cells": [
    {
      "cell_type": "code",
      "execution_count": null,
      "metadata": {
        "id": "0bxHe8CIZAgV"
      },
      "outputs": [],
      "source": [
        "class xyz:\n",
        "  p=20\n",
        "  q=30\n",
        "\n",
        "  def fun1(self):\n",
        "    print(\"value of p:\",self.p)\n",
        "\n",
        "  def fun2(self,b):\n",
        "    m= b*self.p\n",
        "    return m\n",
        "\n",
        "\n",
        "object=xyz()"
      ]
    },
    {
      "cell_type": "code",
      "source": [
        "object.fun1()"
      ],
      "metadata": {
        "id": "cH_3fh_oZGxz",
        "colab": {
          "base_uri": "https://localhost:8080/"
        },
        "outputId": "0a7ef4a9-db2b-401f-c5fe-303a44fe8c25"
      },
      "execution_count": null,
      "outputs": [
        {
          "output_type": "stream",
          "name": "stdout",
          "text": [
            "value of p: 20\n"
          ]
        }
      ]
    },
    {
      "cell_type": "code",
      "source": [
        "from os import name\n",
        "class Dog:\n",
        "  def __init__(self,nme):\n",
        "    self.name=name\n",
        "\n",
        "  def talk(self):\n",
        "    print(\"woof !\")\n",
        "\n",
        "  def printname(self):\n",
        "    print(\"my name is:{}\".format (self.name))\n"
      ],
      "metadata": {
        "id": "nikSG0rmZHlp"
      },
      "execution_count": null,
      "outputs": []
    },
    {
      "cell_type": "code",
      "source": [
        "dog=Dog(\"Charli\")\n",
        "dog.talk()"
      ],
      "metadata": {
        "id": "ch7nb0_3ZH6e",
        "colab": {
          "base_uri": "https://localhost:8080/"
        },
        "outputId": "7692d425-790e-4333-9709-4ac83c844bc5"
      },
      "execution_count": null,
      "outputs": [
        {
          "output_type": "stream",
          "name": "stdout",
          "text": [
            "woof !\n"
          ]
        }
      ]
    },
    {
      "cell_type": "code",
      "source": [
        "dog.printname()"
      ],
      "metadata": {
        "colab": {
          "base_uri": "https://localhost:8080/"
        },
        "id": "JMjddu-57w9Q",
        "outputId": "9b4bd0bd-1fc6-4112-c568-0ffe7ec90da9"
      },
      "execution_count": null,
      "outputs": [
        {
          "output_type": "stream",
          "name": "stdout",
          "text": [
            "my name is:posix\n"
          ]
        }
      ]
    },
    {
      "cell_type": "code",
      "source": [
        "class faculty:\n",
        "  def data(self):\n",
        "    self.id=int(input(\"enter faculty id \\n\"))\n",
        "    self.name=int(input(\"enter faculty name \\n\"))\n",
        "    self.salary=int(input(\"enter faculty salary \\n\"))\n",
        "\n",
        "  def show(self):\n",
        "    print(\"faculty id:\",self.id)\n",
        "    print(\"faculty name:\",self.name)\n",
        "    print(\"faculty salary:\",self.salary)"
      ],
      "metadata": {
        "id": "l6YR63sP71sr"
      },
      "execution_count": null,
      "outputs": []
    },
    {
      "cell_type": "code",
      "source": [
        "f_data=faculty\n"
      ],
      "metadata": {
        "id": "00otf_7-81sx"
      },
      "execution_count": null,
      "outputs": []
    },
    {
      "cell_type": "code",
      "source": [
        "f_data.data"
      ],
      "metadata": {
        "id": "RON0bL7N88b3"
      },
      "execution_count": null,
      "outputs": []
    },
    {
      "cell_type": "code",
      "source": [
        "class faculty:\n",
        "  def __init__(self,id,name,salary):\n",
        "    self.id=id\n",
        "    self.name=name\n",
        "    self.salary=salary\n",
        "\n",
        "  def show(self):\n",
        "    print(\"faculty id:\",self.id)\n",
        "    print(\"faculty name:\",self.name)\n",
        "    print(\"faculty salary:\",self.salary)\n"
      ],
      "metadata": {
        "id": "Pgld6jxO9IgJ"
      },
      "execution_count": null,
      "outputs": []
    },
    {
      "cell_type": "code",
      "source": [
        "info=faculty(1,\"saisha\",50000)"
      ],
      "metadata": {
        "id": "nuIB991n9tYj"
      },
      "execution_count": null,
      "outputs": []
    },
    {
      "cell_type": "code",
      "source": [
        "info.show()"
      ],
      "metadata": {
        "colab": {
          "base_uri": "https://localhost:8080/"
        },
        "id": "zCk2or6X9uFb",
        "outputId": "bac275c0-ef9c-4949-9712-3a6de02abbf3"
      },
      "execution_count": null,
      "outputs": [
        {
          "output_type": "stream",
          "name": "stdout",
          "text": [
            "faculty id: 1\n",
            "faculty name: saisha\n",
            "faculty salary: 50000\n"
          ]
        }
      ]
    },
    {
      "cell_type": "code",
      "source": [
        "class Animal:\n",
        "  def __init__(self,name):\n",
        "    self.name=name\n",
        "\n",
        "  def speak(self):\n",
        "    return f\"{self.name} make sound\"\n",
        "\n",
        "class Dog(Animal):\n",
        "  def speak(self):\n",
        "      return f\"{self.name} barks\"\n",
        "\n",
        "class Cat(Animal):\n",
        "  def speak(self):\n",
        "      return f\"{self.name} meow\"\n"
      ],
      "metadata": {
        "id": "--b3oQ5q-Ia9"
      },
      "execution_count": null,
      "outputs": []
    },
    {
      "cell_type": "code",
      "source": [
        "animal=Animal(\"Generic Animals\")\n",
        "print(animal.speak())"
      ],
      "metadata": {
        "id": "G771VAWPZIQQ",
        "colab": {
          "base_uri": "https://localhost:8080/"
        },
        "outputId": "b4c303e2-f4bc-405a-9da5-c218518ddbb2"
      },
      "execution_count": null,
      "outputs": [
        {
          "output_type": "stream",
          "name": "stdout",
          "text": [
            "Generic Animals make sound\n"
          ]
        }
      ]
    },
    {
      "cell_type": "code",
      "source": [
        "dog=Dog(\"Max\")\n",
        "print(dog.speak())"
      ],
      "metadata": {
        "id": "n41UnafHZInu",
        "colab": {
          "base_uri": "https://localhost:8080/"
        },
        "outputId": "ba42becf-a433-45b2-e7c5-da967e862f47"
      },
      "execution_count": null,
      "outputs": [
        {
          "output_type": "stream",
          "name": "stdout",
          "text": [
            "Max barks\n"
          ]
        }
      ]
    },
    {
      "cell_type": "code",
      "source": [
        "cat=Cat(\"Mini\")\n",
        "print(cat.speak())"
      ],
      "metadata": {
        "colab": {
          "base_uri": "https://localhost:8080/"
        },
        "id": "PC75RwLf5YW5",
        "outputId": "f4aa1d2f-bc71-490d-cd72-c858f4ff3372"
      },
      "execution_count": null,
      "outputs": [
        {
          "output_type": "stream",
          "name": "stdout",
          "text": [
            "Mini meow\n"
          ]
        }
      ]
    },
    {
      "cell_type": "code",
      "source": [
        "# polymorphism\n",
        "\n",
        "def add(a,b,c=0,d=0):\n",
        "  print(a+b+c)\n",
        "\n",
        "add=(10,20,40)"
      ],
      "metadata": {
        "id": "j2ZavEna01at"
      },
      "execution_count": null,
      "outputs": []
    },
    {
      "cell_type": "code",
      "source": [
        "class Animal:\n",
        "  def sound(saisha):\n",
        "    return \"some generic animal\"\n",
        "\n",
        "class Dog:\n",
        "  def sound(saisha):\n",
        "    return \"barks\"\n",
        "\n",
        "class Cat:\n",
        "  def sound(saisha):\n",
        "    return \" meow\"\n",
        "\n",
        " # crteate objects\n",
        "\n",
        "animal=Animal()\n",
        "dog=Dog()\n",
        "cat=Cat ()\n",
        "\n",
        " # call methods\n",
        "\n",
        "print(animal.sound())\n",
        "print(cat.sound())\n",
        "print(dog.sound())"
      ],
      "metadata": {
        "colab": {
          "base_uri": "https://localhost:8080/"
        },
        "id": "GKOAfZbM015Q",
        "outputId": "63fee4ca-1e02-4d6b-f3e9-2b1b0e4732fe"
      },
      "execution_count": null,
      "outputs": [
        {
          "output_type": "stream",
          "name": "stdout",
          "text": [
            "some generic animal\n",
            " meow\n",
            "barks\n"
          ]
        }
      ]
    },
    {
      "cell_type": "code",
      "source": [
        "class car:\n",
        "  def __init__(self,name,wheels):\n",
        "    self.name = name\n",
        "    self.wheels = wheels\n",
        "\n",
        "  def start(self):\n",
        "      return f\"{self.name} is starting.\"\n",
        "\n",
        "  def description(self):\n",
        "    return f\"{self.name} has {self.wheels} wheels.\"\n",
        "\n",
        "#Truck\n",
        "class Truck:\n",
        "  def __init__(self, name, wheels):\n",
        "      self.name = name\n",
        "      self.wheels = wheels\n",
        "\n",
        "  def start(self):\n",
        "    return f\"{self.name} is starting.\"\n",
        "\n",
        "  def description(self):\n",
        "    return f\"{self.name} has {self.wheels} wheels.\"\n",
        "\n",
        "Car =car(\"Sedan\", 4)\n",
        "\n",
        "print(Car.start())   #\n",
        "print(Car.description())\n",
        "\n",
        "truck =Truck(\"International\",10)\n",
        "truck.start()\n",
        "truck.description()"
      ],
      "metadata": {
        "colab": {
          "base_uri": "https://localhost:8080/",
          "height": 72
        },
        "id": "l9Q0fSIXtD8a",
        "outputId": "22961c9e-2c36-4fe5-f539-8c0c3a3b5cea"
      },
      "execution_count": null,
      "outputs": [
        {
          "output_type": "stream",
          "name": "stdout",
          "text": [
            "Sedan is starting.\n",
            "Sedan has 4 wheels.\n"
          ]
        },
        {
          "output_type": "execute_result",
          "data": {
            "text/plain": [
              "'International has 10 wheels.'"
            ],
            "application/vnd.google.colaboratory.intrinsic+json": {
              "type": "string"
            }
          },
          "metadata": {},
          "execution_count": 1
        }
      ]
    },
    {
      "cell_type": "code",
      "source": [
        "# method overloading"
      ],
      "metadata": {
        "id": "Wod2CHnotRDc"
      },
      "execution_count": null,
      "outputs": []
    },
    {
      "cell_type": "code",
      "source": [
        "class mathoperations:\n",
        "  def add(a=0,b=0,c=0,d=0):\n",
        "    return a+b+c+d\n",
        "math_op=mathoperations\n",
        "print(math_op.add(5,34,23,2))\n"
      ],
      "metadata": {
        "colab": {
          "base_uri": "https://localhost:8080/"
        },
        "id": "u9n3NojU02SN",
        "outputId": "293fcf37-1ca2-486d-8803-a4bf4f9cc7bd"
      },
      "execution_count": null,
      "outputs": [
        {
          "output_type": "stream",
          "name": "stdout",
          "text": [
            "64\n"
          ]
        }
      ]
    },
    {
      "cell_type": "code",
      "source": [
        "# method overrriding\n",
        "\n",
        "class Worker:\n",
        "    def work(self):\n",
        "       print(\"Working\")\n",
        "    def perform_task(self):\n",
        "       print(\"Performing Task: \", end='')\n",
        "       self.work()\n",
        "\n",
        "class DeliveryMan(Worker):\n",
        "    def work(self):\n",
        "       print(\"Delivering Goods\")\n",
        "\n",
        "class LumberJack(Worker):\n",
        "     def work(self):\n",
        "        print(\"Cutting Woods\")\n",
        "\n",
        "deliveryMan = DeliveryMan()\n",
        "lumberJack = LumberJack()\n",
        "\n",
        "deliveryMan.perform_task()\n",
        "lumberJack.perform_task()\n"
      ],
      "metadata": {
        "colab": {
          "base_uri": "https://localhost:8080/"
        },
        "id": "xnQm-sD4tka0",
        "outputId": "1ae1f0da-36bc-4e88-8f7d-1dc8a731a2a2"
      },
      "execution_count": null,
      "outputs": [
        {
          "output_type": "stream",
          "name": "stdout",
          "text": [
            "Performing Task: Delivering Goods\n",
            "Performing Task: Cutting Woods\n"
          ]
        }
      ]
    },
    {
      "cell_type": "code",
      "source": [
        "# encapsulation\n",
        "\n",
        "class A:\n",
        "  a=10    #public access\n",
        "  __b=20  #private\n",
        "  def Fun1(self):\n",
        "      print(self.a)\n",
        "  def Fun2(self):\n",
        "      print(self.__b)\n",
        "\n",
        "obj=A()\n",
        "obj.a\n",
        "obj.b"
      ],
      "metadata": {
        "id": "haZFYjXF02u3"
      },
      "execution_count": null,
      "outputs": []
    },
    {
      "cell_type": "code",
      "source": [
        "class car:\n",
        "    def Price(self):\n",
        "        self.__updatesoftware()  # Corrected method name\n",
        "\n",
        "    def drive(self):\n",
        "        print('driving')\n",
        "\n",
        "    def __updatesoftware(self):  # Method name matches the one in __init__\n",
        "        print('updating Software')\n",
        "\n",
        "redcar = car()\n",
        "redcar.drive()\n",
        "redcar.Price()\n",
        "\n",
        "redcar._car__updatesoftware()  # Accessing the private method directly"
      ],
      "metadata": {
        "colab": {
          "base_uri": "https://localhost:8080/"
        },
        "id": "lYLzalqUt7po",
        "outputId": "e9a8f1a2-0249-4c40-a912-ffeedc58616b"
      },
      "execution_count": null,
      "outputs": [
        {
          "output_type": "stream",
          "name": "stdout",
          "text": [
            "driving\n",
            "updating Software\n",
            "updating Software\n"
          ]
        }
      ]
    },
    {
      "cell_type": "code",
      "source": [
        "class SomeClass:\n",
        "  def public(self):\n",
        "    print(\"Public function\")\n",
        "\n",
        "  def __private(self):   #private method\n",
        "    print(\"Private Function\")\n",
        "\n",
        "obj = SomeClass()\n",
        "obj.public()\n",
        "obj._SomeClass__private()    #Name Mangling\n"
      ],
      "metadata": {
        "colab": {
          "base_uri": "https://localhost:8080/"
        },
        "id": "_IMSkS3VuA2E",
        "outputId": "61b05279-ffec-4708-b3e3-15d6cf034c20"
      },
      "execution_count": null,
      "outputs": [
        {
          "output_type": "stream",
          "name": "stdout",
          "text": [
            "Public function\n",
            "Private Function\n"
          ]
        }
      ]
    },
    {
      "cell_type": "code",
      "source": [
        "class Encapsulation:\n",
        "  def __init__(self):\n",
        "    print(self.__b)\n",
        "\n",
        "  a=100\n",
        "  __b=200\n",
        "\n",
        "ob = Encapsulation()\n",
        "print(ob.a)"
      ],
      "metadata": {
        "colab": {
          "base_uri": "https://localhost:8080/"
        },
        "id": "xD9-NdHEutzC",
        "outputId": "cd85fcd6-a9de-4474-bba3-a0b7cb9a6350"
      },
      "execution_count": null,
      "outputs": [
        {
          "output_type": "stream",
          "name": "stdout",
          "text": [
            "200\n",
            "100\n"
          ]
        }
      ]
    },
    {
      "cell_type": "code",
      "source": [
        "class Describe:\n",
        "  def __init__(self):\n",
        "    self.__fun2()\n",
        "\n",
        "  def fun1(self):\n",
        "    print(\"I am a public method\")\n",
        "    #a\n",
        "\n",
        "  def __fun2(self):\n",
        "    print(\"I am the private number\")\n",
        "\n",
        "D= Describe()\n",
        "D.fun1()"
      ],
      "metadata": {
        "colab": {
          "base_uri": "https://localhost:8080/"
        },
        "id": "pprmeSYpuzRn",
        "outputId": "6693f9c1-c5a3-41a0-f469-21a67e900e56"
      },
      "execution_count": null,
      "outputs": [
        {
          "output_type": "stream",
          "name": "stdout",
          "text": [
            "I am the private number\n",
            "I am a public method\n"
          ]
        }
      ]
    },
    {
      "cell_type": "code",
      "source": [
        "# exception handling\n",
        "\n",
        "#.dividion error\n",
        "\n",
        "a=int(input(\"enter A value for a\"))\n",
        "b=int(input(\"enter A value for b\"))\n",
        "\n",
        "c=a/b\n",
        "print(c)"
      ],
      "metadata": {
        "colab": {
          "base_uri": "https://localhost:8080/",
          "height": 238
        },
        "id": "pl_AFmbL03qd",
        "outputId": "32c644ce-04a5-4b46-c3d5-62b1b79b2d9a"
      },
      "execution_count": null,
      "outputs": [
        {
          "name": "stdout",
          "output_type": "stream",
          "text": [
            "enter A value for a2\n",
            "enter A value for b0\n"
          ]
        },
        {
          "output_type": "error",
          "ename": "ZeroDivisionError",
          "evalue": "division by zero",
          "traceback": [
            "\u001b[0;31m---------------------------------------------------------------------------\u001b[0m",
            "\u001b[0;31mZeroDivisionError\u001b[0m                         Traceback (most recent call last)",
            "\u001b[0;32m<ipython-input-30-49237e1d629f>\u001b[0m in \u001b[0;36m<cell line: 0>\u001b[0;34m()\u001b[0m\n\u001b[1;32m      6\u001b[0m \u001b[0mb\u001b[0m\u001b[0;34m=\u001b[0m\u001b[0mint\u001b[0m\u001b[0;34m(\u001b[0m\u001b[0minput\u001b[0m\u001b[0;34m(\u001b[0m\u001b[0;34m\"enter A value for b\"\u001b[0m\u001b[0;34m)\u001b[0m\u001b[0;34m)\u001b[0m\u001b[0;34m\u001b[0m\u001b[0;34m\u001b[0m\u001b[0m\n\u001b[1;32m      7\u001b[0m \u001b[0;34m\u001b[0m\u001b[0m\n\u001b[0;32m----> 8\u001b[0;31m \u001b[0mc\u001b[0m\u001b[0;34m=\u001b[0m\u001b[0ma\u001b[0m\u001b[0;34m/\u001b[0m\u001b[0mb\u001b[0m\u001b[0;34m\u001b[0m\u001b[0;34m\u001b[0m\u001b[0m\n\u001b[0m\u001b[1;32m      9\u001b[0m \u001b[0mprint\u001b[0m\u001b[0;34m(\u001b[0m\u001b[0mc\u001b[0m\u001b[0;34m)\u001b[0m\u001b[0;34m\u001b[0m\u001b[0;34m\u001b[0m\u001b[0m\n",
            "\u001b[0;31mZeroDivisionError\u001b[0m: division by zero"
          ]
        }
      ]
    },
    {
      "cell_type": "code",
      "source": [
        "# editing values of private variables\n",
        "\n",
        "class Example:\n",
        "    def __init__(self, value):\n",
        "        self.__private_value = value  # Private variable\n",
        "\n",
        "    def get_value(self):\n",
        "        return self.__private_value\n",
        "\n",
        "    def set_value(self, new_value):\n",
        "        self.__private_value = new_value  # Method to modify the private variable\n",
        "\n",
        "\n",
        "# Create an instance of the class\n",
        "obj = Example(20)\n",
        "\n",
        "# Accessing and modifying the private variable using a public method\n",
        "print(\"Before:\", obj.get_value())\n",
        "obj.set_value(30)\n",
        "print(\"After:\", obj.get_value())"
      ],
      "metadata": {
        "id": "u10YwHOkG4TC",
        "colab": {
          "base_uri": "https://localhost:8080/"
        },
        "outputId": "d1da5ee0-8f42-4758-b4a5-c16635d70f58"
      },
      "execution_count": null,
      "outputs": [
        {
          "output_type": "stream",
          "name": "stdout",
          "text": [
            "Before: 20\n",
            "After: 30\n"
          ]
        }
      ]
    },
    {
      "cell_type": "code",
      "source": [
        "# directly modify private variable\n",
        "\n",
        "class Example:\n",
        "    def __init__(self, value):\n",
        "        self.__private_value = value  # Private variable\n",
        "\n",
        "# Create an instance of the class\n",
        "obj = Example(10)\n",
        "\n",
        "# Accessing the private variable using name mangling\n",
        "print(\"Before:\", obj._Example__private_value)\n",
        "\n",
        "# Modifying the private variable using name mangling\n",
        "obj._Example__private_value = 30\n",
        "print(\"After:\", obj._Example__private_value)"
      ],
      "metadata": {
        "id": "2i0-2S7IG6aK",
        "colab": {
          "base_uri": "https://localhost:8080/"
        },
        "outputId": "89099dc9-076e-4e1c-c67e-45778d80fbbe"
      },
      "execution_count": null,
      "outputs": [
        {
          "output_type": "stream",
          "name": "stdout",
          "text": [
            "Before: 10\n",
            "After: 30\n"
          ]
        }
      ]
    },
    {
      "cell_type": "code",
      "source": [
        "# advanced data structure"
      ],
      "metadata": {
        "id": "8DTSqZ-MG63e"
      },
      "execution_count": null,
      "outputs": []
    },
    {
      "cell_type": "code",
      "source": [
        "# 1.Deque\n",
        "\n",
        "from collections import deque\n",
        "# create deque\n",
        "d=deque()\n",
        "d.append(1)\n",
        "d.appendleft(2)\n",
        "print(d)\n",
        "\n",
        "d.pop\n",
        "d.popleft()\n",
        "print(d)\n",
        "\n",
        "d.extend([1,2,3])\n",
        "print(d)\n",
        "d.extendleft([4,5,6])\n",
        "print(d)"
      ],
      "metadata": {
        "colab": {
          "base_uri": "https://localhost:8080/"
        },
        "id": "N1dLtZVfG7OF",
        "outputId": "dcd3ed2b-71a0-45d5-bdeb-7116e8bcedc7"
      },
      "execution_count": null,
      "outputs": [
        {
          "output_type": "stream",
          "name": "stdout",
          "text": [
            "deque([2, 1])\n",
            "deque([1])\n",
            "deque([1, 1, 2, 3])\n",
            "deque([6, 5, 4, 1, 1, 2, 3])\n"
          ]
        }
      ]
    },
    {
      "cell_type": "code",
      "source": [
        "from collections import deque\n",
        "\n",
        "# Create a deque with an initial list of elements\n",
        "my_deque = deque([1, 2, 3, 4, 5])\n",
        "\n",
        "print(\"Initial deque:\", my_deque)\n",
        "\n",
        "# Append an element to the right (end) of the deque\n",
        "my_deque.append(6)\n",
        "print(\"After appending 6 to the right:\", my_deque)\n",
        "\n",
        "# Append an element to the left (start) of the deque\n",
        "my_deque.appendleft(0)\n",
        "print(\"After appending 0 to the left:\", my_deque)\n",
        "\n",
        "# Pop an element from the right (end) of the deque\n",
        "popped_right = my_deque.pop()\n",
        "print(f\"After popping from the right ({popped_right} removed):\", my_deque)\n",
        "\n",
        "# Pop an element from the left (start) of the deque\n",
        "popped_left = my_deque.popleft()\n",
        "print(f\"After popping from the left ({popped_left} removed):\", my_deque)\n",
        "\n",
        "# Extend the deque by adding multiple elements to the right\n",
        "my_deque.extend([7, 8])\n",
        "print(\"After extending deque on the right with [7, 8]:\", my_deque)\n",
        "\n",
        "# Extend the deque by adding multiple elements to the left\n",
        "my_deque.extendleft([-2, -1])\n",
        "print(\"After extending deque on the left with [-2, -1]:\", my_deque)\n",
        "\n",
        "# Rotate the deque by n steps (positive to the right, negative to the left)\n",
        "my_deque.rotate(3)\n",
        "print(\"After rotating right by 2:\", my_deque)\n",
        "\n",
        "my_deque.rotate(-2)\n",
        "print(\"After rotating left by 2:\", my_deque)\n",
        "\n",
        "# Clear all elements from the deque\n",
        "my_deque.clear()\n",
        "print(\"After clearing the deque:\", my_deque)"
      ],
      "metadata": {
        "colab": {
          "base_uri": "https://localhost:8080/"
        },
        "id": "KrSAjzcbwfZ6",
        "outputId": "e3857c71-86ca-433d-f52b-a30f0323c6f5"
      },
      "execution_count": null,
      "outputs": [
        {
          "output_type": "stream",
          "name": "stdout",
          "text": [
            "Initial deque: deque([1, 2, 3, 4, 5])\n",
            "After appending 6 to the right: deque([1, 2, 3, 4, 5, 6])\n",
            "After appending 0 to the left: deque([0, 1, 2, 3, 4, 5, 6])\n",
            "After popping from the right (6 removed): deque([0, 1, 2, 3, 4, 5])\n",
            "After popping from the left (0 removed): deque([1, 2, 3, 4, 5])\n",
            "After extending deque on the right with [7, 8]: deque([1, 2, 3, 4, 5, 7, 8])\n",
            "After extending deque on the left with [-2, -1]: deque([-1, -2, 1, 2, 3, 4, 5, 7, 8])\n",
            "After rotating right by 2: deque([5, 7, 8, -1, -2, 1, 2, 3, 4])\n",
            "After rotating left by 2: deque([8, -1, -2, 1, 2, 3, 4, 5, 7])\n",
            "After clearing the deque: deque([])\n"
          ]
        }
      ]
    },
    {
      "cell_type": "code",
      "source": [
        "# 2. Namedtuple\n",
        "\n",
        "from collections import namedtuple\n",
        "person=namedtuple('person',['name','age','city'])\n",
        "\n",
        "person1=person(name='saisha',age=20,city='latur')\n",
        "\n",
        "print(person1.name)\n",
        "print(person1.age)\n",
        "print(person1.city)"
      ],
      "metadata": {
        "colab": {
          "base_uri": "https://localhost:8080/"
        },
        "id": "UfTqO-VkG7iD",
        "outputId": "176aa90c-29b1-408c-9e0e-90e5c116aa12"
      },
      "execution_count": null,
      "outputs": [
        {
          "output_type": "stream",
          "name": "stdout",
          "text": [
            "saisha\n",
            "20\n",
            "latur\n"
          ]
        }
      ]
    },
    {
      "cell_type": "code",
      "source": [
        "#WITH MULTIPLE VALUES:\n",
        "\n",
        "from collections import namedtuple\n",
        "\n",
        "Person = namedtuple('person', ['name', 'age', 'city'])\n",
        "\n",
        "# Define multiple person data entries\n",
        "person_data_list = [\n",
        "    ['saisha', 28, 'latur'],\n",
        "    ['dnyana', 34, 'beed'],\n",
        "    ['vaishu', 22, 'pune'],\n",
        "    ['rutu', 45, 'nashik'],\n",
        "    ['akanksha', 30, 'up']\n",
        "]\n",
        "\n",
        "# Create a list of Person objects\n",
        "persons = [Person._make(data) for data in person_data_list]\n",
        "\n",
        "# Access fields by name\n",
        "print(\"Accessing fields by name:\")\n",
        "for person in persons:\n",
        "    print(f\"Name: {person.name}, Age: {person.age}, City: {person.city}\")\n",
        "\n",
        "# Access fields by index\n",
        "print(\"\\nAccessing fields by index:\")\n",
        "for person in persons:\n",
        "    print(f\"Name: {person[0]}, Age: {person[1]}, City: {person[2]}\")"
      ],
      "metadata": {
        "colab": {
          "base_uri": "https://localhost:8080/"
        },
        "id": "v_dB8xPEw54L",
        "outputId": "36054adc-e1e4-479f-c321-e2b4d1d8d280"
      },
      "execution_count": null,
      "outputs": [
        {
          "output_type": "stream",
          "name": "stdout",
          "text": [
            "Accessing fields by name:\n",
            "Name: saisha, Age: 28, City: latur\n",
            "Name: dnyana, Age: 34, City: beed\n",
            "Name: vaishu, Age: 22, City: pune\n",
            "Name: rutu, Age: 45, City: nashik\n",
            "Name: akanksha, Age: 30, City: up\n",
            "\n",
            "Accessing fields by index:\n",
            "Name: saisha, Age: 28, City: latur\n",
            "Name: dnyana, Age: 34, City: beed\n",
            "Name: vaishu, Age: 22, City: pune\n",
            "Name: rutu, Age: 45, City: nashik\n",
            "Name: akanksha, Age: 30, City: up\n"
          ]
        }
      ]
    },
    {
      "cell_type": "code",
      "source": [
        "# 3.chain map   ----- using multiple dictionry without merging them\n",
        "from collections import ChainMap\n",
        "\n",
        "dict1={'a':1,'b':2}\n",
        "dict2={'b':3,'c':4}\n",
        "\n",
        "combined = ChainMap(dict1,dict2)\n",
        "\n",
        "print(combined['a'])\n",
        "print(combined['b'])\n",
        "print(combined['c'])\n",
        "print(combined.maps[1]['b'])"
      ],
      "metadata": {
        "colab": {
          "base_uri": "https://localhost:8080/"
        },
        "id": "CpjHgDQPG79O",
        "outputId": "040c573f-ac93-4a65-d561-b1e15acd492c"
      },
      "execution_count": null,
      "outputs": [
        {
          "output_type": "stream",
          "name": "stdout",
          "text": [
            "1\n",
            "2\n",
            "4\n",
            "3\n"
          ]
        }
      ]
    },
    {
      "cell_type": "code",
      "source": [
        "from collections import ChainMap\n",
        "\n",
        "# Create two dictionaries\n",
        "dict1 = {'a': 1, 'b': 2, 'c': 3}\n",
        "dict2 = {'b': 4, 'd': 5, 'e': 6}\n",
        "\n",
        "# Combine the dictionaries using ChainMap\n",
        "combined = ChainMap(dict1, dict2)\n",
        "\n",
        "# Display the combined ChainMap\n",
        "print(\"Combined ChainMap:\", combined)\n",
        "\n",
        "# Accessing values\n",
        "print(\"Value of 'a':\", combined['a'])\n",
        "print(\"Value of 'b':\", combined['b'])\n",
        "print(\"Value of 'd':\", combined['d'])\n",
        "\n",
        "# Update a value\n",
        "combined['b'] = 10\n",
        "dict2['b'] = 7\n",
        "print(\"Updated 'b' in combined ChainMap:\", combined)\n",
        "print(\"Updated dict1:\", dict1)\n",
        "print(\"Updated dict2:\", dict2)\n",
        "\n",
        "# Add a new key-value pair\n",
        "combined['f'] = 7\n",
        "print(\"Added 'f' to combined ChainMap:\", combined)\n",
        "print(\"Updated dict1:\", dict1)\n",
        "print(\"Updated dict2:\", dict2)\n",
        "\n",
        "# Access all keys, values, and items\n",
        "print(\"All keys:\", list(combined.keys()))\n",
        "print(\"All values:\", list(combined.values()))\n",
        "print(\"All items:\", list(combined.items()))"
      ],
      "metadata": {
        "id": "YGWLqvkmQGht",
        "colab": {
          "base_uri": "https://localhost:8080/"
        },
        "outputId": "708a427b-df97-43f9-cec2-5c01b48e2e99"
      },
      "execution_count": null,
      "outputs": [
        {
          "output_type": "stream",
          "name": "stdout",
          "text": [
            "Combined ChainMap: ChainMap({'a': 1, 'b': 2, 'c': 3}, {'b': 4, 'd': 5, 'e': 6})\n",
            "Value of 'a': 1\n",
            "Value of 'b': 2\n",
            "Value of 'd': 5\n",
            "Updated 'b' in combined ChainMap: ChainMap({'a': 1, 'b': 10, 'c': 3}, {'b': 7, 'd': 5, 'e': 6})\n",
            "Updated dict1: {'a': 1, 'b': 10, 'c': 3}\n",
            "Updated dict2: {'b': 7, 'd': 5, 'e': 6}\n",
            "Added 'f' to combined ChainMap: ChainMap({'a': 1, 'b': 10, 'c': 3, 'f': 7}, {'b': 7, 'd': 5, 'e': 6})\n",
            "Updated dict1: {'a': 1, 'b': 10, 'c': 3, 'f': 7}\n",
            "Updated dict2: {'b': 7, 'd': 5, 'e': 6}\n",
            "All keys: ['b', 'd', 'e', 'a', 'c', 'f']\n",
            "All values: [10, 5, 6, 1, 3, 7]\n",
            "All items: [('b', 10), ('d', 5), ('e', 6), ('a', 1), ('c', 3), ('f', 7)]\n"
          ]
        }
      ]
    },
    {
      "cell_type": "code",
      "source": [
        "# 4.counters\n",
        "\n",
        "from collections import Counter\n",
        "fruits=['apple','banana','orange','apple','orange','banana','apple']\n",
        "Counter=Counter(fruits)\n",
        "print(Counter)\n",
        "\n",
        "print(Counter['apple'])\n",
        "print(Counter['banana'])\n"
      ],
      "metadata": {
        "colab": {
          "base_uri": "https://localhost:8080/"
        },
        "id": "1-AqWErHQHGh",
        "outputId": "cc41b7a8-abe1-418a-dcde-ee7beeaab641"
      },
      "execution_count": null,
      "outputs": [
        {
          "output_type": "stream",
          "name": "stdout",
          "text": [
            "Counter({'apple': 3, 'banana': 2, 'orange': 2})\n",
            "3\n",
            "2\n"
          ]
        }
      ]
    },
    {
      "cell_type": "code",
      "source": [
        "from collections import Counter\n",
        "\n",
        "# Define a sentence\n",
        "sentence = \"Python is great language and easy to learn also Python is powerful amongst all\"\n",
        "\n",
        "counter=Counter(sentence)\n",
        "# Split the sentence into words\n",
        "words = sentence.split()\n",
        "\n",
        "# Use Counter to count the occurrences of each word\n",
        "word_count = Counter(words)\n",
        "\n",
        "# Print the word count\n",
        "print(word_count)\n",
        "print(counter)"
      ],
      "metadata": {
        "id": "FByhR_gDQHUv",
        "colab": {
          "base_uri": "https://localhost:8080/"
        },
        "outputId": "62fe2379-9591-42e9-c28c-d963ab230498"
      },
      "execution_count": null,
      "outputs": [
        {
          "output_type": "stream",
          "name": "stdout",
          "text": [
            "Counter({'Python': 2, 'is': 2, 'great': 1, 'language': 1, 'and': 1, 'easy': 1, 'to': 1, 'learn': 1, 'also': 1, 'powerful': 1, 'amongst': 1, 'all': 1})\n",
            "Counter({' ': 13, 'a': 9, 'o': 6, 'n': 6, 'l': 6, 't': 5, 's': 5, 'e': 5, 'g': 4, 'y': 3, 'r': 3, 'P': 2, 'h': 2, 'i': 2, 'u': 2, 'd': 1, 'p': 1, 'w': 1, 'f': 1, 'm': 1})\n"
          ]
        }
      ]
    },
    {
      "cell_type": "code",
      "source": [],
      "metadata": {
        "id": "DzZocN2sUCuZ"
      },
      "execution_count": null,
      "outputs": []
    },
    {
      "cell_type": "code",
      "source": [
        "# 5 orders dict\n",
        "\n",
        "from collections import OrderedDict\n",
        "od=OrderedDict()\n",
        "od['a']=5\n",
        "od['b']=2\n",
        "od['c']=9\n",
        "od['d']=4\n",
        "od['e']='word'\n",
        "\n",
        "print(od)\n",
        "print(od['e'])\n",
        "print(od['b'])\n",
        "\n",
        "\n",
        "\n"
      ],
      "metadata": {
        "colab": {
          "base_uri": "https://localhost:8080/"
        },
        "id": "pV7MgOduUC6R",
        "outputId": "d0ba19c6-a10a-473e-b52c-f83d9418e359"
      },
      "execution_count": null,
      "outputs": [
        {
          "output_type": "stream",
          "name": "stdout",
          "text": [
            "OrderedDict([('a', 5), ('b', 2), ('c', 9), ('d', 4), ('e', 'word')])\n",
            "word\n",
            "2\n"
          ]
        }
      ]
    },
    {
      "cell_type": "code",
      "source": [
        "# 6.defaultdict\n",
        "\n",
        "from collections import defaultdict\n",
        "\n",
        "D=defaultdict(int)\n",
        "D['python']=1\n",
        "D['java']=2\n",
        "print(D['sql'])\n",
        "print(D)\n",
        "print(D['power bi'])\n",
        "print(D)\n",
        "\n"
      ],
      "metadata": {
        "colab": {
          "base_uri": "https://localhost:8080/"
        },
        "id": "xj1Bt3MuUC86",
        "outputId": "8f3513ba-d5de-4bee-a90a-3093973d3b52"
      },
      "execution_count": null,
      "outputs": [
        {
          "output_type": "stream",
          "name": "stdout",
          "text": [
            "0\n",
            "defaultdict(<class 'int'>, {'python': 1, 'java': 2, 'sql': 0})\n",
            "0\n",
            "defaultdict(<class 'int'>, {'python': 1, 'java': 2, 'sql': 0, 'power bi': 0})\n"
          ]
        }
      ]
    },
    {
      "cell_type": "code",
      "source": [
        "!pip install gtts\n",
        "\n",
        "from gtts import gTTS\n",
        "import os\n",
        "\n",
        "text=\"Hello and welcome!Thank you for using this application We are happy to have you here Enjoy your experience.Feel free to explore all the features. and we are here to help if you have any questions.\"\n",
        "\n",
        "speech = gTTS(text=text,lang=\"hi\")\n",
        "\n",
        "speech.save(\"output.mp3\")\n",
        "\n",
        "from google.colab import files\n",
        "files.download(\"output.mp3\")\n",
        "\n",
        "from IPython.display import Audio\n",
        "\n",
        "Audio(\"output.mp3\")\n"
      ],
      "metadata": {
        "id": "NYGVH3ktUC_4",
        "colab": {
          "base_uri": "https://localhost:8080/",
          "height": 203
        },
        "outputId": "3abe8bed-b690-49b7-bb49-57be2b92d5db"
      },
      "execution_count": null,
      "outputs": [
        {
          "output_type": "stream",
          "name": "stdout",
          "text": [
            "Requirement already satisfied: gtts in /usr/local/lib/python3.11/dist-packages (2.5.4)\n",
            "Requirement already satisfied: requests<3,>=2.27 in /usr/local/lib/python3.11/dist-packages (from gtts) (2.32.3)\n",
            "Requirement already satisfied: click<8.2,>=7.1 in /usr/local/lib/python3.11/dist-packages (from gtts) (8.1.8)\n",
            "Requirement already satisfied: charset-normalizer<4,>=2 in /usr/local/lib/python3.11/dist-packages (from requests<3,>=2.27->gtts) (3.4.1)\n",
            "Requirement already satisfied: idna<4,>=2.5 in /usr/local/lib/python3.11/dist-packages (from requests<3,>=2.27->gtts) (3.10)\n",
            "Requirement already satisfied: urllib3<3,>=1.21.1 in /usr/local/lib/python3.11/dist-packages (from requests<3,>=2.27->gtts) (2.4.0)\n",
            "Requirement already satisfied: certifi>=2017.4.17 in /usr/local/lib/python3.11/dist-packages (from requests<3,>=2.27->gtts) (2025.1.31)\n"
          ]
        },
        {
          "output_type": "display_data",
          "data": {
            "text/plain": [
              "<IPython.core.display.Javascript object>"
            ],
            "application/javascript": [
              "\n",
              "    async function download(id, filename, size) {\n",
              "      if (!google.colab.kernel.accessAllowed) {\n",
              "        return;\n",
              "      }\n",
              "      const div = document.createElement('div');\n",
              "      const label = document.createElement('label');\n",
              "      label.textContent = `Downloading \"${filename}\": `;\n",
              "      div.appendChild(label);\n",
              "      const progress = document.createElement('progress');\n",
              "      progress.max = size;\n",
              "      div.appendChild(progress);\n",
              "      document.body.appendChild(div);\n",
              "\n",
              "      const buffers = [];\n",
              "      let downloaded = 0;\n",
              "\n",
              "      const channel = await google.colab.kernel.comms.open(id);\n",
              "      // Send a message to notify the kernel that we're ready.\n",
              "      channel.send({})\n",
              "\n",
              "      for await (const message of channel.messages) {\n",
              "        // Send a message to notify the kernel that we're ready.\n",
              "        channel.send({})\n",
              "        if (message.buffers) {\n",
              "          for (const buffer of message.buffers) {\n",
              "            buffers.push(buffer);\n",
              "            downloaded += buffer.byteLength;\n",
              "            progress.value = downloaded;\n",
              "          }\n",
              "        }\n",
              "      }\n",
              "      const blob = new Blob(buffers, {type: 'application/binary'});\n",
              "      const a = document.createElement('a');\n",
              "      a.href = window.URL.createObjectURL(blob);\n",
              "      a.download = filename;\n",
              "      div.appendChild(a);\n",
              "      a.click();\n",
              "      div.remove();\n",
              "    }\n",
              "  "
            ]
          },
          "metadata": {}
        },
        {
          "output_type": "display_data",
          "data": {
            "text/plain": [
              "<IPython.core.display.Javascript object>"
            ],
            "application/javascript": [
              "download(\"download_b367d3c7-a0c8-4032-9f44-362a06048222\", \"output.mp3\", 121920)"
            ]
          },
          "metadata": {}
        },
        {
          "output_type": "execute_result",
          "data": {
            "text/plain": [
              "<IPython.lib.display.Audio object>"
            ],
            "text/html": [
              "\n",
              "                <audio  controls=\"controls\" >\n",
              "                    <source src=\"data:audio/mpeg;base64,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\" type=\"audio/mpeg\" />\n",
              "                    Your browser does not support the audio element.\n",
              "                </audio>\n",
              "              "
            ]
          },
          "metadata": {},
          "execution_count": 5
        }
      ]
    },
    {
      "cell_type": "code",
      "source": [
        "from google.colab import drive\n",
        "drive.mount('/content/drive')\n",
        "\n",
        "!pip install SpeechRecognition pydub\n",
        "\n",
        "import speech_recognition as sr\n",
        "from pydub import AudioSegment\n",
        "\n",
        "mp3_file_path='/content/drive/My Drive/Colab Notebooks/audio/output.mp3'\n",
        "wav_file_path='/content/drive/My Drive/Colab Notebooks/audio/output.wav'\n",
        "\n",
        "audio=AudioSegment.from_mp3(mp3_file_path)\n",
        "audio.export(wav_file_path,format='wav')\n",
        "\n",
        "recognizer=sr.Recognizer()\n",
        "\n",
        "audio_file=sr.AudioFile(wav_file_path)\n",
        "\n",
        "with audio_file as source:\n",
        "  audio_data=recognizer.record(source)\n",
        "  text=recognizer.recognize_google(audio_data)\n",
        "\n",
        "print(\"convert text:\",text)"
      ],
      "metadata": {
        "id": "kYCRpvbFUDCE",
        "colab": {
          "base_uri": "https://localhost:8080/"
        },
        "outputId": "19ef3b77-5501-4bad-911e-f812fa24333d"
      },
      "execution_count": null,
      "outputs": [
        {
          "output_type": "stream",
          "name": "stdout",
          "text": [
            "Drive already mounted at /content/drive; to attempt to forcibly remount, call drive.mount(\"/content/drive\", force_remount=True).\n",
            "Requirement already satisfied: SpeechRecognition in /usr/local/lib/python3.11/dist-packages (3.14.2)\n",
            "Requirement already satisfied: pydub in /usr/local/lib/python3.11/dist-packages (0.25.1)\n",
            "Requirement already satisfied: typing-extensions in /usr/local/lib/python3.11/dist-packages (from SpeechRecognition) (4.13.2)\n",
            "convert text: hello and welcome thank you for using this application we are happy to have you here enjoy your experience feel free to explore all the features and we are here to help if you have any questions\n"
          ]
        }
      ]
    },
    {
      "cell_type": "code",
      "source": [],
      "metadata": {
        "id": "jss10KZzlJuw"
      },
      "execution_count": null,
      "outputs": []
    },
    {
      "cell_type": "code",
      "source": [
        "# database connections\n",
        "\n",
        "import sqllite3"
      ],
      "metadata": {
        "id": "-oak-B2olKtS"
      },
      "execution_count": null,
      "outputs": []
    },
    {
      "cell_type": "code",
      "source": [
        "file_url"
      ],
      "metadata": {
        "id": "_NcyvXL1M76X"
      },
      "execution_count": null,
      "outputs": []
    },
    {
      "cell_type": "code",
      "source": [
        "pip install pyodbc"
      ],
      "metadata": {
        "colab": {
          "base_uri": "https://localhost:8080/"
        },
        "id": "TBkcJgWRM8xC",
        "outputId": "0354503d-8187-4591-cc73-ceb55327a1bc"
      },
      "execution_count": null,
      "outputs": [
        {
          "output_type": "stream",
          "name": "stdout",
          "text": [
            "Collecting pyodbc\n",
            "  Downloading pyodbc-5.2.0-cp311-cp311-manylinux_2_17_x86_64.manylinux2014_x86_64.whl.metadata (2.7 kB)\n",
            "Downloading pyodbc-5.2.0-cp311-cp311-manylinux_2_17_x86_64.manylinux2014_x86_64.whl (346 kB)\n",
            "\u001b[?25l   \u001b[90m━━━━━━━━━━━━━━━━━━━━━━━━━━━━━━━━━━━━━━━━\u001b[0m \u001b[32m0.0/346.2 kB\u001b[0m \u001b[31m?\u001b[0m eta \u001b[36m-:--:--\u001b[0m\r\u001b[2K   \u001b[91m━━━━━━━━━━━━━━━━━━━━━━━━━━━━━━━━━━━━━━━\u001b[0m\u001b[90m╺\u001b[0m \u001b[32m337.9/346.2 kB\u001b[0m \u001b[31m10.0 MB/s\u001b[0m eta \u001b[36m0:00:01\u001b[0m\r\u001b[2K   \u001b[90m━━━━━━━━━━━━━━━━━━━━━━━━━━━━━━━━━━━━━━━━\u001b[0m \u001b[32m346.2/346.2 kB\u001b[0m \u001b[31m5.9 MB/s\u001b[0m eta \u001b[36m0:00:00\u001b[0m\n",
            "\u001b[?25hInstalling collected packages: pyodbc\n",
            "Successfully installed pyodbc-5.2.0\n"
          ]
        }
      ]
    },
    {
      "cell_type": "code",
      "source": [
        "import pyodbc                     #DESKTOP-EV0RMGQ\n",
        "\n",
        "conn=pyodbc.connect('Driver={SQL Server};'\n",
        "                     'Server=DESKTOP-EV0RMGQ;'\n",
        "                     'Database=employeedob;'\n",
        "                     'Trusted_connection=yes' )\n",
        "\n",
        "cursor = conn.cursor()"
      ],
      "metadata": {
        "id": "4Dm5QeIQSGBa"
      },
      "execution_count": null,
      "outputs": []
    },
    {
      "cell_type": "code",
      "source": [],
      "metadata": {
        "id": "yyUotmaoSHG-"
      },
      "execution_count": null,
      "outputs": []
    }
  ]
}