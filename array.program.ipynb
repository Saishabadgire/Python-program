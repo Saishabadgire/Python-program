{
  "nbformat": 4,
  "nbformat_minor": 0,
  "metadata": {
    "colab": {
      "provenance": []
    },
    "kernelspec": {
      "name": "python3",
      "display_name": "Python 3"
    },
    "language_info": {
      "name": "python"
    }
  },
  "cells": [
    {
      "cell_type": "code",
      "source": [
        "ARRAY PTTHON"
      ],
      "metadata": {
        "id": "GgT6V7oUAsBG"
      },
      "execution_count": null,
      "outputs": []
    },
    {
      "cell_type": "markdown",
      "source": [],
      "metadata": {
        "id": "TWqgPR2fBQze"
      }
    },
    {
      "cell_type": "markdown",
      "source": [],
      "metadata": {
        "id": "CDudXG7KBJc-"
      }
    },
    {
      "cell_type": "code",
      "source": [
        "import array as arr\n",
        "Eg_array = arr.array('i', [1, 2, 3, 4, 5])\n",
        "\n",
        "print(Eg_array[0])\n",
        "print(Eg_array[2])\n",
        "print(Eg_array[3])\n",
        "\n",
        "Eg_array[1] = 10\n",
        "print(Eg_array)\n",
        "\n"
      ],
      "metadata": {
        "colab": {
          "base_uri": "https://localhost:8080/"
        },
        "id": "gbLAWF_UBHuB",
        "outputId": "5b63bb12-b604-4415-f6e8-55a9895eeff9"
      },
      "execution_count": null,
      "outputs": [
        {
          "output_type": "stream",
          "name": "stdout",
          "text": [
            "1\n",
            "3\n",
            "4\n",
            "array('i', [1, 10, 3, 4, 5])\n"
          ]
        }
      ]
    },
    {
      "cell_type": "code",
      "source": [
        "Eg_array.append(6)\n",
        "print(Eg_array)"
      ],
      "metadata": {
        "id": "XAjQGrPYAq2C"
      },
      "execution_count": null,
      "outputs": []
    },
    {
      "cell_type": "code",
      "source": [
        "Eg_array.extend([7, 8, 9])\n",
        "print(Eg_array)"
      ],
      "metadata": {
        "id": "vNTuh0A4Aqcu"
      },
      "execution_count": null,
      "outputs": []
    },
    {
      "cell_type": "code",
      "source": [
        "Eg_array.remove(10)\n",
        "print(Eg_array)"
      ],
      "metadata": {
        "id": "BifGTzg_AqDz"
      },
      "execution_count": null,
      "outputs": []
    },
    {
      "cell_type": "code",
      "source": [
        "Eg_array.pop()\n",
        "print(Eg_array)"
      ],
      "metadata": {
        "id": "rDC2MeKzApS2"
      },
      "execution_count": null,
      "outputs": []
    },
    {
      "cell_type": "code",
      "source": [
        "# types of code\n",
        "#Arrays:\n",
        "import array as arr\n",
        "arr = arr.array('B', [1,25,3, 4, 5,41,5])\n",
        "print(arr)\n"
      ],
      "metadata": {
        "id": "ggjofWZhC_aM",
        "colab": {
          "base_uri": "https://localhost:8080/"
        },
        "outputId": "be536da9-ca14-4a3a-e625-d4c6cf93e41a"
      },
      "execution_count": null,
      "outputs": [
        {
          "output_type": "stream",
          "name": "stdout",
          "text": [
            "array('B', [1, 25, 3, 4, 5, 41, 5])\n"
          ]
        }
      ]
    },
    {
      "cell_type": "code",
      "source": [
        "import array as arr\n",
        "arr = arr.array('h', [-32746,-125,3, 4, 5,41,5,32127])\n",
        "print(arr)"
      ],
      "metadata": {
        "id": "25dQ9efNDAMV",
        "colab": {
          "base_uri": "https://localhost:8080/"
        },
        "outputId": "4c1baf64-3e7a-4aa2-9060-eeb300fc21c7"
      },
      "execution_count": null,
      "outputs": [
        {
          "output_type": "stream",
          "name": "stdout",
          "text": [
            "array('h', [-32746, -125, 3, 4, 5, 41, 5, 32127])\n"
          ]
        }
      ]
    },
    {
      "cell_type": "code",
      "source": [
        "#1. append()\n",
        "#Adds an element to the end of the array.\n",
        "import array as arr\n",
        "arr = arr.array('i', [11, 22, 33, 44, 55,66,26,65])\n",
        "print(arr)\n",
        "arr.append(78)\n",
        "print(arr)\n"
      ],
      "metadata": {
        "id": "9n3nooqMDA3r",
        "colab": {
          "base_uri": "https://localhost:8080/"
        },
        "outputId": "37b670f3-148c-4894-85d1-84f42706ca66"
      },
      "execution_count": null,
      "outputs": [
        {
          "output_type": "stream",
          "name": "stdout",
          "text": [
            "array('i', [11, 22, 33, 44, 55, 66, 26, 65])\n",
            "array('i', [11, 22, 33, 44, 55, 66, 26, 65, 78])\n"
          ]
        }
      ]
    },
    {
      "cell_type": "code",
      "source": [
        "#2. extend()\n",
        "#Adds elements from an iterable (e.g., list) to the end of the array.\n",
        "import array as arr\n",
        "arr = arr.array('i', [1, 2, 3, 4, 5,6,26,5])\n",
        "print(arr)\n",
        "\n",
        "arr.extend([12,14,14])\n",
        "print(arr)"
      ],
      "metadata": {
        "colab": {
          "base_uri": "https://localhost:8080/"
        },
        "id": "tSn1weT4PMX6",
        "outputId": "3b8921c4-04ba-42c8-a301-850720402b30"
      },
      "execution_count": null,
      "outputs": [
        {
          "output_type": "stream",
          "name": "stdout",
          "text": [
            "array('i', [1, 2, 3, 4, 5, 6, 26, 5])\n",
            "array('i', [1, 2, 3, 4, 5, 6, 26, 5, 12, 14, 14])\n"
          ]
        }
      ]
    },
    {
      "cell_type": "code",
      "source": [
        "#3. insert()\n",
        "#Inserts an element at a specified position in the array.\n",
        "import array as arr\n",
        "arr = arr.array('i', [1, 2, 3, 4, 5,6,26,5])\n",
        "print(arr)\n",
        "arr.insert(4,24)\n",
        "print(arr)\n",
        "arr.insert(0,0)\n",
        "print(arr)"
      ],
      "metadata": {
        "colab": {
          "base_uri": "https://localhost:8080/"
        },
        "id": "DxH5Kc1sPNSg",
        "outputId": "45972167-c71a-4bde-803b-2c9f1acacb31"
      },
      "execution_count": null,
      "outputs": [
        {
          "output_type": "stream",
          "name": "stdout",
          "text": [
            "array('i', [1, 2, 3, 4, 5, 6, 26, 5])\n",
            "array('i', [1, 2, 3, 4, 24, 5, 6, 26, 5])\n",
            "array('i', [0, 1, 2, 3, 4, 24, 5, 6, 26, 5])\n"
          ]
        }
      ]
    },
    {
      "cell_type": "code",
      "source": [
        "#4. pop()\n",
        "#Removes and returns the last element, or the element at a specified position.\n",
        "import array as arr\n",
        "arr = arr.array('i', [1, 2, 3, 4, 5,6,26,5])\n",
        "print(arr)\n",
        "arr.pop()\n",
        "print(arr)\n",
        "arr.pop(2)\n",
        "print(arr)\n"
      ],
      "metadata": {
        "colab": {
          "base_uri": "https://localhost:8080/"
        },
        "id": "SiglQTNmPN-e",
        "outputId": "fd46aa71-1491-4477-c161-8e2046b2d033"
      },
      "execution_count": null,
      "outputs": [
        {
          "output_type": "stream",
          "name": "stdout",
          "text": [
            "array('i', [1, 2, 3, 4, 5, 6, 26, 5])\n",
            "array('i', [1, 2, 3, 4, 5, 6, 26])\n",
            "array('i', [1, 2, 4, 5, 6, 26])\n"
          ]
        }
      ]
    },
    {
      "cell_type": "code",
      "source": [
        "#5. remove()\n",
        "#Removes the first occurrence of a specified element\n",
        "import array as arr\n",
        "arr = arr.array('i', [1, 2, 3, 4, 5,6,26,5])\n",
        "print(arr)\n",
        "arr.remove(5)\n",
        "print(arr)"
      ],
      "metadata": {
        "colab": {
          "base_uri": "https://localhost:8080/"
        },
        "id": "2obU_fmsP7n5",
        "outputId": "b08a5dca-03fb-4623-ff75-424cc28cec3f"
      },
      "execution_count": null,
      "outputs": [
        {
          "output_type": "stream",
          "name": "stdout",
          "text": [
            "array('i', [1, 2, 3, 4, 5, 6, 26, 5])\n",
            "array('i', [1, 2, 3, 4, 6, 26, 5])\n"
          ]
        }
      ]
    },
    {
      "cell_type": "code",
      "source": [
        "#6. index()\n",
        "#Returns the index of the first occurrence of a specified element.\n",
        "import array as arr\n",
        "arr = arr.array('i', [1, 2, 3, 4, 5,6,26,5])\n",
        "print(arr)\n",
        "print(arr.index(5))"
      ],
      "metadata": {
        "colab": {
          "base_uri": "https://localhost:8080/"
        },
        "id": "JM5GIOd6P9Eg",
        "outputId": "32096209-0404-4139-ea5b-368e526941c2"
      },
      "execution_count": null,
      "outputs": [
        {
          "output_type": "stream",
          "name": "stdout",
          "text": [
            "array('i', [1, 2, 3, 4, 5, 6, 26, 5])\n",
            "4\n"
          ]
        }
      ]
    },
    {
      "cell_type": "code",
      "source": [
        "#7. count()\n",
        "#Returns the number of occurrences of a specified element.\n",
        "import array as arr\n",
        "\n",
        "# Creating an array of integers\n",
        "arr = arr.array('i', [1, 2, 3, 4, 5, 6, 26, 5,4,4,4])\n",
        "print(\"Original array:\", arr)\n",
        "\n",
        "print(arr.count(5))"
      ],
      "metadata": {
        "colab": {
          "base_uri": "https://localhost:8080/"
        },
        "id": "L5THPWiPQVDj",
        "outputId": "b36ab561-8288-418f-a1e1-a20909cd07af"
      },
      "execution_count": null,
      "outputs": [
        {
          "output_type": "stream",
          "name": "stdout",
          "text": [
            "Original array: array('i', [1, 2, 3, 4, 5, 6, 26, 5, 4, 4, 4])\n",
            "2\n"
          ]
        }
      ]
    },
    {
      "cell_type": "code",
      "source": [
        "#8. reverse()\n",
        "#Reverses the order of elements in the array.\n",
        "\n",
        "import array as arr\n",
        "\n",
        "# Creating an array of integers\n",
        "arr = arr.array('i', [1, 2, 3, 4, 5, 6, 26, 5])\n",
        "print(\"Original array:\", arr)\n",
        "arr.reverse()\n",
        "print(\"Reversed Array: \",arr)\n",
        "print(arr.reverse())"
      ],
      "metadata": {
        "colab": {
          "base_uri": "https://localhost:8080/"
        },
        "id": "9dnJSuV4QNR4",
        "outputId": "7018473e-5700-4f57-ae7f-b2a366f4a028"
      },
      "execution_count": null,
      "outputs": [
        {
          "output_type": "stream",
          "name": "stdout",
          "text": [
            "Original array: array('i', [1, 2, 3, 4, 5, 6, 26, 5])\n",
            "Reversed Array:  array('i', [5, 26, 6, 5, 4, 3, 2, 1])\n",
            "None\n"
          ]
        }
      ]
    },
    {
      "cell_type": "code",
      "source": [
        "#9. buffer_info()\n",
        "#Returns a tuple containing the memory address and the number of elements in the array.\n",
        "import array as arr\n",
        "\n",
        "# Creating an array of integers\n",
        "arr = arr.array('i', [1, 2, 3, 4, 5, 6, 26, 5])\n",
        "print(\"Original array:\", arr)\n",
        "\n",
        "print(arr.buffer_info())"
      ],
      "metadata": {
        "colab": {
          "base_uri": "https://localhost:8080/"
        },
        "id": "WCv39TJiQXYb",
        "outputId": "05f71f59-25ab-4c98-b9e7-1bb4ba3d9f9a"
      },
      "execution_count": null,
      "outputs": [
        {
          "output_type": "stream",
          "name": "stdout",
          "text": [
            "Original array: array('i', [1, 2, 3, 4, 5, 6, 26, 5])\n",
            "(136667109107760, 8)\n"
          ]
        }
      ]
    },
    {
      "cell_type": "code",
      "source": [
        "#10. tolist()\n",
        "#Converts the array to a regular list.\n",
        "import array as arr\n",
        "\n",
        "# Creating an array of integers\n",
        "arr = arr.array('i', [1, 2, 3, 4, 5, 6, 26, 5])\n",
        "print(\"Original array:\", arr)\n",
        "print(arr.tolist())"
      ],
      "metadata": {
        "colab": {
          "base_uri": "https://localhost:8080/"
        },
        "id": "TfMDyX8ZQN7I",
        "outputId": "b2983b30-af9d-452c-e8e1-d322ff79554b"
      },
      "execution_count": null,
      "outputs": [
        {
          "output_type": "stream",
          "name": "stdout",
          "text": [
            "Original array: array('i', [1, 2, 3, 4, 5, 6, 26, 5])\n",
            "[1, 2, 3, 4, 5, 6, 26, 5]\n"
          ]
        }
      ]
    },
    {
      "cell_type": "code",
      "source": [
        "#types of array\n",
        "#1D Array\n",
        "import numpy as np\n",
        "a=np.array([1,2,3])\n",
        "print(a)\n"
      ],
      "metadata": {
        "colab": {
          "base_uri": "https://localhost:8080/"
        },
        "id": "pxdeOyYaQHUO",
        "outputId": "d3e4085d-dc1f-47b3-e2c6-7cf89916a099"
      },
      "execution_count": null,
      "outputs": [
        {
          "output_type": "stream",
          "name": "stdout",
          "text": [
            "[1 2 3]\n"
          ]
        }
      ]
    },
    {
      "cell_type": "code",
      "source": [
        "#2D Array\n",
        "a =np.array([[2,4,6],[4,5,6],[6,5,7]])\n",
        "\n",
        "print(a)\n",
        "print(type(a))\n",
        "a.ndim"
      ],
      "metadata": {
        "colab": {
          "base_uri": "https://localhost:8080/"
        },
        "id": "WK5LDG9PRDVL",
        "outputId": "58d72736-6cf6-4b1f-969e-e0676bc50058"
      },
      "execution_count": null,
      "outputs": [
        {
          "output_type": "stream",
          "name": "stdout",
          "text": [
            "[[2 4 6]\n",
            " [4 5 6]\n",
            " [6 5 7]]\n",
            "<class 'numpy.ndarray'>\n"
          ]
        },
        {
          "output_type": "execute_result",
          "data": {
            "text/plain": [
              "2"
            ]
          },
          "metadata": {},
          "execution_count": 17
        }
      ]
    },
    {
      "cell_type": "code",
      "source": [
        "#3d array\n",
        "\n",
        "x= np.array([[[1,2,3], [4,5,6],[5,6,7]], [[4,5,6],[8,8,7],[8,9,7]]])\n",
        "print(x)\n",
        "\n",
        "print(type(x))\n",
        "x.ndim"
      ],
      "metadata": {
        "colab": {
          "base_uri": "https://localhost:8080/"
        },
        "id": "eF4JEdQvREFu",
        "outputId": "fa80277f-8f40-49ce-b60a-40a49f988027"
      },
      "execution_count": null,
      "outputs": [
        {
          "output_type": "stream",
          "name": "stdout",
          "text": [
            "[[[1 2 3]\n",
            "  [4 5 6]\n",
            "  [5 6 7]]\n",
            "\n",
            " [[4 5 6]\n",
            "  [8 8 7]\n",
            "  [8 9 7]]]\n",
            "<class 'numpy.ndarray'>\n"
          ]
        },
        {
          "output_type": "execute_result",
          "data": {
            "text/plain": [
              "3"
            ]
          },
          "metadata": {},
          "execution_count": 18
        }
      ]
    },
    {
      "cell_type": "code",
      "source": [
        "import numpy as np\n",
        "np.zeros((2,3))"
      ],
      "metadata": {
        "id": "qFLcEpdxREx9",
        "colab": {
          "base_uri": "https://localhost:8080/"
        },
        "outputId": "ca40751b-4e1c-4931-bd46-1ce1956b4408"
      },
      "execution_count": null,
      "outputs": [
        {
          "output_type": "execute_result",
          "data": {
            "text/plain": [
              "array([[0., 0., 0.],\n",
              "       [0., 0., 0.]])"
            ]
          },
          "metadata": {},
          "execution_count": 19
        }
      ]
    },
    {
      "cell_type": "code",
      "source": [
        "import numpy as np\n",
        "np.ones((4,3))"
      ],
      "metadata": {
        "colab": {
          "base_uri": "https://localhost:8080/"
        },
        "id": "C378dLO5bfSD",
        "outputId": "857abd5b-fe9d-4966-caf3-5bd9d4fa09c7"
      },
      "execution_count": null,
      "outputs": [
        {
          "output_type": "execute_result",
          "data": {
            "text/plain": [
              "array([[1., 1., 1.],\n",
              "       [1., 1., 1.],\n",
              "       [1., 1., 1.],\n",
              "       [1., 1., 1.]])"
            ]
          },
          "metadata": {},
          "execution_count": 20
        }
      ]
    },
    {
      "cell_type": "code",
      "source": [
        "import numpy as np\n",
        "\n",
        "#full array with -6 values\n",
        "np.full((4,4),0)"
      ],
      "metadata": {
        "colab": {
          "base_uri": "https://localhost:8080/"
        },
        "id": "MHuCJBQ-bgLg",
        "outputId": "c17ed929-9f77-44b6-e1b4-3dc7ffad744b"
      },
      "execution_count": null,
      "outputs": [
        {
          "output_type": "execute_result",
          "data": {
            "text/plain": [
              "array([[0, 0, 0, 0],\n",
              "       [0, 0, 0, 0],\n",
              "       [0, 0, 0, 0],\n",
              "       [0, 0, 0, 0]])"
            ]
          },
          "metadata": {},
          "execution_count": 21
        }
      ]
    },
    {
      "cell_type": "code",
      "source": [
        "np.arange(0,101,10)"
      ],
      "metadata": {
        "colab": {
          "base_uri": "https://localhost:8080/"
        },
        "id": "ZyASlHlAbgx7",
        "outputId": "ab5bdc3b-3715-4ab4-f1fa-86ec6528720b"
      },
      "execution_count": null,
      "outputs": [
        {
          "output_type": "execute_result",
          "data": {
            "text/plain": [
              "array([  0,  10,  20,  30,  40,  50,  60,  70,  80,  90, 100])"
            ]
          },
          "metadata": {},
          "execution_count": 22
        }
      ]
    },
    {
      "cell_type": "code",
      "source": [
        "np.arange(1,20)"
      ],
      "metadata": {
        "colab": {
          "base_uri": "https://localhost:8080/"
        },
        "id": "yu2-mlLJbxsK",
        "outputId": "461f6894-adb0-4732-ce53-18a2a17b95d6"
      },
      "execution_count": null,
      "outputs": [
        {
          "output_type": "execute_result",
          "data": {
            "text/plain": [
              "array([ 1,  2,  3,  4,  5,  6,  7,  8,  9, 10, 11, 12, 13, 14, 15, 16, 17,\n",
              "       18, 19])"
            ]
          },
          "metadata": {},
          "execution_count": 23
        }
      ]
    },
    {
      "cell_type": "code",
      "source": [
        "np.linspace(0,20,5)"
      ],
      "metadata": {
        "colab": {
          "base_uri": "https://localhost:8080/"
        },
        "id": "texthmU_byaX",
        "outputId": "d578e4a1-776e-40bb-8935-80929dd0eb2c"
      },
      "execution_count": null,
      "outputs": [
        {
          "output_type": "execute_result",
          "data": {
            "text/plain": [
              "array([ 0.,  5., 10., 15., 20.])"
            ]
          },
          "metadata": {},
          "execution_count": 24
        }
      ]
    },
    {
      "cell_type": "code",
      "source": [
        "np.eye(5)"
      ],
      "metadata": {
        "colab": {
          "base_uri": "https://localhost:8080/"
        },
        "id": "XZ0geLalbzDa",
        "outputId": "380c5e66-9e2b-474c-c080-230c6d54af7b"
      },
      "execution_count": null,
      "outputs": [
        {
          "output_type": "execute_result",
          "data": {
            "text/plain": [
              "array([[1., 0., 0., 0., 0.],\n",
              "       [0., 1., 0., 0., 0.],\n",
              "       [0., 0., 1., 0., 0.],\n",
              "       [0., 0., 0., 1., 0.],\n",
              "       [0., 0., 0., 0., 1.]])"
            ]
          },
          "metadata": {},
          "execution_count": 25
        }
      ]
    },
    {
      "cell_type": "code",
      "source": [
        "import numpy as np\n",
        "data = np.array([[5, 4, 0, 1],\n",
        "                  [11, 4, 10, 7],\n",
        "                  [7, 10, 5, 6],\n",
        "                  [7, 12, 10, 4],\n",
        "                  [3, 7, 3, 4]])\n",
        "\n",
        "print(data)"
      ],
      "metadata": {
        "colab": {
          "base_uri": "https://localhost:8080/"
        },
        "id": "0pLHoGS5cGfL",
        "outputId": "eefdfd21-405d-4047-db22-2136a0f1b909"
      },
      "execution_count": null,
      "outputs": [
        {
          "output_type": "stream",
          "name": "stdout",
          "text": [
            "[[ 5  4  0  1]\n",
            " [11  4 10  7]\n",
            " [ 7 10  5  6]\n",
            " [ 7 12 10  4]\n",
            " [ 3  7  3  4]]\n"
          ]
        }
      ]
    },
    {
      "cell_type": "code",
      "source": [
        "dt =[1,3,4]\n",
        "sum(dt)"
      ],
      "metadata": {
        "colab": {
          "base_uri": "https://localhost:8080/"
        },
        "id": "RKkmjczYcHH9",
        "outputId": "f6b03087-1c8c-4d77-c777-4d83bea39152"
      },
      "execution_count": null,
      "outputs": [
        {
          "output_type": "execute_result",
          "data": {
            "text/plain": [
              "8"
            ]
          },
          "metadata": {},
          "execution_count": 27
        }
      ]
    },
    {
      "cell_type": "code",
      "source": [
        "data.max()"
      ],
      "metadata": {
        "colab": {
          "base_uri": "https://localhost:8080/"
        },
        "id": "SNOlxhfBcHtI",
        "outputId": "3b52789c-24ac-4e22-8114-49e5694f02b4"
      },
      "execution_count": null,
      "outputs": [
        {
          "output_type": "execute_result",
          "data": {
            "text/plain": [
              "np.int64(12)"
            ]
          },
          "metadata": {},
          "execution_count": 28
        }
      ]
    },
    {
      "cell_type": "code",
      "source": [
        "data.mean()"
      ],
      "metadata": {
        "colab": {
          "base_uri": "https://localhost:8080/"
        },
        "id": "YI1WXgGucItC",
        "outputId": "76b6bed0-b69a-4b35-d1bd-f1275a8fbd96"
      },
      "execution_count": null,
      "outputs": [
        {
          "output_type": "execute_result",
          "data": {
            "text/plain": [
              "np.float64(6.0)"
            ]
          },
          "metadata": {},
          "execution_count": 29
        }
      ]
    },
    {
      "cell_type": "code",
      "source": [
        "data.sum()"
      ],
      "metadata": {
        "colab": {
          "base_uri": "https://localhost:8080/"
        },
        "id": "0pFY6HVjcYBk",
        "outputId": "7b457e0f-3a39-45a1-f7a3-ea85be8e50fe"
      },
      "execution_count": null,
      "outputs": [
        {
          "output_type": "execute_result",
          "data": {
            "text/plain": [
              "np.int64(120)"
            ]
          },
          "metadata": {},
          "execution_count": 30
        }
      ]
    },
    {
      "cell_type": "code",
      "source": [
        "np.full((4,5),3)"
      ],
      "metadata": {
        "colab": {
          "base_uri": "https://localhost:8080/"
        },
        "id": "rQr0LKrAcZGf",
        "outputId": "4cc0799b-09d0-481f-c95d-6d369759c271"
      },
      "execution_count": null,
      "outputs": [
        {
          "output_type": "execute_result",
          "data": {
            "text/plain": [
              "array([[3, 3, 3, 3, 3],\n",
              "       [3, 3, 3, 3, 3],\n",
              "       [3, 3, 3, 3, 3],\n",
              "       [3, 3, 3, 3, 3]])"
            ]
          },
          "metadata": {},
          "execution_count": 31
        }
      ]
    },
    {
      "cell_type": "code",
      "source": [
        "a=np.array([[2,4,6],[5,6,7],[8,10,12]])\n",
        "print(a)\n",
        "print(a.shape)"
      ],
      "metadata": {
        "colab": {
          "base_uri": "https://localhost:8080/"
        },
        "id": "aTYBQ_hMcZld",
        "outputId": "4628d32b-76f1-4b47-f41f-5abf1d4ecfa5"
      },
      "execution_count": null,
      "outputs": [
        {
          "output_type": "stream",
          "name": "stdout",
          "text": [
            "[[ 2  4  6]\n",
            " [ 5  6  7]\n",
            " [ 8 10 12]]\n",
            "(3, 3)\n"
          ]
        }
      ]
    },
    {
      "cell_type": "code",
      "source": [
        "a=np.array([[2,4,6,4],[5,6,7,8],[8,10,12,4]]) #3,4 =12\n",
        "print(\"Original Array:\\n\", a)\n",
        "a.shape=(6,2)\n",
        "print(\"Changed Array:\\n\",a)\n"
      ],
      "metadata": {
        "colab": {
          "base_uri": "https://localhost:8080/"
        },
        "id": "0V5u5K-icaC5",
        "outputId": "b5f6f449-77c8-427c-f20c-b2018343040a"
      },
      "execution_count": null,
      "outputs": [
        {
          "output_type": "stream",
          "name": "stdout",
          "text": [
            "Original Array:\n",
            " [[ 2  4  6  4]\n",
            " [ 5  6  7  8]\n",
            " [ 8 10 12  4]]\n",
            "Changed Array:\n",
            " [[ 2  4]\n",
            " [ 6  4]\n",
            " [ 5  6]\n",
            " [ 7  8]\n",
            " [ 8 10]\n",
            " [12  4]]\n"
          ]
        }
      ]
    },
    {
      "cell_type": "code",
      "source": [
        "a.shape=(4,3)\n",
        "print(\"Changed Array:\\n\",a)"
      ],
      "metadata": {
        "colab": {
          "base_uri": "https://localhost:8080/"
        },
        "id": "_jbIGP1gcag0",
        "outputId": "13343de2-9069-48b1-eec8-bfee5befc98b"
      },
      "execution_count": null,
      "outputs": [
        {
          "output_type": "stream",
          "name": "stdout",
          "text": [
            "Changed Array:\n",
            " [[ 2  4  6]\n",
            " [ 4  5  6]\n",
            " [ 7  8  8]\n",
            " [10 12  4]]\n"
          ]
        }
      ]
    },
    {
      "cell_type": "code",
      "source": [
        "import numpy as np\n",
        "a=np.array([[1,2,3],[4,5,6],[5,8,9]])\n",
        "print(a.size)\n",
        "print(a.shape)\n",
        "print(a.ndim)\n",
        "print(a.dtype)"
      ],
      "metadata": {
        "colab": {
          "base_uri": "https://localhost:8080/"
        },
        "id": "W4snqJtrlvSe",
        "outputId": "d36bcf9b-16bb-4a50-f5df-da18c8f541c4"
      },
      "execution_count": null,
      "outputs": [
        {
          "output_type": "stream",
          "name": "stdout",
          "text": [
            "9\n",
            "(3, 3)\n",
            "2\n",
            "int64\n"
          ]
        }
      ]
    },
    {
      "cell_type": "code",
      "execution_count": null,
      "metadata": {
        "colab": {
          "base_uri": "https://localhost:8080/"
        },
        "id": "pg6CKj_qVBbK",
        "outputId": "591efc3f-3c98-4dd9-c932-352beedd1af9"
      },
      "outputs": [
        {
          "output_type": "stream",
          "name": "stdout",
          "text": [
            "[[10 19  0 13  4]\n",
            " [13 15  0 12  9]\n",
            " [ 5  1 18  9  2]\n",
            " [ 1 19 11  4  0]\n",
            " [ 3  2 16 14 10]\n",
            " [ 2  9 14  1  9]]\n"
          ]
        }
      ],
      "source": [
        "import numpy as np\n",
        "\n",
        "x=np.random.randint(0,20,(6,5))\n",
        "print(x)"
      ]
    },
    {
      "cell_type": "code",
      "source": [
        "x.shape"
      ],
      "metadata": {
        "colab": {
          "base_uri": "https://localhost:8080/"
        },
        "id": "uS173kKXVMTD",
        "outputId": "ffd525f8-c313-4fc2-e01d-5cff2d35b14b"
      },
      "execution_count": null,
      "outputs": [
        {
          "output_type": "execute_result",
          "data": {
            "text/plain": [
              "(6, 5)"
            ]
          },
          "metadata": {},
          "execution_count": 3
        }
      ]
    },
    {
      "cell_type": "code",
      "source": [
        "x.ravel()    # flatten arrey first to reshape"
      ],
      "metadata": {
        "colab": {
          "base_uri": "https://localhost:8080/"
        },
        "id": "0hTfZs9MVOAc",
        "outputId": "95a1e2e1-358a-4c21-88a9-e52f91c11570"
      },
      "execution_count": null,
      "outputs": [
        {
          "output_type": "execute_result",
          "data": {
            "text/plain": [
              "array([10, 19,  0, 13,  4, 13, 15,  0, 12,  9,  5,  1, 18,  9,  2,  1, 19,\n",
              "       11,  4,  0,  3,  2, 16, 14, 10,  2,  9, 14,  1,  9])"
            ]
          },
          "metadata": {},
          "execution_count": 4
        }
      ]
    },
    {
      "cell_type": "code",
      "source": [
        "y=x.ravel()"
      ],
      "metadata": {
        "id": "HqQ1LMYCbl5v"
      },
      "execution_count": null,
      "outputs": []
    },
    {
      "cell_type": "code",
      "source": [
        "x.reshape(3,10)"
      ],
      "metadata": {
        "colab": {
          "base_uri": "https://localhost:8080/"
        },
        "id": "jHN4rsOfbmdc",
        "outputId": "70a94a59-e2cb-44e0-fe28-2854108dc15c"
      },
      "execution_count": null,
      "outputs": [
        {
          "output_type": "execute_result",
          "data": {
            "text/plain": [
              "array([[10, 19,  0, 13,  4, 13, 15,  0, 12,  9],\n",
              "       [ 5,  1, 18,  9,  2,  1, 19, 11,  4,  0],\n",
              "       [ 3,  2, 16, 14, 10,  2,  9, 14,  1,  9]])"
            ]
          },
          "metadata": {},
          "execution_count": 9
        }
      ]
    },
    {
      "cell_type": "code",
      "source": [
        "a1=np.array([[2,3],[5,6]])\n",
        "print(a1)\n",
        "\n",
        "a2=np.array([[4,5],[7,8]])\n",
        "print(a2)"
      ],
      "metadata": {
        "colab": {
          "base_uri": "https://localhost:8080/"
        },
        "id": "yOBihkoEdm0B",
        "outputId": "186872af-5a71-437a-9d99-f983a215ff19"
      },
      "execution_count": null,
      "outputs": [
        {
          "output_type": "stream",
          "name": "stdout",
          "text": [
            "[[2 3]\n",
            " [5 6]]\n",
            "[[4 5]\n",
            " [7 8]]\n"
          ]
        }
      ]
    },
    {
      "cell_type": "code",
      "source": [
        "np.vstack([a1,a2])"
      ],
      "metadata": {
        "colab": {
          "base_uri": "https://localhost:8080/"
        },
        "id": "MbKiksqzbm7u",
        "outputId": "7b657b09-954e-4285-9dd0-70ff5996ac95"
      },
      "execution_count": null,
      "outputs": [
        {
          "output_type": "execute_result",
          "data": {
            "text/plain": [
              "array([[2, 3],\n",
              "       [5, 6],\n",
              "       [4, 5],\n",
              "       [7, 8]])"
            ]
          },
          "metadata": {},
          "execution_count": 12
        }
      ]
    },
    {
      "cell_type": "code",
      "source": [
        "np.hstack([a1,a2])"
      ],
      "metadata": {
        "colab": {
          "base_uri": "https://localhost:8080/"
        },
        "id": "-u03Gs94eSs0",
        "outputId": "aee7658b-bbdc-496f-aed0-e1df0dd8752e"
      },
      "execution_count": null,
      "outputs": [
        {
          "output_type": "execute_result",
          "data": {
            "text/plain": [
              "array([[2, 3, 4, 5],\n",
              "       [5, 6, 7, 8]])"
            ]
          },
          "metadata": {},
          "execution_count": 13
        }
      ]
    },
    {
      "cell_type": "code",
      "source": [
        "np.concatenate([a1,a2],axis=0)"
      ],
      "metadata": {
        "colab": {
          "base_uri": "https://localhost:8080/"
        },
        "id": "DHI5p32weZUk",
        "outputId": "b6a60246-1104-41ee-879d-122aadffa11e"
      },
      "execution_count": null,
      "outputs": [
        {
          "output_type": "execute_result",
          "data": {
            "text/plain": [
              "array([[2, 3],\n",
              "       [5, 6],\n",
              "       [4, 5],\n",
              "       [7, 8]])"
            ]
          },
          "metadata": {},
          "execution_count": 14
        }
      ]
    },
    {
      "cell_type": "code",
      "source": [
        "np.concatenate([a1,a2],axis=1)"
      ],
      "metadata": {
        "colab": {
          "base_uri": "https://localhost:8080/"
        },
        "id": "RtinU_U6eaRM",
        "outputId": "d908c2c4-de47-449b-acf2-69e5b37e65ab"
      },
      "execution_count": null,
      "outputs": [
        {
          "output_type": "execute_result",
          "data": {
            "text/plain": [
              "array([[2, 3, 4, 5],\n",
              "       [5, 6, 7, 8]])"
            ]
          },
          "metadata": {},
          "execution_count": 15
        }
      ]
    },
    {
      "cell_type": "code",
      "source": [
        "# numpy array mathmatics\n",
        "\n",
        "# addtion\n",
        "array1=np.array([[1,2,3],\n",
        "                 [4,5,6]])\n",
        "array2=np.array([[7,8,9],\n",
        "                 [10,11,12]])\n",
        "array3=np.array([[8,6,9],\n",
        "                 [10,23,11]])\n",
        "\n",
        "sum_array=array1 + array2 + array3\n",
        "print('addition:\\n',sum_array)\n",
        "sum_array.ndim"
      ],
      "metadata": {
        "colab": {
          "base_uri": "https://localhost:8080/"
        },
        "id": "6P6p0Fg0fBrc",
        "outputId": "ad1648b7-8ce5-41bd-a815-824e3a54c562"
      },
      "execution_count": null,
      "outputs": [
        {
          "output_type": "stream",
          "name": "stdout",
          "text": [
            "addition:\n",
            " [[16 16 21]\n",
            " [24 39 29]]\n"
          ]
        },
        {
          "output_type": "execute_result",
          "data": {
            "text/plain": [
              "2"
            ]
          },
          "metadata": {},
          "execution_count": 18
        }
      ]
    },
    {
      "cell_type": "code",
      "source": [
        "import numpy as np\n",
        "# substraction\n",
        "np.subtract(20,10)"
      ],
      "metadata": {
        "id": "v5Jn3pi8fC-i"
      },
      "execution_count": null,
      "outputs": []
    },
    {
      "cell_type": "code",
      "source": [
        "a=np.array([1,2,3])\n",
        "b=np.array([4,5,6,])\n",
        "c=np.array([1,3,4])\n",
        "sub = a-b-c\n",
        "print(sub)"
      ],
      "metadata": {
        "colab": {
          "base_uri": "https://localhost:8080/"
        },
        "id": "D2lt3GmEfDW0",
        "outputId": "38e79ed5-d0ea-49b4-cc85-f65e02651936"
      },
      "execution_count": null,
      "outputs": [
        {
          "output_type": "stream",
          "name": "stdout",
          "text": [
            "[-4 -6 -7]\n"
          ]
        }
      ]
    },
    {
      "cell_type": "code",
      "source": [],
      "metadata": {
        "id": "dNa0ypkFlqEV"
      },
      "execution_count": null,
      "outputs": []
    },
    {
      "cell_type": "code",
      "source": [
        "import numpy as np\n",
        "a=np.array([[1,2],[6,8]])\n",
        "b=np.array([5,4])\n",
        "\n",
        "result=a + b\n",
        "print(\"result of a+b with brodcasting:\\n\",result)"
      ],
      "metadata": {
        "colab": {
          "base_uri": "https://localhost:8080/"
        },
        "id": "y7YU5AHafDwx",
        "outputId": "ba4265a1-d8a7-4f2b-9470-e327987b3234"
      },
      "execution_count": null,
      "outputs": [
        {
          "output_type": "stream",
          "name": "stdout",
          "text": [
            "result of a+b with brodcasting:\n",
            " [[ 6  6]\n",
            " [11 12]]\n"
          ]
        }
      ]
    },
    {
      "cell_type": "code",
      "source": [
        "# multiplication\n",
        "\n",
        "import numpy as np\n",
        "array1 = np.array([[1, 2, 3],\n",
        "                   [4, 5, 6]])\n",
        "\n",
        "array2 = np.array([[7, 8, 9],\n",
        "                   [10, 11, 12]])\n",
        "\n",
        "product_array = array1 * array2\n",
        "print(\"Multiplication:\\n\", product_array)"
      ],
      "metadata": {
        "id": "cLFhAMb0fEFU",
        "colab": {
          "base_uri": "https://localhost:8080/"
        },
        "outputId": "7bf66742-1f92-497e-ab8c-45d4bcf9787c"
      },
      "execution_count": null,
      "outputs": [
        {
          "output_type": "stream",
          "name": "stdout",
          "text": [
            "Multiplication:\n",
            " [[ 7 16 27]\n",
            " [40 55 72]]\n"
          ]
        }
      ]
    },
    {
      "cell_type": "code",
      "source": [
        "#divition\n",
        "import numpy as np\n",
        "array1 = np.array([[10, 20, 30],\n",
        "                   [40, 50, 60]])\n",
        "\n",
        "array2 = np.array([[3, 4, 5],\n",
        "                   [10, 5, 3]])\n",
        "\n",
        "division_array = array1 / array2\n",
        "print(\"Division:\\n\", division_array)\n",
        "print(division_array.dtype)"
      ],
      "metadata": {
        "colab": {
          "base_uri": "https://localhost:8080/"
        },
        "id": "3_2WRlLX03ce",
        "outputId": "069db463-3862-49f9-a8dd-f8596be03aef"
      },
      "execution_count": null,
      "outputs": [
        {
          "output_type": "stream",
          "name": "stdout",
          "text": [
            "Division:\n",
            " [[ 3.33333333  5.          6.        ]\n",
            " [ 4.         10.         20.        ]]\n",
            "float64\n"
          ]
        }
      ]
    },
    {
      "cell_type": "code",
      "source": [
        "import numpy as np\n",
        "array1 = np.array([[1, 2, 3],\n",
        "                   [4, 5, 6]])\n",
        "\n",
        "array2 = np.array([7, 8, 9])\n",
        "\n",
        "product_array = array1 * array2\n",
        "print(\"Multiplication:\\n\", product_array)"
      ],
      "metadata": {
        "colab": {
          "base_uri": "https://localhost:8080/"
        },
        "id": "MqcZlndJgSi2",
        "outputId": "60b8b648-c929-4b3a-f6a3-6f0d73705e6c"
      },
      "execution_count": null,
      "outputs": [
        {
          "output_type": "stream",
          "name": "stdout",
          "text": [
            "Multiplication:\n",
            " [[ 7 16 27]\n",
            " [28 40 54]]\n"
          ]
        }
      ]
    },
    {
      "cell_type": "code",
      "source": [
        "# matrix multiplication\n",
        "#no of column in first array must eqal to no of rows in econd array\n",
        "\n",
        "x1=np.random.randint(0,10,(2,2))\n",
        "x2=np.random.randint(0,10,(2,2))\n"
      ],
      "metadata": {
        "id": "hLp8h9uUgTpZ"
      },
      "execution_count": null,
      "outputs": []
    },
    {
      "cell_type": "code",
      "source": [
        "x1"
      ],
      "metadata": {
        "colab": {
          "base_uri": "https://localhost:8080/"
        },
        "id": "04sXfHRdgT_u",
        "outputId": "06155e5b-5fa1-45cb-ec32-56378ee16d97"
      },
      "execution_count": null,
      "outputs": [
        {
          "output_type": "execute_result",
          "data": {
            "text/plain": [
              "array([[0, 6],\n",
              "       [5, 7]])"
            ]
          },
          "metadata": {},
          "execution_count": 39
        }
      ]
    },
    {
      "cell_type": "code",
      "source": [
        "x2"
      ],
      "metadata": {
        "colab": {
          "base_uri": "https://localhost:8080/"
        },
        "id": "cPanS7k5gUY1",
        "outputId": "d6f6080b-ef8f-4a53-ca6c-24e4a62c67b8"
      },
      "execution_count": null,
      "outputs": [
        {
          "output_type": "execute_result",
          "data": {
            "text/plain": [
              "array([[6, 2],\n",
              "       [8, 0]])"
            ]
          },
          "metadata": {},
          "execution_count": 40
        }
      ]
    },
    {
      "cell_type": "code",
      "source": [
        "np.dot(x1,x2)"
      ],
      "metadata": {
        "colab": {
          "base_uri": "https://localhost:8080/"
        },
        "id": "BGPtRcAxgUxj",
        "outputId": "b2ce696e-45e1-4d75-ee33-593f4005686e"
      },
      "execution_count": null,
      "outputs": [
        {
          "output_type": "execute_result",
          "data": {
            "text/plain": [
              "array([[48,  0],\n",
              "       [86, 10]])"
            ]
          },
          "metadata": {},
          "execution_count": 41
        }
      ]
    },
    {
      "cell_type": "code",
      "source": [
        "# string functions\n",
        "import numpy as np\n",
        "x=np.array([1,2,3,'name'])\n",
        "x"
      ],
      "metadata": {
        "colab": {
          "base_uri": "https://localhost:8080/"
        },
        "id": "NAjNGf-6tWNP",
        "outputId": "2c1e7c8c-40cf-4a9f-ec8b-69a185906453"
      },
      "execution_count": null,
      "outputs": [
        {
          "output_type": "execute_result",
          "data": {
            "text/plain": [
              "array(['1', '2', '3', 'name'], dtype='<U21')"
            ]
          },
          "metadata": {},
          "execution_count": 46
        }
      ]
    },
    {
      "cell_type": "code",
      "source": [
        "np.char.capitalize(x)"
      ],
      "metadata": {
        "colab": {
          "base_uri": "https://localhost:8080/"
        },
        "id": "b6KbACfotXPL",
        "outputId": "88e207a6-f0e7-47dd-a137-86a707e7f53e"
      },
      "execution_count": null,
      "outputs": [
        {
          "output_type": "execute_result",
          "data": {
            "text/plain": [
              "array(['1', '2', '3', 'Name'], dtype='<U21')"
            ]
          },
          "metadata": {},
          "execution_count": 47
        }
      ]
    },
    {
      "cell_type": "code",
      "source": [
        "np.char.center(x,10,fillchar='*')"
      ],
      "metadata": {
        "colab": {
          "base_uri": "https://localhost:8080/"
        },
        "id": "R15R30N7w2LX",
        "outputId": "f2727c7f-ce2e-49ff-ecfd-0e1bfd88886e"
      },
      "execution_count": null,
      "outputs": [
        {
          "output_type": "execute_result",
          "data": {
            "text/plain": [
              "array(['****1*****', '****2*****', '****3*****', '***name***'],\n",
              "      dtype='<U10')"
            ]
          },
          "metadata": {},
          "execution_count": 48
        }
      ]
    },
    {
      "cell_type": "code",
      "source": [
        "x=np.array([1,2,3,'data engineering'])\n",
        "x"
      ],
      "metadata": {
        "colab": {
          "base_uri": "https://localhost:8080/"
        },
        "id": "5uFFG48Fw3Fp",
        "outputId": "9d239c07-2b0a-43c6-c774-b8410054d604"
      },
      "execution_count": null,
      "outputs": [
        {
          "output_type": "execute_result",
          "data": {
            "text/plain": [
              "array(['1', '2', '3', 'data engineering'], dtype='<U21')"
            ]
          },
          "metadata": {},
          "execution_count": 51
        }
      ]
    },
    {
      "cell_type": "code",
      "source": [
        "print(np.char.upper(x))\n",
        "print(np.char.lower(x))\n",
        "print(np.char.title(x))"
      ],
      "metadata": {
        "colab": {
          "base_uri": "https://localhost:8080/"
        },
        "id": "U4T82eO1w3hB",
        "outputId": "187d1c37-f14e-4386-a3a4-2a91c3244770"
      },
      "execution_count": null,
      "outputs": [
        {
          "output_type": "stream",
          "name": "stdout",
          "text": [
            "['1' '2' '3' 'DATA ENGINEERING']\n",
            "['1' '2' '3' 'data engineering']\n",
            "['1' '2' '3' 'Data Engineering']\n"
          ]
        }
      ]
    },
    {
      "cell_type": "code",
      "source": [
        "y=np.array([\"Data Science\",\"Machine Learning\"])\n",
        "np.char.split(y,sep='a')"
      ],
      "metadata": {
        "colab": {
          "base_uri": "https://localhost:8080/"
        },
        "id": "OI80xzQIw37P",
        "outputId": "75f1cec8-51c1-4953-aa45-0f4014a036ca"
      },
      "execution_count": null,
      "outputs": [
        {
          "output_type": "execute_result",
          "data": {
            "text/plain": [
              "array([list(['D', 't', ' Science']), list(['M', 'chine Le', 'rning'])],\n",
              "      dtype=object)"
            ]
          },
          "metadata": {},
          "execution_count": 58
        }
      ]
    },
    {
      "cell_type": "code",
      "source": [
        "np.char.count(y,\"a\")"
      ],
      "metadata": {
        "colab": {
          "base_uri": "https://localhost:8080/"
        },
        "id": "fIBAyonVxlhk",
        "outputId": "5d6dc075-9946-4960-eba1-92623c136d97"
      },
      "execution_count": null,
      "outputs": [
        {
          "output_type": "execute_result",
          "data": {
            "text/plain": [
              "array([2, 2])"
            ]
          },
          "metadata": {},
          "execution_count": 59
        }
      ]
    },
    {
      "cell_type": "code",
      "source": [
        "np.char.startswith(y, \"d\")"
      ],
      "metadata": {
        "colab": {
          "base_uri": "https://localhost:8080/"
        },
        "id": "IOlHb5DixoNe",
        "outputId": "40f34245-1d8f-4851-9a49-44d65b9188c4"
      },
      "execution_count": null,
      "outputs": [
        {
          "output_type": "execute_result",
          "data": {
            "text/plain": [
              "array([False, False])"
            ]
          },
          "metadata": {},
          "execution_count": 60
        }
      ]
    },
    {
      "cell_type": "code",
      "source": [
        "np.char.replace(y,'a','xxxx')"
      ],
      "metadata": {
        "colab": {
          "base_uri": "https://localhost:8080/"
        },
        "id": "UXK5Qik_xo-L",
        "outputId": "584b0586-a00f-470e-85a7-9f54c1a9d0dd"
      },
      "execution_count": null,
      "outputs": [
        {
          "output_type": "execute_result",
          "data": {
            "text/plain": [
              "array(['Dxxxxtxxxx Science', 'Mxxxxchine Lexxxxrning'], dtype='<U22')"
            ]
          },
          "metadata": {},
          "execution_count": 62
        }
      ]
    },
    {
      "cell_type": "code",
      "source": [
        "np.char.rjust(y,20,fillchar=\"*\")"
      ],
      "metadata": {
        "colab": {
          "base_uri": "https://localhost:8080/"
        },
        "id": "Cl0WjO-Dxpfb",
        "outputId": "2080fa4b-f819-480a-b261-258fdb145c67"
      },
      "execution_count": null,
      "outputs": [
        {
          "output_type": "execute_result",
          "data": {
            "text/plain": [
              "array(['********Data Science', '****Machine Learning'], dtype='<U20')"
            ]
          },
          "metadata": {},
          "execution_count": 63
        }
      ]
    },
    {
      "cell_type": "code",
      "source": [
        "np.char.ljust(y,20,fillchar=\"*\")"
      ],
      "metadata": {
        "colab": {
          "base_uri": "https://localhost:8080/"
        },
        "id": "EZW2WT7Uxp4I",
        "outputId": "b4833d9e-b8ef-4894-8514-3b1bf47547b2"
      },
      "execution_count": null,
      "outputs": [
        {
          "output_type": "execute_result",
          "data": {
            "text/plain": [
              "array(['Data Science********', 'Machine Learning****'], dtype='<U20')"
            ]
          },
          "metadata": {},
          "execution_count": 64
        }
      ]
    },
    {
      "cell_type": "code",
      "source": [
        "# exponential function\n",
        "\n",
        "import numpy as np\n",
        "\n",
        "a = np.array([1, 2, 3, 4, 5])\n",
        "\n",
        "exp_a = np.exp(a)\n",
        "\n",
        "print(\"Original array:\", a)\n",
        "print(\"Exponential of the array:\", exp_a)"
      ],
      "metadata": {
        "colab": {
          "base_uri": "https://localhost:8080/"
        },
        "id": "u-J_5LKp0VqD",
        "outputId": "eeaa1ed8-f817-49ed-a850-177e6715acbc"
      },
      "execution_count": null,
      "outputs": [
        {
          "output_type": "stream",
          "name": "stdout",
          "text": [
            "Original array: [1 2 3 4 5]\n",
            "Exponential of the array: [  2.71828183   7.3890561   20.08553692  54.59815003 148.4131591 ]\n"
          ]
        }
      ]
    },
    {
      "cell_type": "code",
      "source": [
        "\n",
        "import numpy as np\n",
        "\n",
        "b = np.array([[1, 2, 3], [4, 5, 6]])\n",
        "\n",
        "exp_b = np.exp(b)\n",
        "\n",
        "print(\"Original 2D array:\\n\", b)\n",
        "print(\"Exponential of the 2D array:\\n\", exp_b)"
      ],
      "metadata": {
        "colab": {
          "base_uri": "https://localhost:8080/"
        },
        "id": "PTIgqF2Y0WN-",
        "outputId": "ca70f28b-ab90-4eb2-f780-94b1cc5f57f2"
      },
      "execution_count": null,
      "outputs": [
        {
          "output_type": "stream",
          "name": "stdout",
          "text": [
            "Original 2D array:\n",
            " [[1 2 3]\n",
            " [4 5 6]]\n",
            "Exponential of the 2D array:\n",
            " [[  2.71828183   7.3890561   20.08553692]\n",
            " [ 54.59815003 148.4131591  403.42879349]]\n"
          ]
        }
      ]
    },
    {
      "cell_type": "code",
      "source": [
        "#sqare roots finding\n",
        "\n",
        "import numpy as np\n",
        "a = np.array([1, 4, 7, 26, 15,7])\n",
        "\n",
        "sqrt_a = np.sqrt(a)\n",
        "\n",
        "print(\"Original array:\", a)\n",
        "print(\"Square root of the array:\", sqrt_a)"
      ],
      "metadata": {
        "colab": {
          "base_uri": "https://localhost:8080/"
        },
        "id": "7JLPLR0x0WmH",
        "outputId": "a2d70194-d4ac-43fb-a392-9f0fe0e17001"
      },
      "execution_count": null,
      "outputs": [
        {
          "output_type": "stream",
          "name": "stdout",
          "text": [
            "Original array: [ 1  4  7 26 15  7]\n",
            "Square root of the array: [1.         2.         2.64575131 5.09901951 3.87298335 2.64575131]\n"
          ]
        }
      ]
    },
    {
      "cell_type": "code",
      "source": [
        "#expo, sqrt,sin,cos,log\n",
        "\n",
        "a=np.array([2,4,6])\n",
        "\n",
        "print(\"sqrt of a:\", np.sqrt(a))\n",
        "print(\"exp of a:\", np.exp(a))\n",
        "print(\"sin of a:\", np.sin(a))\n",
        "print(\"cos of a:\", np.cos(a))\n",
        "print(\"log of a:\", np.log(a))"
      ],
      "metadata": {
        "colab": {
          "base_uri": "https://localhost:8080/"
        },
        "id": "0PP-cSq_0XGz",
        "outputId": "e8ba3078-2b19-46c2-ff48-c4d1efd94ab0"
      },
      "execution_count": null,
      "outputs": [
        {
          "output_type": "stream",
          "name": "stdout",
          "text": [
            "sqrt of a: [1.41421356 2.         2.44948974]\n",
            "exp of a: [  7.3890561   54.59815003 403.42879349]\n",
            "sin of a: [ 0.90929743 -0.7568025  -0.2794155 ]\n",
            "cos of a: [-0.41614684 -0.65364362  0.96017029]\n",
            "log of a: [0.69314718 1.38629436 1.79175947]\n"
          ]
        }
      ]
    },
    {
      "cell_type": "code",
      "source": [
        "# aggregate function\n",
        "\n",
        "a=np.array([1,2,4,5,6,7,8,9])\n",
        "print(\"Sum:\",np.sum(a))\n",
        "print(\"Minimum Value:\", np.min(a))\n",
        "print(\"Mean Value:\", np.mean(a))\n",
        "print(\"Median Value:\", np.median(a))\n",
        "print(\"Corelation Coefficient:\", np.corrcoef(a))\n",
        "print(\"Standard Deviation:\", np.std(a))\n",
        "\n"
      ],
      "metadata": {
        "colab": {
          "base_uri": "https://localhost:8080/"
        },
        "id": "a9Dt0put2Qkh",
        "outputId": "4d337223-2a34-44e3-fc8f-8892c84d8ec6"
      },
      "execution_count": null,
      "outputs": [
        {
          "output_type": "stream",
          "name": "stdout",
          "text": [
            "Sum: 42\n",
            "Minimum Value: 1\n",
            "Mean Value: 5.25\n",
            "Median Value: 5.5\n",
            "Corelation Coefficient: 1.0\n",
            "Standard Deviation: 2.6339134382131846\n"
          ]
        }
      ]
    },
    {
      "cell_type": "code",
      "source": [
        "# assignment 1\n",
        "--1\n",
        "myList = [10, 20, 30, 'apple', True, 8.10]\n",
        "\n",
        "# a. Append values 30 and 40\n",
        "myList.append(30)\n",
        "myList.append(40)\n",
        "\n",
        "# b. Reverse the elements and store in 'reversedList'\n",
        "reversedList = myList[::-1]\n",
        "\n",
        "print(\"myList:\", myList)\n",
        "print(\"reversedList:\", reversedList)"
      ],
      "metadata": {
        "id": "Yyo2XvNc2RVJ",
        "colab": {
          "base_uri": "https://localhost:8080/"
        },
        "outputId": "46245792-fdfc-43c9-c1fc-115eeabb0b84"
      },
      "execution_count": null,
      "outputs": [
        {
          "output_type": "stream",
          "name": "stdout",
          "text": [
            "myList: [10, 20, 30, 'apple', True, 8.1, 30, 40]\n",
            "reversedList: [40, 30, 8.1, True, 'apple', 30, 20, 10]\n"
          ]
        }
      ]
    },
    {
      "cell_type": "code",
      "source": [
        "# --2\n",
        "myDict = {\n",
        "    1: 'data',\n",
        "    2: 'information',\n",
        "    3: 'text'\n",
        "}\n",
        "\n",
        "# a. Eliminate the 'text' value from the dictionary\n",
        "myDict = {k: v for k, v in myDict.items() if v != 'text'}\n",
        "\n",
        "# b. Add 'features' to the dictionary\n",
        "myDict[4] = 'features'\n",
        "\n",
        "# c. Fetch the 'data' element from the dictionary and display it\n",
        "for key, value in myDict.items():\n",
        "    if value == 'data':\n",
        "        print(\"Fetched element:\", value)\n",
        "        break"
      ],
      "metadata": {
        "id": "6Y6WPXVh2Sma",
        "colab": {
          "base_uri": "https://localhost:8080/"
        },
        "outputId": "9789e9a7-a544-4b71-81bd-6d5bff8a01de"
      },
      "execution_count": null,
      "outputs": [
        {
          "output_type": "stream",
          "name": "stdout",
          "text": [
            "Fetched element: data\n"
          ]
        }
      ]
    },
    {
      "cell_type": "code",
      "source": [
        "#--3\n",
        "\n",
        "my_tuple = (1, 2, 3, 'apple', 'mango')\n",
        "print(my_tuple)"
      ],
      "metadata": {
        "colab": {
          "base_uri": "https://localhost:8080/"
        },
        "id": "GX7bKPCkCsxN",
        "outputId": "eb68e0fd-a587-4109-8dfe-2b997a7928b0"
      },
      "execution_count": null,
      "outputs": [
        {
          "output_type": "stream",
          "name": "stdout",
          "text": [
            "(1, 2, 3, 'apple', 'mango')\n"
          ]
        }
      ]
    },
    {
      "cell_type": "code",
      "source": [
        "#--4\n",
        "numeric_tuple = (10, 20, 30, 40, 50)\n",
        "\n",
        "# a. Find the minimum value\n",
        "min_value = min(numeric_tuple)\n",
        "print(\"Minimum value:\", min_value)\n",
        "\n",
        "# b. Concatenate my_tuple with numeric_tuple\n",
        "r1 = my_tuple + numeric_tuple\n",
        "print(\"Concatenated tuple (r1):\", r1)\n",
        "\n",
        "# c. Duplicate my_tuple 2 times\n",
        "newdupli = my_tuple * 2\n",
        "print(\"newdupli:\", newdupli)"
      ],
      "metadata": {
        "colab": {
          "base_uri": "https://localhost:8080/"
        },
        "id": "baCQnrZBCtU2",
        "outputId": "49d283af-c414-460c-be32-9c58917bed89"
      },
      "execution_count": null,
      "outputs": [
        {
          "output_type": "stream",
          "name": "stdout",
          "text": [
            "Minimum value: 10\n",
            "Concatenated tuple (r1): (1, 2, 3, 'apple', 'mango', 10, 20, 30, 40, 50)\n",
            "newdupli: (1, 2, 3, 'apple', 'mango', 1, 2, 3, 'apple', 'mango')\n"
          ]
        }
      ]
    },
    {
      "cell_type": "code",
      "source": [
        "#--5\n",
        "\n",
        "set1 = {1, 2, 3, 4, 5}\n",
        "set2 = {2, 3, 7, 6, 1}\n",
        "\n",
        "# a. Union of set1 and set2\n",
        "union = set1.union(set2)\n",
        "print(\"Union:\", union)\n",
        "\n",
        "# b. Intersection of set1 and set2\n",
        "intersection = set1.intersection(set2)\n",
        "print(\"Intersection:\", intersection)\n",
        "\n",
        "# c. Difference of set1 from set2\n",
        "difference = set1.difference(set2)\n",
        "print(\"Difference:\", difference)"
      ],
      "metadata": {
        "colab": {
          "base_uri": "https://localhost:8080/"
        },
        "id": "kYvx28LICtyC",
        "outputId": "80c89eea-c9c0-4ab9-c7ee-c17fcaee18d1"
      },
      "execution_count": null,
      "outputs": [
        {
          "output_type": "stream",
          "name": "stdout",
          "text": [
            "Union: {1, 2, 3, 4, 5, 6, 7}\n",
            "Intersection: {1, 2, 3}\n",
            "Difference: {4, 5}\n"
          ]
        }
      ]
    },
    {
      "cell_type": "code",
      "source": [
        "# assignment 2\n",
        "#--1\n",
        "\n",
        "import numpy as np\n",
        "matrix = np.arange(2, 11).reshape(3, 3)\n",
        "print(matrix)"
      ],
      "metadata": {
        "colab": {
          "base_uri": "https://localhost:8080/"
        },
        "id": "tjSGw7tWCuKR",
        "outputId": "4a082c76-7859-4354-f50c-1a7e13b196b1"
      },
      "execution_count": null,
      "outputs": [
        {
          "output_type": "stream",
          "name": "stdout",
          "text": [
            "[[ 2  3  4]\n",
            " [ 5  6  7]\n",
            " [ 8  9 10]]\n"
          ]
        }
      ]
    },
    {
      "cell_type": "code",
      "source": [
        "#--2\n",
        "import numpy as np\n",
        "\n",
        "user_input = input(\"Enter integers separated by spaces: \")\n",
        "int_list = list(map(int, user_input.split()))\n",
        "\n",
        "# Create a NumPy array from the integer list\n",
        "int_array = np.array(int_list)\n",
        "\n",
        "# Convert the array to float type\n",
        "float_array = int_array.astype(float)\n",
        "\n",
        "print(\"Original array:\", int_array)\n",
        "print(\"Array converted to float type:\", float_array)"
      ],
      "metadata": {
        "colab": {
          "base_uri": "https://localhost:8080/"
        },
        "id": "9a3XSGD-CukF",
        "outputId": "eb4cfded-1f57-41f3-efd9-846f784c01b2"
      },
      "execution_count": null,
      "outputs": [
        {
          "output_type": "stream",
          "name": "stdout",
          "text": [
            "Enter integers separated by spaces: 1 2 3 4\n",
            "Original array: [1 2 3 4]\n",
            "Array converted to float type: [1. 2. 3. 4.]\n"
          ]
        }
      ]
    },
    {
      "cell_type": "code",
      "source": [
        "#--3\n",
        "import numpy as np\n",
        "array = np.array([10, 20, 30])\n",
        "print(\"Original array:\", array)\n",
        "\n",
        "# Values to append\n",
        "values_to_append = np.array([40, 50, 60, 70, 80, 90])\n",
        "\n",
        "# Append values to the original array\n",
        "updated_array = np.append(array, values_to_append)\n",
        "\n",
        "# Display the result\n",
        "print(\"Updated array after appending:\", updated_array)"
      ],
      "metadata": {
        "colab": {
          "base_uri": "https://localhost:8080/"
        },
        "id": "HXQtkQgqCu56",
        "outputId": "0909a2ec-ef9e-42c0-9880-db8ba9d1897e"
      },
      "execution_count": null,
      "outputs": [
        {
          "output_type": "stream",
          "name": "stdout",
          "text": [
            "Original array: [10 20 30]\n",
            "Updated array after appending: [10 20 30 40 50 60 70 80 90]\n"
          ]
        }
      ]
    },
    {
      "cell_type": "code",
      "source": [
        "import numpy as np\n",
        "array1 = np.array([11, 22, 33])\n",
        "array2 = np.array([44,55, 66])\n",
        "\n",
        "# Add the arrays element-wise\n",
        "sumArray = array1 + array2\n",
        "\n",
        "print(\"Array 1:\", array1)\n",
        "print(\"Array 2:\", array2)\n",
        "print(\"Sum Array:\", sumArray)"
      ],
      "metadata": {
        "colab": {
          "base_uri": "https://localhost:8080/"
        },
        "id": "hR3U_xRAJdoR",
        "outputId": "f82cb4e6-67e6-4485-d5c3-28f4b28faa5c"
      },
      "execution_count": null,
      "outputs": [
        {
          "output_type": "stream",
          "name": "stdout",
          "text": [
            "Array 1: [11 22 33]\n",
            "Array 2: [44 55 66]\n",
            "Sum Array: [55 77 99]\n"
          ]
        }
      ]
    },
    {
      "cell_type": "code",
      "source": [
        "#--5\n",
        "\n",
        "import numpy as np\n",
        "array1 = np.arange(10, 100, 10).reshape(3, 3)\n",
        "print(array1)\n",
        "\n",
        "# a. Extract the 1st row from the array\n",
        "first_row = array1[0]\n",
        "print(\"\\nFirst row:\", first_row)\n",
        "\n",
        "# b. Extract the last element from the array\n",
        "last_element = array1[2, 2]\n",
        "print(\"\\nLast element:\", last_element)"
      ],
      "metadata": {
        "colab": {
          "base_uri": "https://localhost:8080/"
        },
        "id": "zO4b-dzaJeW_",
        "outputId": "68413ea8-053e-4b66-dcbf-c6d1f183bf6d"
      },
      "execution_count": null,
      "outputs": [
        {
          "output_type": "stream",
          "name": "stdout",
          "text": [
            "[[10 20 30]\n",
            " [40 50 60]\n",
            " [70 80 90]]\n",
            "\n",
            "First row: [10 20 30]\n",
            "\n",
            "Last element: 90\n"
          ]
        }
      ]
    }
  ]
}