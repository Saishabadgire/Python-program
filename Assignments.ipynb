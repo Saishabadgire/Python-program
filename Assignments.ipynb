{
  "nbformat": 4,
  "nbformat_minor": 0,
  "metadata": {
    "colab": {
      "provenance": []
    },
    "kernelspec": {
      "name": "python3",
      "display_name": "Python 3"
    },
    "language_info": {
      "name": "python"
    }
  },
  "cells": [
    {
      "cell_type": "code",
      "execution_count": null,
      "metadata": {
        "colab": {
          "base_uri": "https://localhost:8080/"
        },
        "id": "enG91T2hyMdI",
        "outputId": "2acf1eba-721d-443c-ed5d-08bcc8bac68c"
      },
      "outputs": [
        {
          "output_type": "stream",
          "name": "stdout",
          "text": [
            "[[5 5 5]\n",
            " [5 5 5]\n",
            " [5 5 5]]\n"
          ]
        }
      ],
      "source": [
        "# numpy case study\n",
        "\n",
        "# 1\n",
        "import numpy as np\n",
        "a =np.array([[5,5,5],[5,5,5],[5,5,5]])\n",
        "\n",
        "print(a)\n",
        "\n"
      ]
    },
    {
      "cell_type": "code",
      "source": [
        "#2\n",
        "\n",
        "import numpy as np\n",
        "a = np.array([[1, 2], [3, 4]])\n",
        "b = np.array([[5, 6], [7, 8]])\n",
        "c = np.array([[9, 10], [11, 12]])\n",
        "sum_array=a+b+c\n",
        "print('addition:\\n',sum_array)"
      ],
      "metadata": {
        "colab": {
          "base_uri": "https://localhost:8080/"
        },
        "id": "Or1atSmhzZ2E",
        "outputId": "224f131c-5cf3-4ec0-c8a8-528a63b7092a"
      },
      "execution_count": null,
      "outputs": [
        {
          "output_type": "stream",
          "name": "stdout",
          "text": [
            "addition:\n",
            " [[15 18]\n",
            " [21 24]]\n"
          ]
        }
      ]
    },
    {
      "cell_type": "code",
      "source": [
        "#3\n",
        "import numpy as np\n",
        "\n",
        "def top_left_sub_matrix(matrix, N, M):\n",
        "    return matrix[:N, :M]\n",
        "matrix = np.array([\n",
        "    [1, 2, 3],\n",
        "    [4, 5, 6],\n",
        "    [7, 8, 9]\n",
        "])\n",
        "\n",
        "result = top_left_sub_matrix(matrix, 2, 2)\n",
        "print(result)\n"
      ],
      "metadata": {
        "colab": {
          "base_uri": "https://localhost:8080/"
        },
        "id": "k1GHBdFKzacJ",
        "outputId": "bb77107f-b481-4e51-ceb7-8662aaa29abf"
      },
      "execution_count": null,
      "outputs": [
        {
          "output_type": "stream",
          "name": "stdout",
          "text": [
            "[[1 2]\n",
            " [4 5]]\n"
          ]
        }
      ]
    },
    {
      "cell_type": "code",
      "source": [
        "#4\n",
        "import numpy as np\n",
        "\n",
        "def sub_matrix(matrix, N, M):\n",
        "    return matrix[-N:, -M:]\n",
        "matrix = np.array([\n",
        "    [1, 2, 3],\n",
        "    [4, 5, 6],\n",
        "    [7, 8, 9]\n",
        "])\n",
        "\n",
        "result = sub_matrix(matrix, 2, 2)\n",
        "print(result)\n"
      ],
      "metadata": {
        "colab": {
          "base_uri": "https://localhost:8080/"
        },
        "id": "bmAf3c57za0W",
        "outputId": "ae645b44-a358-41fd-8432-5b4796a2df60"
      },
      "execution_count": null,
      "outputs": [
        {
          "output_type": "stream",
          "name": "stdout",
          "text": [
            "[[5 6]\n",
            " [8 9]]\n"
          ]
        }
      ]
    },
    {
      "cell_type": "code",
      "source": [
        "#5\n",
        "import numpy as np\n",
        "\n",
        "def solution(arr):\n",
        "    return {\n",
        "        'mean': float(np.mean(arr)),\n",
        "        'std_dev': float(np.std(arr))\n",
        "    }\n",
        "arr = np.array([1, 1, 1])\n",
        "result = solution(arr)\n",
        "print(result)\n"
      ],
      "metadata": {
        "colab": {
          "base_uri": "https://localhost:8080/"
        },
        "id": "gdoPCamfzbMe",
        "outputId": "e6c58ab6-3226-485c-c8d4-faf19311e379"
      },
      "execution_count": null,
      "outputs": [
        {
          "output_type": "stream",
          "name": "stdout",
          "text": [
            "{'mean': 1.0, 'std_dev': 0.0}\n"
          ]
        }
      ]
    },
    {
      "cell_type": "code",
      "source": [
        "# numpy assignment-- data stucture\n",
        "\n",
        "#1\n",
        "# Create the initial list\n",
        "myList = [10, 20, 30, 'apple', True, 8.10]\n",
        "\n",
        "# a. Append values 30 and 40\n",
        "myList.append(30)\n",
        "myList.append(40)\n",
        "\n",
        "# b. Reverse the list and store it in 'reversedList'\n",
        "reversedList = myList[::-1]\n"
      ],
      "metadata": {
        "id": "2eP9FqPqzbgd"
      },
      "execution_count": null,
      "outputs": []
    },
    {
      "cell_type": "code",
      "source": [
        "#2\n",
        "\n",
        "# Create the initial dictionary\n",
        "my_dict = {\n",
        "    1: 'data',\n",
        "    2: 'information',\n",
        "    3: 'text'\n",
        "}\n",
        "\n",
        "# a. Eliminate the 'text' value (key = 3)\n",
        "my_dict.pop(3)\n",
        "\n",
        "# b. Add 'features' to the dictionary (let's add it with a new key, e.g., 4)\n",
        "my_dict[4] = 'features'\n",
        "\n",
        "# c. Fetch the 'data' element from the dictionary\n",
        "data_value = my_dict[1]\n",
        "print(data_value)\n"
      ],
      "metadata": {
        "colab": {
          "base_uri": "https://localhost:8080/"
        },
        "id": "E4sQBFFzzb0q",
        "outputId": "d4978798-390c-4e38-d6e8-c1c078ae01d7"
      },
      "execution_count": null,
      "outputs": [
        {
          "output_type": "stream",
          "name": "stdout",
          "text": [
            "data\n"
          ]
        }
      ]
    },
    {
      "cell_type": "code",
      "source": [
        "#3\n",
        "\n",
        "my_tuple = (1, 2, 3, 'apple', 'mango')\n"
      ],
      "metadata": {
        "id": "W2mARxu91lwq"
      },
      "execution_count": null,
      "outputs": []
    },
    {
      "cell_type": "code",
      "source": [
        "#4\n",
        "\n",
        "\n",
        "numeric_tuple = (10, 20, 30, 40, 50)\n",
        "\n",
        "# a. Find the minimum value\n",
        "min_value = min(numeric_tuple)\n",
        "\n",
        "# Assuming my_tuple is already defined as:\n",
        "my_tuple = (1, 2, 3, 'apple', 'mango')\n",
        "\n",
        "# b. Concatenate my_tuple with numeric_tuple\n",
        "r1 = my_tuple + numeric_tuple\n",
        "\n",
        "# c. Duplicate my_tuple 2 times\n",
        "newdupli = my_tuple * 2\n",
        "print(\"Duplicated tuple (newdupli):\", newdupli)"
      ],
      "metadata": {
        "colab": {
          "base_uri": "https://localhost:8080/"
        },
        "id": "wJJFQX_g1mUB",
        "outputId": "6b015051-3184-4f38-8e89-8c80b4001c59"
      },
      "execution_count": null,
      "outputs": [
        {
          "output_type": "stream",
          "name": "stdout",
          "text": [
            "Duplicated tuple (newdupli): (1, 2, 3, 'apple', 'mango', 1, 2, 3, 'apple', 'mango')\n"
          ]
        }
      ]
    },
    {
      "cell_type": "code",
      "source": [
        "#5\n",
        "\n",
        "set1 = {1, 2, 3, 4, 5}\n",
        "set2 = {2, 3, 7, 6, 1}\n",
        "\n",
        "# a. Union of set1 and set2\n",
        "union_result = set1.union(set2)\n",
        "print(\"Union:\", union_result)\n",
        "\n",
        "# b. Intersection of set1 and set2\n",
        "intersection_result = set1.intersection(set2)\n",
        "print(\"Intersection:\", intersection_result)\n",
        "\n",
        "# c. Difference of set1 from set2 (elements in set1 not in set2)\n",
        "difference_result = set1.difference(set2)\n",
        "print(\"Difference:\", difference_result)\n"
      ],
      "metadata": {
        "colab": {
          "base_uri": "https://localhost:8080/"
        },
        "id": "ll5Dy2YD1m3Q",
        "outputId": "4a2ff90c-5da8-4ac1-f34c-90fc7f9c1819"
      },
      "execution_count": null,
      "outputs": [
        {
          "output_type": "stream",
          "name": "stdout",
          "text": [
            "Union: {1, 2, 3, 4, 5, 6, 7}\n",
            "Intersection: {1, 2, 3}\n",
            "Difference: {4, 5}\n"
          ]
        }
      ]
    },
    {
      "cell_type": "code",
      "source": [
        "# pandas assignment\n",
        "\n",
        "import pandas as pd"
      ],
      "metadata": {
        "id": "0dkgzv5J1nQx"
      },
      "execution_count": null,
      "outputs": []
    },
    {
      "cell_type": "code",
      "source": [
        "\n",
        "from google.colab import drive\n",
        "drive.mount('/content/drive')\n"
      ],
      "metadata": {
        "colab": {
          "base_uri": "https://localhost:8080/"
        },
        "id": "7zZIePVr20hc",
        "outputId": "5552f5e1-a74f-484c-d90f-655c55f546f4"
      },
      "execution_count": null,
      "outputs": [
        {
          "output_type": "stream",
          "name": "stdout",
          "text": [
            "Mounted at /content/drive\n"
          ]
        }
      ]
    },
    {
      "cell_type": "code",
      "source": [
        "import pandas as pd\n",
        "file_path ='/content/drive/My Drive/Colab Notebooks/dataset/customer_churn-pandas assignment - 1 .csv'\n",
        "# Load the CSV file into a DataFrame\n",
        "churn = pd.read_csv(file_path)\n",
        "\n",
        "# Display the first few rows to confirm it's loaded correctly\n",
        "churn.head()"
      ],
      "metadata": {
        "id": "XHH9pXGB2045"
      },
      "execution_count": null,
      "outputs": []
    },
    {
      "cell_type": "code",
      "source": [
        "#2\n",
        "\n",
        "# Select columns by index positions (Python uses zero-based indexing)\n",
        "newCols = churn.iloc[:, [2, 6, 8, 19]]\n",
        "\n",
        "# Display the first few rows of the new DataFrame\n",
        "newCols.head()\n"
      ],
      "metadata": {
        "id": "14MS-o1D21UA"
      },
      "execution_count": null,
      "outputs": []
    },
    {
      "cell_type": "code",
      "source": [
        "#3\n",
        "\n",
        "# Select rows from index 200 to 1000 (inclusive)\n",
        "subset_rows = churn.iloc[200:1001, :]\n",
        "\n",
        "# Display the first few rows of the result\n",
        "subset_rows.head()\n"
      ],
      "metadata": {
        "id": "iCKRaGRV21pL"
      },
      "execution_count": null,
      "outputs": []
    },
    {
      "cell_type": "code",
      "source": [
        "#4\n",
        "\n",
        "# Select rows from index 200 to 1000 (inclusive)\n",
        "subset_rows = churn.iloc[200:1001, :]\n",
        "\n",
        "# Display the first few rows of the result\n",
        "subset_rows.head()\n"
      ],
      "metadata": {
        "id": "p3vZcECp4tve"
      },
      "execution_count": null,
      "outputs": []
    },
    {
      "cell_type": "code",
      "source": [
        "#5\n",
        "\n",
        "# Display the top 100 records\n",
        "churn.head(100)\n"
      ],
      "metadata": {
        "id": "4bjLOaME4uNX"
      },
      "execution_count": null,
      "outputs": []
    },
    {
      "cell_type": "code",
      "source": [
        "#6\n",
        "\n",
        "# Display the last record\n",
        "churn.tail(1)\n"
      ],
      "metadata": {
        "id": "0ZX7AVVB4ukz"
      },
      "execution_count": null,
      "outputs": []
    },
    {
      "cell_type": "code",
      "source": [
        "#7\n",
        "\n",
        "# Sort the DataFrame by 'tenure' in descending order\n",
        "sorted_churn = churn.sort_values(by='tenure', ascending=False)\n",
        "\n",
        "# Display the top few rows to confirm\n",
        "sorted_churn.head()\n"
      ],
      "metadata": {
        "id": "7G8UE0Oo22J5"
      },
      "execution_count": null,
      "outputs": []
    },
    {
      "cell_type": "code",
      "source": [
        "#8\n",
        "\n",
        "# a. Tenure > 50 and Gender == 'Female'\n",
        "condition_a = churn[(churn['tenure'] > 50) & (churn['gender'] == 'Female')]\n",
        "print(\"Condition A:\\n\", condition_a.head())\n",
        "\n",
        "# b. Gender == 'Male' and SeniorCitizen == 0\n",
        "condition_b = churn[(churn['gender'] == 'Male') & (churn['SeniorCitizen'] == 0)]\n",
        "print(\"\\nCondition B:\\n\", condition_b.head())\n",
        "\n",
        "# c. TechSupport == 'Yes' and Churn == 'No'\n",
        "condition_c = churn[(churn['TechSupport'] == 'Yes') & (churn['Churn'] == 'No')]\n",
        "print(\"\\nCondition C:\\n\", condition_c.head())\n",
        "\n",
        "# d. Contract == 'Month-to-month' and Churn == 'Yes'\n",
        "condition_d = churn[(churn['Contract'] == 'Month-to-month') & (churn['Churn'] == 'Yes')]\n",
        "print(\"\\nCondition D:\\n\", condition_d.head())\n",
        "\n"
      ],
      "metadata": {
        "id": "KP8aAwuJ5Xwg"
      },
      "execution_count": null,
      "outputs": []
    },
    {
      "cell_type": "code",
      "source": [
        "#9\n",
        "\n",
        "count = 0\n",
        "\n",
        "# Iterate through each row using iterrows()\n",
        "for index, row in churn.iterrows():\n",
        "    if (row['gender'] == 'Male' and\n",
        "        row['SeniorCitizen'] == 1 and\n",
        "        row['TechSupport'] == 'Yes'):\n",
        "        count += 1\n",
        "\n",
        "print(\"Number of male senior citizens with tech support:\", count)\n"
      ],
      "metadata": {
        "colab": {
          "base_uri": "https://localhost:8080/"
        },
        "id": "SMio83325YLJ",
        "outputId": "f6a37b88-843a-4577-d139-41e98d0e637d"
      },
      "execution_count": null,
      "outputs": [
        {
          "output_type": "stream",
          "name": "stdout",
          "text": [
            "Number of male senior citizens with tech support: 119\n"
          ]
        }
      ]
    },
    {
      "cell_type": "code",
      "source": [
        "# oops assignment 1\n",
        "#1\n",
        "def factor(n):\n",
        "    if not isinstance(n, int) or n < 0:\n",
        "        raise ValueError(\"Input must be a non-negative integer.\")\n",
        "    result = 1\n",
        "    for i in range(2, n + 1):\n",
        "        result *= i\n",
        "    return result\n",
        "print(factor(5))\n"
      ],
      "metadata": {
        "colab": {
          "base_uri": "https://localhost:8080/"
        },
        "id": "nwV1-tWXNmIh",
        "outputId": "57a34446-f1d2-4693-d374-7c676ab5c5cc"
      },
      "execution_count": null,
      "outputs": [
        {
          "output_type": "stream",
          "name": "stdout",
          "text": [
            "120\n"
          ]
        }
      ]
    },
    {
      "cell_type": "code",
      "source": [
        "#2\n",
        "\n",
        "def check_string(user_input):\n",
        "    if 's' in user_input or 'S' in user_input:\n",
        "        print(\"The string is containing the letter ‘s’\")\n",
        "    else:\n",
        "        print(\"The string doesn’t contain the letter ‘s’\")\n",
        "check_string(\"Sunrise\")\n",
        "check_string(\"Moon\")\n"
      ],
      "metadata": {
        "colab": {
          "base_uri": "https://localhost:8080/"
        },
        "id": "k9Mmv7jeNmla",
        "outputId": "b2377dfb-3ddc-45b5-c1c3-76ea8ab1b230"
      },
      "execution_count": null,
      "outputs": [
        {
          "output_type": "stream",
          "name": "stdout",
          "text": [
            "The string is containing the letter ‘s’\n",
            "The string doesn’t contain the letter ‘s’\n"
          ]
        }
      ]
    },
    {
      "cell_type": "code",
      "source": [
        "#3\n",
        "\n",
        "class student:\n",
        "    def fun1(self):\n",
        "        self.user_input = input(\"Enter a value: \")\n",
        "        return self.user_input\n",
        "\n",
        "    def message(self):\n",
        "        print(f\"The user-defined input is: {self.user_input}\")\n",
        "s = student()\n",
        "s.fun1()\n",
        "s.message()\n"
      ],
      "metadata": {
        "colab": {
          "base_uri": "https://localhost:8080/"
        },
        "id": "-5t5t_1pNnBk",
        "outputId": "6b22d501-dbda-4c22-b230-2465b35a8c07"
      },
      "execution_count": null,
      "outputs": [
        {
          "output_type": "stream",
          "name": "stdout",
          "text": [
            "Enter a value: 12\n",
            "The user-defined input is: 12\n"
          ]
        }
      ]
    },
    {
      "cell_type": "code",
      "source": [
        "#4\n",
        "\n",
        "double_num = lambda x: x * 2\n",
        "print(double_num(50))\n",
        "print(double_num(15))\n"
      ],
      "metadata": {
        "colab": {
          "base_uri": "https://localhost:8080/"
        },
        "id": "WE0Uz6h_Nnca",
        "outputId": "d5d811cc-9053-4f2b-ff47-a3277e9423a7"
      },
      "execution_count": null,
      "outputs": [
        {
          "output_type": "stream",
          "name": "stdout",
          "text": [
            "100\n",
            "30\n"
          ]
        }
      ]
    },
    {
      "cell_type": "code",
      "source": [
        "#5\n",
        "\n",
        "\n",
        "user_input = input(\"Enter a string: \")\n",
        "\n",
        "# Remove spaces and convert to lowercase for accurate comparison\n",
        "cleaned_input = user_input.replace(\" \", \"\").lower()\n",
        "\n",
        "if cleaned_input == cleaned_input[::-1]:\n",
        "    print(\"The string is a palindrome.\")\n",
        "else:\n",
        "    print(\"The string is not a palindrome.\")\n",
        "\n"
      ],
      "metadata": {
        "colab": {
          "base_uri": "https://localhost:8080/"
        },
        "id": "r0nctqnKNoQB",
        "outputId": "c1e74a9e-5d92-4ed9-8afd-e306a17fe660"
      },
      "execution_count": null,
      "outputs": [
        {
          "output_type": "stream",
          "name": "stdout",
          "text": [
            "Enter a string: madam\n",
            "The string is a palindrome.\n"
          ]
        }
      ]
    },
    {
      "cell_type": "code",
      "source": [
        "# oops assignment 2\n",
        "#1\n",
        "class Super:\n",
        "    def fun1(self):\n",
        "        print(\"This is function 1 in the Super class.\")\n",
        "obj = Super()\n",
        "obj.fun1()\n"
      ],
      "metadata": {
        "colab": {
          "base_uri": "https://localhost:8080/"
        },
        "id": "_eAY8EBgPj4Z",
        "outputId": "572c4f9a-b1b4-444d-fdf9-9c16cbd70a80"
      },
      "execution_count": null,
      "outputs": [
        {
          "output_type": "stream",
          "name": "stdout",
          "text": [
            "This is function 1 in the Super class.\n"
          ]
        }
      ]
    },
    {
      "cell_type": "code",
      "source": [
        "#2\n",
        "#2a\n",
        "class Super:\n",
        "    def fun1(self):\n",
        "        print(\"This is function 1 in the Super class.\")\n",
        "\n",
        "class Modified_Super(Super):\n",
        "    def fun1(self):\n",
        "        print(\"This is function 1 in the Modified Super class.\")\n",
        "\n",
        "obj1 = Super()\n",
        "obj1.fun1()\n",
        "\n",
        "obj2 = Modified_Super()\n",
        "obj2.fun1()\n"
      ],
      "metadata": {
        "colab": {
          "base_uri": "https://localhost:8080/"
        },
        "id": "oZRsMLYtPkb3",
        "outputId": "7898f5b8-c99c-4d85-b88c-5c822ae2306f"
      },
      "execution_count": null,
      "outputs": [
        {
          "output_type": "stream",
          "name": "stdout",
          "text": [
            "This is function 1 in the Super class.\n",
            "This is function 1 in the Modified Super class.\n"
          ]
        }
      ]
    },
    {
      "cell_type": "code",
      "source": [
        "#2b\n",
        "class Modified_Super(Super):\n",
        "    def fun2(self):\n",
        "        print(\"This is the 2nd function from the Modified Super class.\")\n",
        "obj = Modified_Super()\n",
        "obj.fun1()\n",
        "obj.fun2()\n"
      ],
      "metadata": {
        "colab": {
          "base_uri": "https://localhost:8080/"
        },
        "id": "dv3HjRvxPkvu",
        "outputId": "d7b4c9e6-383c-4ca0-891d-089009c36068"
      },
      "execution_count": null,
      "outputs": [
        {
          "output_type": "stream",
          "name": "stdout",
          "text": [
            "This is function 1 in the Super class.\n",
            "This is the 2nd function from the Modified Super class.\n"
          ]
        }
      ]
    },
    {
      "cell_type": "code",
      "source": [
        "#2c\n",
        "\n",
        "class Super:\n",
        "    def fun1(self):\n",
        "        print(\"This is function 1 in the Super class.\")\n",
        "\n",
        "class Modified_Super(Super):\n",
        "    pass\n",
        "obj = Modified_Super()\n",
        "obj.fun1()\n"
      ],
      "metadata": {
        "colab": {
          "base_uri": "https://localhost:8080/"
        },
        "id": "ENftAMc0PlRN",
        "outputId": "d1ec02d3-e5ed-4114-8129-cfaba03b0241"
      },
      "execution_count": null,
      "outputs": [
        {
          "output_type": "stream",
          "name": "stdout",
          "text": [
            "This is function 1 in the Super class.\n"
          ]
        }
      ]
    },
    {
      "cell_type": "code",
      "source": [
        "#3\n",
        "\n",
        "\n",
        "class Demo:\n",
        "    def Hello(self, arg1, arg2=None):\n",
        "        if arg2 is None:\n",
        "            print(\"This function is only having 1 argument\")\n",
        "        else:\n",
        "            print(\"This function is having 2 arguments\")\n",
        "obj = Demo()\n",
        "obj.Hello(\"one\")\n",
        "obj.Hello(\"one\", \"two\")\n"
      ],
      "metadata": {
        "colab": {
          "base_uri": "https://localhost:8080/"
        },
        "id": "Aw_aoPbrPmKt",
        "outputId": "ebfdc4a0-ffd3-4309-c654-429aaebc18fd"
      },
      "execution_count": null,
      "outputs": [
        {
          "output_type": "stream",
          "name": "stdout",
          "text": [
            "This function is only having 1 argument\n",
            "This function is having 2 arguments\n"
          ]
        }
      ]
    },
    {
      "cell_type": "code",
      "source": [
        "#4\n",
        "\n",
        "def Sum():\n",
        "    user_input = input(\"Enter numbers separated by spaces: \")\n",
        "    numbers = [int(num) for num in user_input.split()]\n",
        "\n",
        "    total = 0\n",
        "    for num in numbers:\n",
        "        total += num\n",
        "\n",
        "    return total\n",
        "result = Sum()\n",
        "print(\"The sum is:\", result)\n"
      ],
      "metadata": {
        "colab": {
          "base_uri": "https://localhost:8080/"
        },
        "id": "qfjf2eiZPmgQ",
        "outputId": "87ee2700-80e2-4c15-cd77-066bfefc243b"
      },
      "execution_count": null,
      "outputs": [
        {
          "output_type": "stream",
          "name": "stdout",
          "text": [
            "Enter numbers separated by spaces: 1 2 3 4\n",
            "The sum is: 10\n"
          ]
        }
      ]
    },
    {
      "cell_type": "code",
      "source": [
        "#5\n",
        "\n",
        "class Encapsulation:\n",
        "    def __init__(self):\n",
        "        self.originalValue = 50  # Initialize variable in constructor\n",
        "\n",
        "    def Value(self):\n",
        "        return self.originalValue  # Return the initialized variable\n",
        "obj = Encapsulation()\n",
        "print(obj.Value())\n"
      ],
      "metadata": {
        "colab": {
          "base_uri": "https://localhost:8080/"
        },
        "id": "aAM9eR3lRcDz",
        "outputId": "5e295537-ee08-49d6-9438-e2d7c092473d"
      },
      "execution_count": null,
      "outputs": [
        {
          "output_type": "stream",
          "name": "stdout",
          "text": [
            "50\n"
          ]
        }
      ]
    },
    {
      "cell_type": "code",
      "source": [
        "# oops assignment 3\n",
        "\n",
        "#1\n",
        "\n",
        "class parent_Class:\n",
        "    num = 10\n",
        "\n",
        "class child_Class(parent_Class):\n",
        "    pass\n",
        "\n",
        "#  object of child_Class\n",
        "obj = child_Class()\n",
        "print(obj.num)\n",
        "\n"
      ],
      "metadata": {
        "colab": {
          "base_uri": "https://localhost:8080/"
        },
        "id": "jpsWRoF7Rx3E",
        "outputId": "285b45fd-0200-4df8-ba38-f3ec830db899"
      },
      "execution_count": null,
      "outputs": [
        {
          "output_type": "stream",
          "name": "stdout",
          "text": [
            "10\n"
          ]
        }
      ]
    },
    {
      "cell_type": "code",
      "source": [
        "#2\n",
        "\n",
        "\n",
        "class A:\n",
        "    def __init__(self):\n",
        "        self.name = \"saisha\"\n",
        "        self.age = 25\n",
        "\n",
        "    def details(self):\n",
        "        return self.name\n",
        "\n",
        "class B:\n",
        "    def __init__(self):\n",
        "        self.name = \"vaishu\"\n",
        "        self.id = 101\n",
        "\n",
        "    def details(self):\n",
        "        return self.name\n",
        "\n",
        "class C(A, B):\n",
        "    def __init__(self):\n",
        "        A.__init__(self)  # Explicitly calling A's constructor\n",
        "\n",
        "    def get_details(self):\n",
        "        return self.name\n",
        "\n",
        "# Create object of class C\n",
        "obj = C()\n",
        "print(obj.get_details())\n"
      ],
      "metadata": {
        "colab": {
          "base_uri": "https://localhost:8080/"
        },
        "id": "pOdBwQeNRybK",
        "outputId": "f15a56c3-b8b4-4339-a416-21accaa2734f"
      },
      "execution_count": null,
      "outputs": [
        {
          "output_type": "stream",
          "name": "stdout",
          "text": [
            "saisha\n"
          ]
        }
      ]
    },
    {
      "cell_type": "code",
      "source": [
        "#3\n",
        "\n",
        "\n",
        "class Sub1:\n",
        "    def first(self):\n",
        "        print(\"This is the first function from Sub 1 class\")\n",
        "\n",
        "class Sub2:\n",
        "    def second(self):\n",
        "        print(\"This is the second function from the Sub 2 class\")\n",
        "\n",
        "class Super(Sub1, Sub2):\n",
        "    def final(self):\n",
        "        print(\"This is the final method from the super class\")\n",
        "\n",
        "# Create an object of the Super class\n",
        "obj = Super()\n",
        "obj.first()\n",
        "obj.second()\n",
        "obj.final()\n",
        "\n"
      ],
      "metadata": {
        "colab": {
          "base_uri": "https://localhost:8080/"
        },
        "id": "9F1GokZKRy20",
        "outputId": "2b288c02-846f-476e-af37-ae68cf6005d3"
      },
      "execution_count": null,
      "outputs": [
        {
          "output_type": "stream",
          "name": "stdout",
          "text": [
            "This is the first function from Sub 1 class\n",
            "This is the second function from the Sub 2 class\n",
            "This is the final method from the super class\n"
          ]
        }
      ]
    },
    {
      "cell_type": "code",
      "source": [
        "#4\n",
        "\n",
        "class car:\n",
        "    def fun1(self):\n",
        "        print(\"This is the message from the fun1\")\n",
        "\n",
        "class bike:\n",
        "    def fun2(self):\n",
        "        print(\"This is the message from the fun2\")\n",
        "\n",
        "class scooty(car):\n",
        "    def fun3(self):\n",
        "        print(\"This is the message from the fun3\")\n",
        "\n",
        "# Create an object of Child2\n",
        "obj = scooty()\n",
        "obj.fun1()\n"
      ],
      "metadata": {
        "colab": {
          "base_uri": "https://localhost:8080/"
        },
        "id": "WEGSAgtYRzNr",
        "outputId": "2a1e648c-5e3b-446b-bca2-c641e093e752"
      },
      "execution_count": null,
      "outputs": [
        {
          "output_type": "stream",
          "name": "stdout",
          "text": [
            "This is the message from the fun1\n"
          ]
        }
      ]
    },
    {
      "cell_type": "code",
      "source": [
        "#5\n",
        "\n",
        "class Parent:\n",
        "    def fun1(self):\n",
        "        print(\"This is the message from the fun1\")\n",
        "\n",
        "class Child:\n",
        "    def fun2(self):\n",
        "        print(\"This is the message from the fun2\")\n",
        "\n",
        "class Hybrid(Parent, Child):\n",
        "    def fun3(self):\n",
        "        print(\"This is the message from the fun3\")\n",
        "\n",
        "# an object of Hybrid\n",
        "obj = Hybrid()\n",
        "\n",
        "obj.fun1()\n",
        "obj.fun2()\n",
        "obj.fun3()\n"
      ],
      "metadata": {
        "colab": {
          "base_uri": "https://localhost:8080/"
        },
        "id": "doI1XZrsRzmA",
        "outputId": "0d14771c-4582-4be4-9e79-b97f2539f124"
      },
      "execution_count": null,
      "outputs": [
        {
          "output_type": "stream",
          "name": "stdout",
          "text": [
            "This is the message from the fun1\n",
            "This is the message from the fun2\n",
            "This is the message from the fun3\n"
          ]
        }
      ]
    }
  ]
}