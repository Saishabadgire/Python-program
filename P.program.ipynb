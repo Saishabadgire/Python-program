{
 "cells": [
  {
   "cell_type": "code",
   "execution_count": 6,
   "id": "d8387cc3-0bbd-4354-98e2-ae89881ea52e",
   "metadata": {},
   "outputs": [],
   "source": [
    "a =3   # Basics\n",
    "b =4\n",
    "c =a+b\n"
   ]
  },
  {
   "cell_type": "code",
   "execution_count": 7,
   "id": "de784842-9312-496c-97f8-2a95dc0e2218",
   "metadata": {},
   "outputs": [
    {
     "data": {
      "text/plain": [
       "7"
      ]
     },
     "execution_count": 7,
     "metadata": {},
     "output_type": "execute_result"
    }
   ],
   "source": [
    "c"
   ]
  },
  {
   "cell_type": "code",
   "execution_count": 1,
   "id": "8ec38cf2-1dd8-409b-b3f5-1fafc0544c81",
   "metadata": {},
   "outputs": [
    {
     "name": "stdin",
     "output_type": "stream",
     "text": [
      "enter value of x 100\n"
     ]
    }
   ],
   "source": [
    "x=int(input(\"enter value of x\"))  #  taking input "
   ]
  },
  {
   "cell_type": "code",
   "execution_count": 2,
   "id": "df6e8c81-e3a1-47b2-8ddd-47a2430b52e4",
   "metadata": {},
   "outputs": [
    {
     "data": {
      "text/plain": [
       "int"
      ]
     },
     "execution_count": 2,
     "metadata": {},
     "output_type": "execute_result"
    }
   ],
   "source": [
    "type(x)"
   ]
  },
  {
   "cell_type": "code",
   "execution_count": 3,
   "id": "86719c86-62c5-4dab-a2e7-256ff2074723",
   "metadata": {},
   "outputs": [],
   "source": [
    "Name='victor'"
   ]
  },
  {
   "cell_type": "code",
   "execution_count": 4,
   "id": "a8bcaa04-c896-403b-ae48-d937c6e4da19",
   "metadata": {},
   "outputs": [],
   "source": [
    "salary=2000"
   ]
  },
  {
   "cell_type": "code",
   "execution_count": 5,
   "id": "f209caa4-54f7-49b3-bca5-09fac9365b04",
   "metadata": {},
   "outputs": [],
   "source": [
    "Address =\"Bangalore\""
   ]
  },
  {
   "cell_type": "code",
   "execution_count": 6,
   "id": "25d7156f-1269-4499-8498-1d7db9d66fbb",
   "metadata": {},
   "outputs": [
    {
     "name": "stdout",
     "output_type": "stream",
     "text": [
      "victor\n",
      "Bangalore\n"
     ]
    }
   ],
   "source": [
    "print(Name)\n",
    "print(Address)"
   ]
  },
  {
   "cell_type": "code",
   "execution_count": 7,
   "id": "58135851-5cc6-46b9-bddd-b3e0cdba52b5",
   "metadata": {},
   "outputs": [],
   "source": [
    "Class =\"Python Batch\""
   ]
  },
  {
   "cell_type": "code",
   "execution_count": 8,
   "id": "b1ee50b9-1407-46ca-9bac-67fad6e99191",
   "metadata": {},
   "outputs": [
    {
     "data": {
      "text/plain": [
       "'python batch'"
      ]
     },
     "execution_count": 8,
     "metadata": {},
     "output_type": "execute_result"
    }
   ],
   "source": [
    "Class.lower()"
   ]
  },
  {
   "cell_type": "code",
   "execution_count": 9,
   "id": "37cfaef4-f10d-4fc5-9389-ba76cd115161",
   "metadata": {},
   "outputs": [
    {
     "data": {
      "text/plain": [
       "'PYTHON BATCH'"
      ]
     },
     "execution_count": 9,
     "metadata": {},
     "output_type": "execute_result"
    }
   ],
   "source": [
    "Class.upper()"
   ]
  },
  {
   "cell_type": "code",
   "execution_count": 10,
   "id": "e945f239-2b99-4b6c-8e88-61b8f97b2b1b",
   "metadata": {},
   "outputs": [
    {
     "data": {
      "text/plain": [
       "'Python Batch'"
      ]
     },
     "execution_count": 10,
     "metadata": {},
     "output_type": "execute_result"
    }
   ],
   "source": [
    "Class.title()"
   ]
  },
  {
   "cell_type": "code",
   "execution_count": 11,
   "id": "9a8e1238-ac12-4f62-8a8c-935f3690c4ae",
   "metadata": {},
   "outputs": [
    {
     "data": {
      "text/plain": [
       "'Python batch'"
      ]
     },
     "execution_count": 11,
     "metadata": {},
     "output_type": "execute_result"
    }
   ],
   "source": [
    "Class.capitalize()"
   ]
  },
  {
   "cell_type": "code",
   "execution_count": 12,
   "id": "026a3191-c9a3-4fab-8912-2dba08d928c9",
   "metadata": {},
   "outputs": [
    {
     "data": {
      "text/plain": [
       "'pYTHON bATCH'"
      ]
     },
     "execution_count": 12,
     "metadata": {},
     "output_type": "execute_result"
    }
   ],
   "source": [
    "Class.swapcase()"
   ]
  },
  {
   "cell_type": "code",
   "execution_count": 13,
   "id": "9b2a1fe2-a167-4cea-9eb9-f9b5a8fd6c4f",
   "metadata": {},
   "outputs": [
    {
     "data": {
      "text/plain": [
       "False"
      ]
     },
     "execution_count": 13,
     "metadata": {},
     "output_type": "execute_result"
    }
   ],
   "source": [
    "Class.isalpha()"
   ]
  },
  {
   "cell_type": "code",
   "execution_count": 14,
   "id": "ee54dece-d30d-4f68-8da2-75372f3b559c",
   "metadata": {},
   "outputs": [
    {
     "data": {
      "text/plain": [
       "False"
      ]
     },
     "execution_count": 14,
     "metadata": {},
     "output_type": "execute_result"
    }
   ],
   "source": [
    "Class.isalnum()"
   ]
  },
  {
   "cell_type": "code",
   "execution_count": 15,
   "id": "b14932a2-60f0-4cb2-853e-f14af7ba7f33",
   "metadata": {},
   "outputs": [
    {
     "data": {
      "text/plain": [
       "True"
      ]
     },
     "execution_count": 15,
     "metadata": {},
     "output_type": "execute_result"
    }
   ],
   "source": [
    "Class.startswith(\"P\")"
   ]
  },
  {
   "cell_type": "code",
   "execution_count": 17,
   "id": "d63e0e51-a927-4999-b0da-af0175d9a588",
   "metadata": {},
   "outputs": [],
   "source": [
    "x=y=z=100"
   ]
  },
  {
   "cell_type": "code",
   "execution_count": 18,
   "id": "7fe4732c-fc5f-4a98-aa2c-4eae338ecc9a",
   "metadata": {},
   "outputs": [
    {
     "data": {
      "text/plain": [
       "100"
      ]
     },
     "execution_count": 18,
     "metadata": {},
     "output_type": "execute_result"
    }
   ],
   "source": [
    "y"
   ]
  },
  {
   "cell_type": "code",
   "execution_count": 19,
   "id": "29c9e01b-2b9f-4636-bf15-84265f038a14",
   "metadata": {},
   "outputs": [],
   "source": [
    "a =\"+91-4587555265\""
   ]
  },
  {
   "cell_type": "code",
   "execution_count": 20,
   "id": "157e876e-92c0-4bdd-beb4-acc5c862a847",
   "metadata": {},
   "outputs": [
    {
     "data": {
      "text/plain": [
       "['+91-4587555265']"
      ]
     },
     "execution_count": 20,
     "metadata": {},
     "output_type": "execute_result"
    }
   ],
   "source": [
    "a.split()"
   ]
  },
  {
   "cell_type": "code",
   "execution_count": 21,
   "id": "41a64141-d734-4d11-a16c-919cbb58f8ab",
   "metadata": {},
   "outputs": [
    {
     "data": {
      "text/plain": [
       "['+91', '4587555265']"
      ]
     },
     "execution_count": 21,
     "metadata": {},
     "output_type": "execute_result"
    }
   ],
   "source": [
    "a.split(\"-\")"
   ]
  },
  {
   "cell_type": "code",
   "execution_count": 22,
   "id": "c8c41107-a640-410c-b929-c21601fc1df4",
   "metadata": {},
   "outputs": [],
   "source": [
    "c = \"   data science   \""
   ]
  },
  {
   "cell_type": "code",
   "execution_count": 23,
   "id": "d9c6614b-f5fe-4f51-80dd-d0fd66e5579b",
   "metadata": {},
   "outputs": [
    {
     "data": {
      "text/plain": [
       "'data science'"
      ]
     },
     "execution_count": 23,
     "metadata": {},
     "output_type": "execute_result"
    }
   ],
   "source": [
    "c.strip()"
   ]
  },
  {
   "cell_type": "code",
   "execution_count": 24,
   "id": "7f0f0583-6153-4f75-9e2a-e68f06a869e4",
   "metadata": {},
   "outputs": [
    {
     "data": {
      "text/plain": [
       "'   data science'"
      ]
     },
     "execution_count": 24,
     "metadata": {},
     "output_type": "execute_result"
    }
   ],
   "source": [
    "c.rstrip()"
   ]
  },
  {
   "cell_type": "code",
   "execution_count": 25,
   "id": "b9d926c9-527d-4158-91a1-3d32cfd3fb10",
   "metadata": {},
   "outputs": [],
   "source": [
    "a = \"data\""
   ]
  },
  {
   "cell_type": "code",
   "execution_count": 26,
   "id": "c7ebd340-a945-48c5-98d5-02e394e9e92d",
   "metadata": {},
   "outputs": [
    {
     "data": {
      "text/plain": [
       "'***data***'"
      ]
     },
     "execution_count": 26,
     "metadata": {},
     "output_type": "execute_result"
    }
   ],
   "source": [
    "a.center(10,\"*\")"
   ]
  },
  {
   "cell_type": "code",
   "execution_count": 27,
   "id": "131822ab-a6bd-4ffa-9bdc-44493ac56eec",
   "metadata": {},
   "outputs": [
    {
     "name": "stdout",
     "output_type": "stream",
     "text": [
      "******data\n"
     ]
    }
   ],
   "source": [
    "print(a.rjust(10,\"*\"))"
   ]
  },
  {
   "cell_type": "code",
   "execution_count": 28,
   "id": "55becfc3-af07-4bfb-aa4f-95209583786f",
   "metadata": {},
   "outputs": [
    {
     "name": "stdout",
     "output_type": "stream",
     "text": [
      "data********\n"
     ]
    }
   ],
   "source": [
    "print(a.ljust(12,\"*\"))"
   ]
  },
  {
   "cell_type": "code",
   "execution_count": 29,
   "id": "020f2e8c-74fd-4f34-b01c-26140da4bfce",
   "metadata": {},
   "outputs": [
    {
     "data": {
      "text/plain": [
       "1"
      ]
     },
     "execution_count": 29,
     "metadata": {},
     "output_type": "execute_result"
    }
   ],
   "source": [
    "a.index(\"a\")"
   ]
  },
  {
   "cell_type": "code",
   "execution_count": 30,
   "id": "56b9d02b-f4c7-4ee8-a124-58b60d0bb228",
   "metadata": {},
   "outputs": [
    {
     "data": {
      "text/plain": [
       "'ddaadatdaada dasdacdaedaidaedandacdae'"
      ]
     },
     "execution_count": 30,
     "metadata": {},
     "output_type": "execute_result"
    }
   ],
   "source": [
    "\"da\".join(\"data sceience\")"
   ]
  },
  {
   "cell_type": "code",
   "execution_count": 31,
   "id": "ad50bad1-e85f-4811-9f12-a9d0e8ef5b22",
   "metadata": {},
   "outputs": [
    {
     "name": "stdout",
     "output_type": "stream",
     "text": [
      "******data\n"
     ]
    },
    {
     "data": {
      "text/plain": [
       "'data******'"
      ]
     },
     "execution_count": 31,
     "metadata": {},
     "output_type": "execute_result"
    }
   ],
   "source": [
    "print(a.rjust(10,\"*\"))\n",
    "a.ljust(10,\"*\")"
   ]
  },
  {
   "cell_type": "code",
   "execution_count": 32,
   "id": "5798e889-a123-412c-8ba2-7d1ba524c9eb",
   "metadata": {},
   "outputs": [
    {
     "data": {
      "text/plain": [
       "2"
      ]
     },
     "execution_count": 32,
     "metadata": {},
     "output_type": "execute_result"
    }
   ],
   "source": [
    "a.index(\"t\") "
   ]
  },
  {
   "cell_type": "code",
   "execution_count": 33,
   "id": "7880613e-ffc7-4785-8deb-f8ac2625383a",
   "metadata": {},
   "outputs": [],
   "source": [
    "x =\" Data\"        # Concatenation\n",
    "y=\"Science\""
   ]
  },
  {
   "cell_type": "code",
   "execution_count": 34,
   "id": "1f50e0d4-7847-4668-b2fa-9f4229a998b9",
   "metadata": {},
   "outputs": [
    {
     "data": {
      "text/plain": [
       "' DataScience'"
      ]
     },
     "execution_count": 34,
     "metadata": {},
     "output_type": "execute_result"
    }
   ],
   "source": [
    "x+y"
   ]
  },
  {
   "cell_type": "code",
   "execution_count": 35,
   "id": "50e1e843-8f2c-4020-b8f4-b86b85fd09c2",
   "metadata": {},
   "outputs": [
    {
     "data": {
      "text/plain": [
       "' Data Science'"
      ]
     },
     "execution_count": 35,
     "metadata": {},
     "output_type": "execute_result"
    }
   ],
   "source": [
    "x+\" \"+y"
   ]
  },
  {
   "cell_type": "code",
   "execution_count": 36,
   "id": "20ed6a40-f4dc-4a62-a320-fe050ebfbcc6",
   "metadata": {},
   "outputs": [],
   "source": [
    "s =\"machine learning\""
   ]
  },
  {
   "cell_type": "code",
   "execution_count": 37,
   "id": "3b5dfd4d-ca60-4c61-a5f0-01a46690741b",
   "metadata": {},
   "outputs": [
    {
     "data": {
      "text/plain": [
       "'MALE'"
      ]
     },
     "execution_count": 37,
     "metadata": {},
     "output_type": "execute_result"
    }
   ],
   "source": [
    "s[ :2].upper()+s[8:10].upper()"
   ]
  },
  {
   "cell_type": "code",
   "execution_count": 38,
   "id": "7b69465c-40a5-4603-838f-ea77fd99d625",
   "metadata": {},
   "outputs": [
    {
     "data": {
      "text/plain": [
       "'MANEear'"
      ]
     },
     "execution_count": 38,
     "metadata": {},
     "output_type": "execute_result"
    }
   ],
   "source": [
    "s[ :2].upper()+s[5:7].upper()+s[9:12]"
   ]
  },
  {
   "cell_type": "code",
   "execution_count": 39,
   "id": "3544d42b-9d88-4adf-919b-1df504497187",
   "metadata": {},
   "outputs": [],
   "source": [
    "topics = [\n",
    "    ['Math', ['Algebra', 'Calculus', 'Geometry']],\n",
    "    ['Science', ['Physics', 'Chemistry', 'Biology']],\n",
    "    ['Technology', ['Programming', 'Networking', 'AI']],\n",
    "    ['History', ['Ancient', 'Medieval', 'Modern']],\n",
    "    ['Art', ['Painting', 'Sculpture', 'Architecture']]\n",
    "]"
   ]
  },
  {
   "cell_type": "code",
   "execution_count": 40,
   "id": "5656c2fd-2f18-434d-97ad-8934c79167ee",
   "metadata": {},
   "outputs": [
    {
     "data": {
      "text/plain": [
       "'Modern Architecture'"
      ]
     },
     "execution_count": 40,
     "metadata": {},
     "output_type": "execute_result"
    }
   ],
   "source": [
    "topics[3][1][-1]+\" \"+topics[4][1][2]"
   ]
  },
  {
   "cell_type": "code",
   "execution_count": 41,
   "id": "98fae97f-f370-4193-a8b0-a5d9e4ef94dc",
   "metadata": {},
   "outputs": [
    {
     "data": {
      "text/plain": [
       "'GEO,Bio'"
      ]
     },
     "execution_count": 41,
     "metadata": {},
     "output_type": "execute_result"
    }
   ],
   "source": [
    "topics[0][1][2][0:3].upper()+\",\"+ topics[1][1][2][0:3]"
   ]
  },
  {
   "cell_type": "code",
   "execution_count": 42,
   "id": "4cc757df-aad6-4e31-bd5d-da6d3ebfff1e",
   "metadata": {},
   "outputs": [
    {
     "name": "stdout",
     "output_type": "stream",
     "text": [
      "66.5\n"
     ]
    },
    {
     "data": {
      "text/plain": [
       "float"
      ]
     },
     "execution_count": 42,
     "metadata": {},
     "output_type": "execute_result"
    }
   ],
   "source": [
    "#data type\n",
    "\n",
    "w=66.5\n",
    "print(w)\n",
    "type(w)"
   ]
  },
  {
   "cell_type": "code",
   "execution_count": 43,
   "id": "924cd1dc-8698-489f-a5dc-d6197400be03",
   "metadata": {},
   "outputs": [
    {
     "data": {
      "text/plain": [
       "complex"
      ]
     },
     "execution_count": 43,
     "metadata": {},
     "output_type": "execute_result"
    }
   ],
   "source": [
    "b =5+4j\n",
    "\n",
    "type(b)"
   ]
  },
  {
   "cell_type": "code",
   "execution_count": 44,
   "id": "07f9af21-9525-444f-b6e5-777c7383eed6",
   "metadata": {},
   "outputs": [
    {
     "name": "stdout",
     "output_type": "stream",
     "text": [
      "Type of a:  <class 'int'>\n",
      "\n",
      "Type of b:  <class 'float'>\n",
      "\n",
      "Type of c:  <class 'complex'>\n"
     ]
    }
   ],
   "source": [
    "a = 50\n",
    "print(\"Type of a: \", type(a))\n",
    "\n",
    "b = 43.0\n",
    "print(\"\\nType of b: \", type(b))\n",
    "\n",
    "c = 4 + 9j\n",
    "print(\"\\nType of c: \", type(c))"
   ]
  },
  {
   "cell_type": "code",
   "execution_count": 45,
   "id": "489f62ab-0a5d-4fce-9037-e146790165cb",
   "metadata": {},
   "outputs": [],
   "source": [
    "#slicing \n",
    "\n",
    "s=\"data sceince\" "
   ]
  },
  {
   "cell_type": "code",
   "execution_count": 47,
   "id": "ec83d52e-36a3-470a-8c3f-d27dca7a0540",
   "metadata": {},
   "outputs": [
    {
     "data": {
      "text/plain": [
       "'data'"
      ]
     },
     "execution_count": 47,
     "metadata": {},
     "output_type": "execute_result"
    }
   ],
   "source": [
    "s[ :4]\n"
   ]
  },
  {
   "cell_type": "code",
   "execution_count": 48,
   "id": "a9bf4b24-b727-4a30-849a-89d0ba757b86",
   "metadata": {},
   "outputs": [
    {
     "data": {
      "text/plain": [
       "'data sceince'"
      ]
     },
     "execution_count": 48,
     "metadata": {},
     "output_type": "execute_result"
    }
   ],
   "source": [
    "s[ : ]"
   ]
  },
  {
   "cell_type": "code",
   "execution_count": 49,
   "id": "b5c71c06-5bef-4e93-b4e5-906c6b3cbe95",
   "metadata": {},
   "outputs": [
    {
     "data": {
      "text/plain": [
       "'data sceince'"
      ]
     },
     "execution_count": 49,
     "metadata": {},
     "output_type": "execute_result"
    }
   ],
   "source": [
    "s[0:25]"
   ]
  },
  {
   "cell_type": "code",
   "execution_count": 50,
   "id": "ea52d96b-888f-4ef6-abbc-a47638e9468d",
   "metadata": {},
   "outputs": [
    {
     "data": {
      "text/plain": [
       "'sceince'"
      ]
     },
     "execution_count": 50,
     "metadata": {},
     "output_type": "execute_result"
    }
   ],
   "source": [
    "s[5: ]"
   ]
  },
  {
   "cell_type": "code",
   "execution_count": 51,
   "id": "60c6cada-37d3-453e-a8e5-a3dc14793983",
   "metadata": {},
   "outputs": [
    {
     "data": {
      "text/plain": [
       "'sceince'"
      ]
     },
     "execution_count": 51,
     "metadata": {},
     "output_type": "execute_result"
    }
   ],
   "source": [
    "s[5:12]"
   ]
  },
  {
   "cell_type": "code",
   "execution_count": 52,
   "id": "845f1c82-8225-42cd-930a-54277e5ddede",
   "metadata": {},
   "outputs": [],
   "source": [
    "#indexing to index\n",
    "\n",
    "s='data',9,\"2024-23\",(3+4j),[10,20,30]"
   ]
  },
  {
   "cell_type": "code",
   "execution_count": 53,
   "id": "2d6bb756-f7d5-490a-b63c-cb226af0b984",
   "metadata": {},
   "outputs": [
    {
     "data": {
      "text/plain": [
       "'da'"
      ]
     },
     "execution_count": 53,
     "metadata": {},
     "output_type": "execute_result"
    }
   ],
   "source": [
    "s[0][0:2]"
   ]
  },
  {
   "cell_type": "code",
   "execution_count": 54,
   "id": "3eb07f03-3eca-467c-a33b-6105c49ab3f6",
   "metadata": {},
   "outputs": [
    {
     "data": {
      "text/plain": [
       "'-23'"
      ]
     },
     "execution_count": 54,
     "metadata": {},
     "output_type": "execute_result"
    }
   ],
   "source": [
    "s[-3][-3: ]"
   ]
  },
  {
   "cell_type": "code",
   "execution_count": 55,
   "id": "ca6871e1-faad-4b3c-aae8-e0067b377ddd",
   "metadata": {},
   "outputs": [
    {
     "data": {
      "text/plain": [
       "'ta'"
      ]
     },
     "execution_count": 55,
     "metadata": {},
     "output_type": "execute_result"
    }
   ],
   "source": [
    "s[-5][-2: ]"
   ]
  },
  {
   "cell_type": "code",
   "execution_count": 56,
   "id": "244720d6-be2b-4dcc-a682-00c41f793f54",
   "metadata": {},
   "outputs": [
    {
     "data": {
      "text/plain": [
       "'-23'"
      ]
     },
     "execution_count": 56,
     "metadata": {},
     "output_type": "execute_result"
    }
   ],
   "source": [
    "s[2][4: ]"
   ]
  },
  {
   "cell_type": "code",
   "execution_count": 58,
   "id": "4fa28696-6156-4a71-b2bc-03ca33cc63e6",
   "metadata": {},
   "outputs": [],
   "source": [
    "#tuples\n",
    "\n",
    "weekdays=('sun','mon','tue','wed','thu','fri','sat')"
   ]
  },
  {
   "cell_type": "code",
   "execution_count": 61,
   "id": "094be9ef-60b1-4060-a5a8-665c789295f3",
   "metadata": {
    "scrolled": true
   },
   "outputs": [
    {
     "ename": "AttributeError",
     "evalue": "'tuple' object has no attribute 'append'",
     "output_type": "error",
     "traceback": [
      "\u001b[31m---------------------------------------------------------------------------\u001b[39m",
      "\u001b[31mAttributeError\u001b[39m                            Traceback (most recent call last)",
      "\u001b[36mCell\u001b[39m\u001b[36m \u001b[39m\u001b[32mIn[61]\u001b[39m\u001b[32m, line 1\u001b[39m\n\u001b[32m----> \u001b[39m\u001b[32m1\u001b[39m \u001b[43mweekdays\u001b[49m\u001b[43m.\u001b[49m\u001b[43mappend\u001b[49m[\u001b[33m'\u001b[39m\u001b[33mmercury\u001b[39m\u001b[33m'\u001b[39m]\n",
      "\u001b[31mAttributeError\u001b[39m: 'tuple' object has no attribute 'append'"
     ]
    }
   ],
   "source": [
    "weekdays.append['mercury']"
   ]
  },
  {
   "cell_type": "code",
   "execution_count": 62,
   "id": "02d505cc-9789-462d-ada7-16ce8c66c0ec",
   "metadata": {},
   "outputs": [],
   "source": [
    "#dictionary\n",
    "\n",
    "salaries={'John':15, 'Jane':14, 'Johny': 16}"
   ]
  },
  {
   "cell_type": "code",
   "execution_count": 63,
   "id": "2508bafe-ce5a-4715-a52f-5e219ff8736b",
   "metadata": {},
   "outputs": [
    {
     "data": {
      "text/plain": [
       "{'John': 15, 'Jane': 14, 'Johny': 16}"
      ]
     },
     "execution_count": 63,
     "metadata": {},
     "output_type": "execute_result"
    }
   ],
   "source": [
    "salaries"
   ]
  },
  {
   "cell_type": "code",
   "execution_count": 64,
   "id": "f719a2d3-e81e-4112-83a7-1bc98a281d03",
   "metadata": {},
   "outputs": [
    {
     "data": {
      "text/plain": [
       "15"
      ]
     },
     "execution_count": 64,
     "metadata": {},
     "output_type": "execute_result"
    }
   ],
   "source": [
    "salaries['John']"
   ]
  },
  {
   "cell_type": "markdown",
   "id": "ec5bf72a-c6dd-4c26-84cb-d5c8ebb5f5db",
   "metadata": {},
   "source": [
    "case study 1"
   ]
  },
  {
   "cell_type": "code",
   "execution_count": 70,
   "id": "3f423421-2087-402f-b848-19432306d6f2",
   "metadata": {},
   "outputs": [
    {
     "name": "stdout",
     "output_type": "stream",
     "text": [
      "First tuple: (10, 20, 30)\n",
      "Second tuple: (40, 50, 60)\n"
     ]
    }
   ],
   "source": [
    "tuple1 = (10, 20, 30)\n",
    "tuple2 = (40, 50, 60)\n",
    "\n",
    "print(\"First tuple:\", tuple1)\n",
    "print(\"Second tuple:\", tuple2)"
   ]
  },
  {
   "cell_type": "code",
   "execution_count": 71,
   "id": "8da3d632-294e-40b8-a0df-ed319231385b",
   "metadata": {},
   "outputs": [
    {
     "name": "stdout",
     "output_type": "stream",
     "text": [
      "Combined tuple: (10, 20, 30, 40, 50, 60)\n"
     ]
    }
   ],
   "source": [
    "t_combine = tuple1 + tuple2  # Concatenating the tuples\n",
    "\n",
    "print(\"Combined tuple:\", t_combine)"
   ]
  },
  {
   "cell_type": "code",
   "execution_count": 72,
   "id": "e1217d29-7524-40e5-9afd-b46ed4cf7c1e",
   "metadata": {},
   "outputs": [
    {
     "name": "stdout",
     "output_type": "stream",
     "text": [
      "Repeated tuple: (10, 20, 30, 40, 50, 60, 10, 20, 30, 40, 50, 60, 10, 20, 30, 40, 50, 60)\n"
     ]
    }
   ],
   "source": [
    "t_repeat = t_combine * 3  # Repeating elements three times\n",
    "\n",
    "print(\"Repeated tuple:\", t_repeat)"
   ]
  },
  {
   "cell_type": "code",
   "execution_count": 73,
   "id": "2bdc845d-a7dd-4073-82f7-2abceb6ba623",
   "metadata": {},
   "outputs": [
    {
     "name": "stdout",
     "output_type": "stream",
     "text": [
      "Third element: 30\n"
     ]
    }
   ],
   "source": [
    "third_element = t_combine[2]\n",
    "\n",
    "print(\"Third element:\", third_element)"
   ]
  },
  {
   "cell_type": "code",
   "execution_count": 74,
   "id": "8cb60a28-baa1-4671-9fab-793e3d6ec9e5",
   "metadata": {},
   "outputs": [
    {
     "name": "stdout",
     "output_type": "stream",
     "text": [
      "first_three_elents: (10, 20, 30)\n"
     ]
    }
   ],
   "source": [
    "three_elements = t_combine[ :3]\n",
    "\n",
    "print(\"first_three_elents:\", three_elements)"
   ]
  },
  {
   "cell_type": "code",
   "execution_count": 75,
   "id": "1f16a153-00ae-45f3-8733-a8aa23e063ed",
   "metadata": {},
   "outputs": [
    {
     "name": "stdout",
     "output_type": "stream",
     "text": [
      "last_three_elents: (40, 50, 60)\n"
     ]
    }
   ],
   "source": [
    "three_elements = t_combine[3:]\n",
    "\n",
    "print(\"last_three_elents:\", three_elements)"
   ]
  },
  {
   "cell_type": "code",
   "execution_count": 76,
   "id": "bcd0fb23-5ff3-4286-8b27-144981fb6347",
   "metadata": {},
   "outputs": [
    {
     "name": "stdout",
     "output_type": "stream",
     "text": [
      "[(1, 2, 3), ('a', 'b', 'c'), (True, False)]\n"
     ]
    }
   ],
   "source": [
    "my_list = [(1,2,3),(\"a\",\"b\",\"c\"),(True,False)]\n",
    "\n",
    "print(my_list)"
   ]
  },
  {
   "cell_type": "code",
   "execution_count": 77,
   "id": "4179f5e3-056f-4c15-a3b4-ced25304c26c",
   "metadata": {},
   "outputs": [],
   "source": [
    "fruit={'fruit':(\"apple\",\"banana\",\"mango\",\"guava\"),\n",
    "      'cost' : (85,54,120,70)}"
   ]
  },
  {
   "cell_type": "code",
   "execution_count": 78,
   "id": "133dcb03-57e9-4107-a256-bc29e6c61cbb",
   "metadata": {},
   "outputs": [
    {
     "name": "stdout",
     "output_type": "stream",
     "text": [
      "keys: ['fruit', 'cost']\n",
      "values: [('apple', 'banana', 'mango', 'guava'), (85, 54, 120, 70)]\n"
     ]
    }
   ],
   "source": [
    "keys_list=list(fruit.keys())\n",
    "print(\"keys:\",keys_list)\n",
    "\n",
    "values_list=list(fruit.values())\n",
    "print(\"values:\",values_list)"
   ]
  },
  {
   "cell_type": "code",
   "execution_count": 79,
   "id": "1b995075-318f-49b2-a544-47ff2613ddb3",
   "metadata": {},
   "outputs": [
    {
     "name": "stdout",
     "output_type": "stream",
     "text": [
      "{1, 'a'}\n"
     ]
    }
   ],
   "source": [
    "my_set = {1,1,\"a\",\"a\",True,True}\n",
    "\n",
    "print(my_set)"
   ]
  },
  {
   "cell_type": "markdown",
   "id": "519c42c0-7198-4cbb-a24c-c6e69d8dc27c",
   "metadata": {},
   "source": [
    "Operators"
   ]
  },
  {
   "cell_type": "code",
   "execution_count": 1,
   "id": "a78ca175-25c2-4c1e-9fe9-29c303bd342a",
   "metadata": {},
   "outputs": [
    {
     "name": "stdout",
     "output_type": "stream",
     "text": [
      "Adition:6+5=11\n"
     ]
    }
   ],
   "source": [
    " #.arithmatic\n",
    "x=6\n",
    "y=5\n",
    "addition=x+y\n",
    "print(f\"Adition:{x}+{y}={addition}\")"
   ]
  },
  {
   "cell_type": "code",
   "execution_count": 2,
   "id": "c4615970-048c-44d8-8bad-92d1c786fcc3",
   "metadata": {},
   "outputs": [
    {
     "name": "stdout",
     "output_type": "stream",
     "text": [
      "subtraction:6-5=1\n"
     ]
    }
   ],
   "source": [
    "subtraction=x-y\n",
    "print(f\"subtraction:{x}-{y}={subtraction}\")"
   ]
  },
  {
   "cell_type": "code",
   "execution_count": 3,
   "id": "7703ed99-cdb8-4980-9468-2251b06ac820",
   "metadata": {},
   "outputs": [
    {
     "name": "stdout",
     "output_type": "stream",
     "text": [
      "multiplication:6*5=30\n"
     ]
    }
   ],
   "source": [
    "multiplication=x*y\n",
    "print(f\"multiplication:{x}*{y}={multiplication}\")"
   ]
  },
  {
   "cell_type": "code",
   "execution_count": 4,
   "id": "ca4a06cd-4222-482a-b278-a4807e3c7acd",
   "metadata": {},
   "outputs": [
    {
     "name": "stdout",
     "output_type": "stream",
     "text": [
      "216\n"
     ]
    }
   ],
   "source": [
    "a=6\n",
    "b=3\n",
    "expn=a**b\n",
    "print(expn)"
   ]
  },
  {
   "cell_type": "code",
   "execution_count": 5,
   "id": "b1e19943-9c34-4c5a-879e-2a8ec191701e",
   "metadata": {},
   "outputs": [
    {
     "name": "stdout",
     "output_type": "stream",
     "text": [
      "3.75\n",
      "Division: 15 / 4 = 3.75\n"
     ]
    }
   ],
   "source": [
    "x= 15\n",
    "y= 4\n",
    "division = x / y\n",
    "print(division)\n",
    "print(f\"Division: {x} / {y} = {division}\")"
   ]
  },
  {
   "cell_type": "code",
   "execution_count": 6,
   "id": "24a3db9f-87b0-483e-9d16-d4c1f7f9fa56",
   "metadata": {},
   "outputs": [
    {
     "name": "stdout",
     "output_type": "stream",
     "text": [
      "Adition:40+5=45\n",
      "subtraction:40-5=1\n",
      "multiplication:40*5=200\n",
      "divison:40/5=8.0\n"
     ]
    }
   ],
   "source": [
    "a=40\n",
    "b=5\n",
    "addition=a+b\n",
    "print(f\"Adition:{a}+{b}={addition}\")\n",
    "\n",
    "substraction=a-b\n",
    "print(f\"subtraction:{a}-{b}={subtraction}\")\n",
    "\n",
    "multiplication=a*b\n",
    "print(f\"multiplication:{a}*{b}={multiplication}\")\n",
    "\n",
    "divison=a/b\n",
    "print(f\"divison:{a}/{b}={divison}\")"
   ]
  },
  {
   "cell_type": "code",
   "execution_count": 7,
   "id": "78c5c5b3-dfc2-4506-a702-3d9b0d5f5d0b",
   "metadata": {},
   "outputs": [
    {
     "name": "stdout",
     "output_type": "stream",
     "text": [
      "16\n"
     ]
    }
   ],
   "source": [
    "#Exponentiation\n",
    "\n",
    "a =2\n",
    "b=4\n",
    "c =12\n",
    "d=4\n",
    "\n",
    "expn = b**a\n",
    "print(expn)"
   ]
  },
  {
   "cell_type": "code",
   "execution_count": 8,
   "id": "8231a8b3-fb1a-4b49-b384-344986f62038",
   "metadata": {},
   "outputs": [
    {
     "name": "stdout",
     "output_type": "stream",
     "text": [
      "Modulus: 15 % 4 = 3\n"
     ]
    }
   ],
   "source": [
    "# modulus\n",
    "x= 15    \n",
    "y= 4\n",
    "modulus = x % y    \n",
    "print(f\"Modulus: {x} % {y} = {modulus}\")"
   ]
  },
  {
   "cell_type": "code",
   "execution_count": 9,
   "id": "052da594-cd5b-45c9-8fc4-431731edccd1",
   "metadata": {},
   "outputs": [
    {
     "name": "stdout",
     "output_type": "stream",
     "text": [
      "Floor division: 15 // 4 = 3\n",
      "3.75\n"
     ]
    }
   ],
   "source": [
    "#Floor Division \n",
    "x= 15\n",
    "y= 4\n",
    "division = x/y\n",
    "floor_division = x // y\n",
    "print(f\"Floor division: {x} // {y} = {floor_division}\")\n",
    "print(division)"
   ]
  },
  {
   "cell_type": "code",
   "execution_count": 10,
   "id": "fca3096c-f5d3-400d-bfce-e2dff974addd",
   "metadata": {},
   "outputs": [
    {
     "name": "stdout",
     "output_type": "stream",
     "text": [
      "3\n"
     ]
    }
   ],
   "source": [
    "# = Assignment:\n",
    "\n",
    "x=15\n",
    "\n",
    "x = 3\n",
    "\n",
    "print(x)"
   ]
  },
  {
   "cell_type": "code",
   "execution_count": 11,
   "id": "28d0c752-2940-45ee-b4c1-224b20a976f5",
   "metadata": {},
   "outputs": [
    {
     "name": "stdout",
     "output_type": "stream",
     "text": [
      "6\n",
      "3\n",
      "Value of x: 9\n",
      "3.0\n"
     ]
    }
   ],
   "source": [
    "x+= 3  \n",
    "print(x)\n",
    "\n",
    "x-=3    \n",
    "print(x)\n",
    "\n",
    "x*=3  \n",
    "print(\"Value of x:\",(x))\n",
    "\n",
    "x /= 3  \n",
    "print(x)"
   ]
  },
  {
   "cell_type": "code",
   "execution_count": 12,
   "id": "10c2a3dd-4be5-4fd2-8e12-5a7481c523ac",
   "metadata": {},
   "outputs": [
    {
     "data": {
      "text/plain": [
       "False"
      ]
     },
     "execution_count": 12,
     "metadata": {},
     "output_type": "execute_result"
    }
   ],
   "source": [
    "x=2\n",
    "y=48\n",
    "x==y"
   ]
  },
  {
   "cell_type": "code",
   "execution_count": 13,
   "id": "47aa1226-b6c2-4578-bf31-5ec3636a22ef",
   "metadata": {},
   "outputs": [
    {
     "name": "stdout",
     "output_type": "stream",
     "text": [
      "True\n",
      "False\n",
      "True\n",
      "True\n",
      "False\n"
     ]
    }
   ],
   "source": [
    " # logical\n",
    "a=5     \n",
    "b=10\n",
    "\n",
    "print(a>2 and b<15)\n",
    "print (a>2 and b<8)\n",
    "\n",
    "print (a>2 or b<15)\n",
    "print(a>2 or b<15)\n",
    "\n",
    "print(not(a>2 or b<8))"
   ]
  },
  {
   "cell_type": "code",
   "execution_count": 14,
   "id": "5da21b4a-83d4-4adc-856d-8c158e55cf26",
   "metadata": {},
   "outputs": [
    {
     "name": "stdout",
     "output_type": "stream",
     "text": [
      "True\n",
      "False\n",
      "True\n"
     ]
    }
   ],
   "source": [
    "a=[1,2,3]\n",
    "b=a\n",
    "\n",
    "c=[1,2,3]\n",
    "d=c\n",
    "\n",
    "print(a is b)\n",
    "print(a is c)\n",
    "print(a is not c)"
   ]
  },
  {
   "cell_type": "code",
   "execution_count": 15,
   "id": "23103036-606e-47ba-ae45-31951af5ec3d",
   "metadata": {},
   "outputs": [
    {
     "name": "stdout",
     "output_type": "stream",
     "text": [
      "False\n",
      "False\n"
     ]
    }
   ],
   "source": [
    "a=38\n",
    "b=45\n",
    "h=5\n",
    "print(a is b )\n",
    "print(b is h)"
   ]
  },
  {
   "cell_type": "code",
   "execution_count": 16,
   "id": "8d64d729-5a99-4928-a59a-ec0278f6b8dc",
   "metadata": {},
   "outputs": [
    {
     "name": "stdout",
     "output_type": "stream",
     "text": [
      "True\n",
      "False\n"
     ]
    }
   ],
   "source": [
    " # membership\n",
    "fruits = ['apple', 'banana', 'cherry']     \n",
    "print('banana' in fruits)   \n",
    "print('grape' in fruits)   "
   ]
  },
  {
   "cell_type": "code",
   "execution_count": 17,
   "id": "4e1115d8-17d1-4ca6-9fe2-8cc86ee913ce",
   "metadata": {},
   "outputs": [
    {
     "name": "stdout",
     "output_type": "stream",
     "text": [
      "True\n",
      "False\n"
     ]
    }
   ],
   "source": [
    "fruits = ['apple', 'banana', 'cherry']\n",
    "print('grape' not in fruits)  \n",
    "print('banana' not in fruits)"
   ]
  },
  {
   "cell_type": "code",
   "execution_count": 18,
   "id": "1987f045-7f6a-47a2-8a72-e3438afeeafc",
   "metadata": {},
   "outputs": [
    {
     "name": "stdout",
     "output_type": "stream",
     "text": [
      "5\n"
     ]
    }
   ],
   "source": [
    " #bitwise\n",
    "my_dict = {'a': 2, 'b': 3, 'a': 5}     \n",
    "print(my_dict['a'])"
   ]
  },
  {
   "cell_type": "code",
   "execution_count": 19,
   "id": "19e9c613-de30-43ba-8782-b73176451713",
   "metadata": {},
   "outputs": [
    {
     "name": "stdout",
     "output_type": "stream",
     "text": [
      "1\n",
      "0b101\n"
     ]
    }
   ],
   "source": [
    "a = 5         \n",
    "b = 3        \n",
    "result = a & b \n",
    "print(result)\n",
    "print(bin(5))"
   ]
  },
  {
   "cell_type": "code",
   "execution_count": 20,
   "id": "e3da704d-0968-4059-bff6-9c1552ca7d65",
   "metadata": {},
   "outputs": [
    {
     "name": "stdout",
     "output_type": "stream",
     "text": [
      "6\n"
     ]
    }
   ],
   "source": [
    "a = 12  \n",
    "b = 10  \n",
    "result = a ^ b  \n",
    "print(result)"
   ]
  },
  {
   "cell_type": "code",
   "execution_count": 21,
   "id": "41bf7bf1-258d-4b4b-b2d5-adf86a127761",
   "metadata": {},
   "outputs": [
    {
     "name": "stdout",
     "output_type": "stream",
     "text": [
      "71\n"
     ]
    }
   ],
   "source": [
    "b=int('1000111',2)\n",
    "print(b)"
   ]
  },
  {
   "cell_type": "code",
   "execution_count": 22,
   "id": "6f8bd92c-c8c7-4a2b-9569-c2076dee7844",
   "metadata": {},
   "outputs": [
    {
     "name": "stdout",
     "output_type": "stream",
     "text": [
      "82\n"
     ]
    }
   ],
   "source": [
    "a=int('1010010',2)\n",
    "print(a)"
   ]
  },
  {
   "cell_type": "code",
   "execution_count": 23,
   "id": "9635bef9-d3cf-481b-9d55-872ca061e332",
   "metadata": {},
   "outputs": [
    {
     "name": "stdout",
     "output_type": "stream",
     "text": [
      "7\n"
     ]
    }
   ],
   "source": [
    "a = 5   \n",
    "b = 3   \n",
    "result = a | b  \n",
    "print(result)"
   ]
  },
  {
   "cell_type": "code",
   "execution_count": 24,
   "id": "51e10744-81d2-428d-b9d8-c4893ebdba6e",
   "metadata": {},
   "outputs": [
    {
     "name": "stdout",
     "output_type": "stream",
     "text": [
      "6\n"
     ]
    }
   ],
   "source": [
    "a = 5   \n",
    "b = 3   \n",
    "result = a ^ b \n",
    "print(result)"
   ]
  },
  {
   "cell_type": "code",
   "execution_count": 25,
   "id": "2a7522a1-a72c-40c1-959a-93f3d603ffdc",
   "metadata": {},
   "outputs": [
    {
     "name": "stdout",
     "output_type": "stream",
     "text": [
      "92\n"
     ]
    },
    {
     "data": {
      "text/plain": [
       "'1011100'"
      ]
     },
     "execution_count": 25,
     "metadata": {},
     "output_type": "execute_result"
    }
   ],
   "source": [
    "b=23 \n",
    "result=b<<2\n",
    "print(result)\n",
    "bin(result)[2:]"
   ]
  },
  {
   "cell_type": "code",
   "execution_count": 26,
   "id": "c4533251-bfda-48fa-afb2-b6e4484851f7",
   "metadata": {},
   "outputs": [
    {
     "name": "stdout",
     "output_type": "stream",
     "text": [
      "1\n"
     ]
    },
    {
     "data": {
      "text/plain": [
       "'0b1'"
      ]
     },
     "execution_count": 26,
     "metadata": {},
     "output_type": "execute_result"
    }
   ],
   "source": [
    "a = 6\n",
    "result = a >> 2\n",
    "print(result)\n",
    "bin(result)"
   ]
  },
  {
   "cell_type": "code",
   "execution_count": 27,
   "id": "6524b9b0-8758-47f4-a975-9d24a9f32b41",
   "metadata": {},
   "outputs": [
    {
     "name": "stdout",
     "output_type": "stream",
     "text": [
      "1101\n"
     ]
    }
   ],
   "source": [
    "#convert to binary\n",
    "\n",
    "a = 13\n",
    "bin(a)\n",
    "\n",
    "print(bin(a)[2:])"
   ]
  },
  {
   "cell_type": "code",
   "execution_count": 28,
   "id": "b23b1420-28cd-485b-955c-edee6f8c82b5",
   "metadata": {},
   "outputs": [
    {
     "name": "stdout",
     "output_type": "stream",
     "text": [
      "1010010\n"
     ]
    }
   ],
   "source": [
    "b = 82\n",
    "bin(b)[2:0]\n",
    "print(bin(b)[2:])"
   ]
  },
  {
   "cell_type": "code",
   "execution_count": 29,
   "id": "89085300-7ed3-469d-a99b-19eaf07912a8",
   "metadata": {},
   "outputs": [],
   "source": [
    "import math  #math module"
   ]
  },
  {
   "cell_type": "code",
   "execution_count": 30,
   "id": "29a1b1d4-fcd7-4b4c-af51-ccfa19037b18",
   "metadata": {},
   "outputs": [
    {
     "data": {
      "text/plain": [
       "4"
      ]
     },
     "execution_count": 30,
     "metadata": {},
     "output_type": "execute_result"
    }
   ],
   "source": [
    "math.ceil(3.1)"
   ]
  },
  {
   "cell_type": "code",
   "execution_count": 31,
   "id": "286c629d-4d7c-4998-9232-7532bd47ec00",
   "metadata": {},
   "outputs": [
    {
     "data": {
      "text/plain": [
       "2"
      ]
     },
     "execution_count": 31,
     "metadata": {},
     "output_type": "execute_result"
    }
   ],
   "source": [
    "math.floor(2.6)"
   ]
  },
  {
   "cell_type": "code",
   "execution_count": 32,
   "id": "7894a14d-b18b-4781-a78d-c910c60efb50",
   "metadata": {},
   "outputs": [
    {
     "data": {
      "text/plain": [
       "1.4142135623730951"
      ]
     },
     "execution_count": 32,
     "metadata": {},
     "output_type": "execute_result"
    }
   ],
   "source": [
    "math.sqrt(2)"
   ]
  },
  {
   "cell_type": "code",
   "execution_count": 33,
   "id": "502b7668-fb7e-46e9-96b0-2b9dac2e3516",
   "metadata": {},
   "outputs": [
    {
     "data": {
      "text/plain": [
       "16.0"
      ]
     },
     "execution_count": 33,
     "metadata": {},
     "output_type": "execute_result"
    }
   ],
   "source": [
    "math.pow(2,4)"
   ]
  },
  {
   "cell_type": "code",
   "execution_count": 34,
   "id": "8308bddd-454e-4e52-bb21-cde732fc1a9b",
   "metadata": {},
   "outputs": [
    {
     "data": {
      "text/plain": [
       "2.718281828459045"
      ]
     },
     "execution_count": 34,
     "metadata": {},
     "output_type": "execute_result"
    }
   ],
   "source": [
    "math.e"
   ]
  },
  {
   "cell_type": "code",
   "execution_count": 35,
   "id": "240d8422-819e-44c5-9aae-0fd40afefc7b",
   "metadata": {},
   "outputs": [
    {
     "data": {
      "text/plain": [
       "3.141592653589793"
      ]
     },
     "execution_count": 35,
     "metadata": {},
     "output_type": "execute_result"
    }
   ],
   "source": [
    "math.pi"
   ]
  },
  {
   "cell_type": "code",
   "execution_count": 36,
   "id": "14b0d006-1435-4ce8-874b-661dde713b00",
   "metadata": {},
   "outputs": [
    {
     "data": {
      "text/plain": [
       "6.283185307179586"
      ]
     },
     "execution_count": 36,
     "metadata": {},
     "output_type": "execute_result"
    }
   ],
   "source": [
    "math.tau"
   ]
  },
  {
   "cell_type": "code",
   "execution_count": 37,
   "id": "aa961662-7bf5-4ee9-8d4a-6aad874937f8",
   "metadata": {},
   "outputs": [
    {
     "data": {
      "text/plain": [
       "2"
      ]
     },
     "execution_count": 37,
     "metadata": {},
     "output_type": "execute_result"
    }
   ],
   "source": [
    "math.trunc(2.9)"
   ]
  },
  {
   "cell_type": "code",
   "execution_count": 38,
   "id": "b665fc19-4cf3-4941-8ed2-76d61eebd20b",
   "metadata": {},
   "outputs": [
    {
     "data": {
      "text/plain": [
       "10.0"
      ]
     },
     "execution_count": 38,
     "metadata": {},
     "output_type": "execute_result"
    }
   ],
   "source": [
    "math.fabs(-10)"
   ]
  },
  {
   "cell_type": "code",
   "execution_count": 39,
   "id": "351ff7da-8157-483c-b3a7-41e0bcb52abc",
   "metadata": {},
   "outputs": [
    {
     "data": {
      "text/plain": [
       "3.0"
      ]
     },
     "execution_count": 39,
     "metadata": {},
     "output_type": "execute_result"
    }
   ],
   "source": [
    "math.log(8,2)"
   ]
  },
  {
   "cell_type": "code",
   "execution_count": 40,
   "id": "84d2cf80-1557-42cb-ab37-a50442042ffc",
   "metadata": {},
   "outputs": [
    {
     "data": {
      "text/plain": [
       "120"
      ]
     },
     "execution_count": 40,
     "metadata": {},
     "output_type": "execute_result"
    }
   ],
   "source": [
    "math.factorial(5)"
   ]
  },
  {
   "cell_type": "markdown",
   "id": "56c0cd3e-b9a9-4f56-9b4a-2b6331d38531",
   "metadata": {},
   "source": [
    "if condition"
   ]
  },
  {
   "cell_type": "code",
   "execution_count": 41,
   "id": "0071459e-bddc-41e2-bf4c-8404cf49d7cd",
   "metadata": {},
   "outputs": [
    {
     "name": "stdout",
     "output_type": "stream",
     "text": [
      "bring banana\n"
     ]
    }
   ],
   "source": [
    "banana=15  \n",
    "if banana <=20:\n",
    "    print(\"bring banana\")"
   ]
  },
  {
   "cell_type": "code",
   "execution_count": 42,
   "id": "5e49da34-959d-4d66-947d-63e777bd1ac3",
   "metadata": {},
   "outputs": [
    {
     "name": "stdout",
     "output_type": "stream",
     "text": [
      "a is greater than b\n"
     ]
    }
   ],
   "source": [
    "a=33\n",
    "b=200\n",
    "if a < b:\n",
    "    print(\"a is greater than b\")"
   ]
  },
  {
   "cell_type": "code",
   "execution_count": 43,
   "id": "1601e69d-4841-420e-bf44-30d018e3d09e",
   "metadata": {},
   "outputs": [
    {
     "name": "stdout",
     "output_type": "stream",
     "text": [
      "x is smaller than 5\n"
     ]
    }
   ],
   "source": [
    "x=3\n",
    "if x>5:\n",
    "    print(\"x is greater than 5\")\n",
    "else :\n",
    "    print(\"x is smaller than 5\")"
   ]
  },
  {
   "cell_type": "code",
   "execution_count": 44,
   "id": "3f27e7e9-8cce-4bb1-9364-ae41a9e84b7b",
   "metadata": {},
   "outputs": [
    {
     "name": "stdin",
     "output_type": "stream",
     "text": [
      "tomato cost per kg:\n",
      " 20\n"
     ]
    },
    {
     "name": "stdout",
     "output_type": "stream",
     "text": [
      "bring 5kg\n"
     ]
    }
   ],
   "source": [
    "tomato =int(input(\"tomato cost per kg:\\n\"))\n",
    "if tomato<40 :\n",
    "    print(\"bring 5kg\")\n",
    "elif tomato<=50 :\n",
    "    print(\"bring 10kg\")\n",
    "else:\n",
    "   print(\"bring1/2kg\")"
   ]
  },
  {
   "cell_type": "code",
   "execution_count": 45,
   "id": "caaf0229-042f-45e8-83e2-72d56cf4dacf",
   "metadata": {},
   "outputs": [
    {
     "name": "stdin",
     "output_type": "stream",
     "text": [
      " 35\n"
     ]
    },
    {
     "name": "stdout",
     "output_type": "stream",
     "text": [
      "allowed\n"
     ]
    }
   ],
   "source": [
    "age=int(input())\n",
    "has_permission=True\n",
    "if age>=18:\n",
    "    if has_permission:\n",
    "        print(\"allowed\")\n",
    "    else :\n",
    "        print(\"not allowed\")\n",
    "else:\n",
    "    if age>=13:\n",
    "        print(\"allowed with gaedian\")\n",
    "    else :\n",
    "        print(\"not allowed\")"
   ]
  },
  {
   "cell_type": "code",
   "execution_count": 46,
   "id": "8918963a-0f4a-4bf1-ad00-079b2ba61bb2",
   "metadata": {},
   "outputs": [
    {
     "name": "stdin",
     "output_type": "stream",
     "text": [
      " 65\n"
     ]
    },
    {
     "name": "stdout",
     "output_type": "stream",
     "text": [
      "grade b\n"
     ]
    }
   ],
   "source": [
    "marks=int(input())\n",
    "if marks<30:\n",
    "    print(\"fail\")\n",
    "elif marks>=35 and marks<50:\n",
    "    print(\"grade c\")\n",
    "elif marks>=50 and marks<75:\n",
    "    print(\"grade b\")\n",
    "elif marks>=75 and marks<90:\n",
    "    print(\"grade a\")\n",
    "else:\n",
    "    print(\"grade a+\")"
   ]
  },
  {
   "cell_type": "code",
   "execution_count": 47,
   "id": "89e434bb-f36a-4ca3-841f-1135f0e05203",
   "metadata": {},
   "outputs": [
    {
     "name": "stdout",
     "output_type": "stream",
     "text": [
      "science\n"
     ]
    }
   ],
   "source": [
    "x=\"Data Science\"\n",
    "if \"dt\" in x:\n",
    "    print(\"data\")\n",
    "else :\n",
    "    print(\"science\")"
   ]
  },
  {
   "cell_type": "code",
   "execution_count": 50,
   "id": "01c3c9fb-6ccd-40d3-a41f-34e67ff17560",
   "metadata": {},
   "outputs": [
    {
     "name": "stdin",
     "output_type": "stream",
     "text": [
      " 13\n"
     ]
    }
   ],
   "source": [
    "x=int(input())\n",
    "if (not(x%2==0) and (x<10)):\n",
    "    print(\"data sceince\")"
   ]
  },
  {
   "cell_type": "code",
   "execution_count": 51,
   "id": "989c2e96-1871-4d5b-869b-736d0f6d4cd7",
   "metadata": {},
   "outputs": [
    {
     "name": "stdout",
     "output_type": "stream",
     "text": [
      "x is smaller than 5\n"
     ]
    }
   ],
   "source": [
    "x=3\n",
    "if x>5:\n",
    "    print(\"x is greater than 5\")\n",
    "else :\n",
    "    print(\"x is smaller than 5\")"
   ]
  },
  {
   "cell_type": "markdown",
   "id": "4d17d5ac-5123-4d03-ae68-5d8548957b7d",
   "metadata": {},
   "source": [
    "for condition"
   ]
  },
  {
   "cell_type": "code",
   "execution_count": 52,
   "id": "f0685c7b-de8a-41d7-aba5-113d6cd828a7",
   "metadata": {},
   "outputs": [
    {
     "name": "stdout",
     "output_type": "stream",
     "text": [
      "1,2,3,4,5,a,d,"
     ]
    }
   ],
   "source": [
    "numbers ={1,2,\"a\",3,4,\"d\",5}\n",
    "\n",
    "for num in numbers:\n",
    "    print(num,end=',')"
   ]
  },
  {
   "cell_type": "code",
   "execution_count": 53,
   "id": "ca921423-da65-4018-97b1-b4ce05001908",
   "metadata": {},
   "outputs": [
    {
     "name": "stdout",
     "output_type": "stream",
     "text": [
      "d*,a*,t*,a*,s*,"
     ]
    }
   ],
   "source": [
    "for i in \"datas\":\n",
    "    print(i+\"*\",end=\",\")"
   ]
  },
  {
   "cell_type": "code",
   "execution_count": 54,
   "id": "4acdfd81-29ca-48de-b782-a91b3e64e206",
   "metadata": {},
   "outputs": [
    {
     "name": "stdout",
     "output_type": "stream",
     "text": [
      "10,20,30,40,50,"
     ]
    }
   ],
   "source": [
    "for i in [1,2,3,4,5]:\n",
    "    print(i*10,end=\",\")"
   ]
  },
  {
   "cell_type": "code",
   "execution_count": 55,
   "id": "84938287-cb3a-4656-924a-5759af1fe8d3",
   "metadata": {},
   "outputs": [
    {
     "name": "stdout",
     "output_type": "stream",
     "text": [
      "11,12,13,14,15,"
     ]
    }
   ],
   "source": [
    "for i in [1,2,3,4,5]:\n",
    "    print(i+10,end=\",\")"
   ]
  },
  {
   "cell_type": "code",
   "execution_count": 56,
   "id": "4bb735d0-4480-45d3-a902-fa4b17475596",
   "metadata": {},
   "outputs": [
    {
     "name": "stdout",
     "output_type": "stream",
     "text": [
      "2\t3\t4\t5\t6\t"
     ]
    }
   ],
   "source": [
    "for i in [1,2,3,4,5]:\n",
    "    print(i+1,end=\"\\t\")"
   ]
  },
  {
   "cell_type": "code",
   "execution_count": 57,
   "id": "9b068bb6-436d-468a-b492-edaf0a70b5cf",
   "metadata": {},
   "outputs": [
    {
     "name": "stdout",
     "output_type": "stream",
     "text": [
      "2\n",
      "3\n",
      "4\n",
      "5\n",
      "6\n"
     ]
    }
   ],
   "source": [
    "for i in [1,2,3,4,5]:\n",
    "    print(i+1,end=\"\\n\")"
   ]
  },
  {
   "cell_type": "code",
   "execution_count": 58,
   "id": "e32eec3b-288a-461c-9497-ee2c4a7a5379",
   "metadata": {},
   "outputs": [
    {
     "name": "stdout",
     "output_type": "stream",
     "text": [
      "*\n",
      "**\n",
      "***\n",
      "****\n",
      "*****\n"
     ]
    }
   ],
   "source": [
    "for i in [1,2,3,4,5]:\n",
    "    print(i*\"*\")"
   ]
  },
  {
   "cell_type": "code",
   "execution_count": 59,
   "id": "21f55d6a-d300-4852-8dc0-b654d5c18b1f",
   "metadata": {},
   "outputs": [
    {
     "name": "stdout",
     "output_type": "stream",
     "text": [
      "+\n",
      "++\n",
      "+++\n",
      "++++\n",
      "+++++\n"
     ]
    }
   ],
   "source": [
    "for i in [1,2,3,4,5]:\n",
    "    print(i*\"+\")"
   ]
  },
  {
   "cell_type": "code",
   "execution_count": 60,
   "id": "5853fe07-41bb-45a3-904e-15fc9e0c96f1",
   "metadata": {},
   "outputs": [
    {
     "name": "stdout",
     "output_type": "stream",
     "text": [
      "+++++\n",
      "++++\n",
      "+++\n",
      "++\n",
      "+\n"
     ]
    }
   ],
   "source": [
    "for i in [5,4,3,2,1]:\n",
    "    print(i*\"+\")"
   ]
  },
  {
   "cell_type": "code",
   "execution_count": 61,
   "id": "d616a8e1-057f-4106-b0d1-6ed9da460d0d",
   "metadata": {},
   "outputs": [
    {
     "name": "stdout",
     "output_type": "stream",
     "text": [
      "*****\n",
      "****\n",
      "***\n",
      "**\n",
      "*\n"
     ]
    }
   ],
   "source": [
    "for i in [5,4,3,2,1]:\n",
    "    print(i*\"*\")"
   ]
  },
  {
   "cell_type": "code",
   "execution_count": 62,
   "id": "8e3753cc-483f-4f87-be2d-9f0b289b9834",
   "metadata": {},
   "outputs": [
    {
     "name": "stdout",
     "output_type": "stream",
     "text": [
      "0,1,2,3,4,5,6,7,8,9,"
     ]
    }
   ],
   "source": [
    "for i in range(0,10):\n",
    "    print(i,end=\",\")"
   ]
  },
  {
   "cell_type": "code",
   "execution_count": 63,
   "id": "1fe06c57-2673-40db-b613-959012737117",
   "metadata": {},
   "outputs": [
    {
     "name": "stdout",
     "output_type": "stream",
     "text": [
      "0,2,4,6,8,"
     ]
    }
   ],
   "source": [
    "for i in range(0,10,2):\n",
    "    print(i,end=\",\")"
   ]
  },
  {
   "cell_type": "code",
   "execution_count": 64,
   "id": "af1a79ea-dfb8-41ff-8ded-3756629d66da",
   "metadata": {},
   "outputs": [
    {
     "name": "stdout",
     "output_type": "stream",
     "text": [
      "10,8,6,4,2,"
     ]
    }
   ],
   "source": [
    "for i in range(10,0,-2):\n",
    "    print(i,end=\",\")"
   ]
  },
  {
   "cell_type": "code",
   "execution_count": 65,
   "id": "7d9109f3-0b34-4291-a792-c052f901dd7a",
   "metadata": {},
   "outputs": [
    {
     "name": "stdout",
     "output_type": "stream",
     "text": [
      "100,99,98,97,96,95,94,93,92,91,90,89,88,87,86,85,84,83,82,81,80,79,78,77,76,75,74,73,72,71,70,69,68,67,66,65,64,63,62,61,60,59,58,57,56,55,54,53,52,51,50,49,48,47,46,45,44,43,42,41,40,39,38,37,36,35,34,33,32,31,30,29,28,27,26,25,24,23,22,21,20,19,18,17,16,15,14,13,12,11,10,9,8,7,6,5,4,3,2,1,"
     ]
    }
   ],
   "source": [
    "for i in range(100,0,-1):\n",
    "    print(i,end=\",\")"
   ]
  },
  {
   "cell_type": "code",
   "execution_count": 66,
   "id": "b736a9f9-6ff1-42dc-9d33-f12a5cbd549e",
   "metadata": {},
   "outputs": [
    {
     "name": "stdout",
     "output_type": "stream",
     "text": [
      "DATA"
     ]
    }
   ],
   "source": [
    "for i in \"DATA12345\":\n",
    "    if i.isalpha():\n",
    "       print(i,end=\"\")"
   ]
  },
  {
   "cell_type": "code",
   "execution_count": 67,
   "id": "ad0c9be9-7830-415f-8e7c-4fce5a78c876",
   "metadata": {},
   "outputs": [
    {
     "name": "stdout",
     "output_type": "stream",
     "text": [
      "12345"
     ]
    }
   ],
   "source": [
    "for i in \"DATA12345\":\n",
    "    if i.isnumeric():\n",
    "       print(i,end=\"\")"
   ]
  },
  {
   "cell_type": "code",
   "execution_count": 68,
   "id": "fc2eb863-9708-47a1-98f4-f5734ede8317",
   "metadata": {},
   "outputs": [
    {
     "name": "stdout",
     "output_type": "stream",
     "text": [
      "12345"
     ]
    }
   ],
   "source": [
    "for i in \"DATA12345\":\n",
    "    if i.isalpha()==False:\n",
    "       print(i,end=\"\")"
   ]
  },
  {
   "cell_type": "code",
   "execution_count": 69,
   "id": "891466e4-38b9-4f4a-ab34-021e0bb63d1f",
   "metadata": {},
   "outputs": [
    {
     "name": "stdout",
     "output_type": "stream",
     "text": [
      "0,0 is even number\n",
      "1,1 is odd number\n",
      "2,2 is even number\n",
      "3,3 is odd number\n",
      "4,4 is even number\n",
      "5,5 is odd number\n",
      "6,6 is even number\n",
      "7,7 is odd number\n",
      "8,8 is even number\n",
      "9,9 is odd number\n"
     ]
    }
   ],
   "source": [
    "for i in range(0,10,):\n",
    "    print(i,end=\",\")\n",
    "    if i%2==0:\n",
    "        print(i,\"is even number\")\n",
    "    else :\n",
    "        print(i,\"is odd number\")"
   ]
  },
  {
   "cell_type": "code",
   "execution_count": null,
   "id": "3c30a32b-7b3b-48b3-a031-498534dc4a75",
   "metadata": {},
   "outputs": [],
   "source": []
  }
 ],
 "metadata": {
  "kernelspec": {
   "display_name": "Python 3 (ipykernel)",
   "language": "python",
   "name": "python3"
  },
  "language_info": {
   "codemirror_mode": {
    "name": "ipython",
    "version": 3
   },
   "file_extension": ".py",
   "mimetype": "text/x-python",
   "name": "python",
   "nbconvert_exporter": "python",
   "pygments_lexer": "ipython3",
   "version": "3.13.2"
  }
 },
 "nbformat": 4,
 "nbformat_minor": 5
}
